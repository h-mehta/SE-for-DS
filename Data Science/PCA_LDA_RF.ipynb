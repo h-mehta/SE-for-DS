{
 "cells": [
  {
   "cell_type": "markdown",
   "id": "fd7768bb",
   "metadata": {},
   "source": [
    "# Shipment status prediction\n",
    "### By : Harshit Mehta\n",
    "\n",
    "### Objective:\n",
    "\n",
    "Visualizing high dimensional data using PCA and doing dimensionality reduction to check the explained variance using the PCA model. Training a Linear Discriminant Analysis(LDA) model to check if the product has been shipped or canceled.\n",
    "\n",
    "### Methodology:\n",
    "\n",
    "Have trained a PCA model to visualize higher-dimensional data and then trained various models like LDA(Linear Discriminant Analysis), PCA-LDA, Random Forest and PCA-Random Forest model to predict which of the products has been shipped and which of the products has been canceled & further performed a comparative study of the different algorihtms used."
   ]
  },
  {
   "cell_type": "markdown",
   "id": "a90b64d6",
   "metadata": {},
   "source": [
    "**Import necessary libraries**"
   ]
  },
  {
   "cell_type": "code",
   "execution_count": 1,
   "id": "b19d4b6c",
   "metadata": {},
   "outputs": [],
   "source": [
    "# importing basic libraries\n",
    "import pandas as pd\n",
    "import numpy as np\n",
    "import matplotlib.pyplot as plot"
   ]
  },
  {
   "cell_type": "code",
   "execution_count": 2,
   "id": "f4ac6484",
   "metadata": {},
   "outputs": [],
   "source": [
    "# importing neccessary libraries for PCA \n",
    "from sklearn.decomposition import PCA\n",
    "from sklearn.preprocessing import StandardScaler\n",
    "from sklearn.model_selection import train_test_split"
   ]
  },
  {
   "cell_type": "code",
   "execution_count": 3,
   "id": "c742f613",
   "metadata": {},
   "outputs": [],
   "source": [
    "# importing neccessary libraries for LDA\n",
    "from sklearn.discriminant_analysis import LinearDiscriminantAnalysis\n",
    "from sklearn.metrics import accuracy_score"
   ]
  },
  {
   "cell_type": "code",
   "execution_count": 4,
   "id": "f19c7ad3",
   "metadata": {},
   "outputs": [],
   "source": [
    "# importing neccessary libraries for RF\n",
    "from sklearn.ensemble import RandomForestClassifier"
   ]
  },
  {
   "cell_type": "markdown",
   "id": "d94952f0",
   "metadata": {},
   "source": [
    "**Display a sample of five rows of the data frame**"
   ]
  },
  {
   "cell_type": "code",
   "execution_count": 5,
   "id": "95ba8512",
   "metadata": {},
   "outputs": [
    {
     "data": {
      "text/html": [
       "<div>\n",
       "<style scoped>\n",
       "    .dataframe tbody tr th:only-of-type {\n",
       "        vertical-align: middle;\n",
       "    }\n",
       "\n",
       "    .dataframe tbody tr th {\n",
       "        vertical-align: top;\n",
       "    }\n",
       "\n",
       "    .dataframe thead th {\n",
       "        text-align: right;\n",
       "    }\n",
       "</style>\n",
       "<table border=\"1\" class=\"dataframe\">\n",
       "  <thead>\n",
       "    <tr style=\"text-align: right;\">\n",
       "      <th></th>\n",
       "      <th>ORDERNUMBER</th>\n",
       "      <th>QUANTITYORDERED</th>\n",
       "      <th>PRICEEACH</th>\n",
       "      <th>ORDERLINENUMBER</th>\n",
       "      <th>SALES</th>\n",
       "      <th>ORDERDATE</th>\n",
       "      <th>STATUS</th>\n",
       "      <th>QTR_ID</th>\n",
       "      <th>MONTH_ID</th>\n",
       "      <th>YEAR_ID</th>\n",
       "      <th>...</th>\n",
       "      <th>ADDRESSLINE1</th>\n",
       "      <th>ADDRESSLINE2</th>\n",
       "      <th>CITY</th>\n",
       "      <th>STATE</th>\n",
       "      <th>POSTALCODE</th>\n",
       "      <th>COUNTRY</th>\n",
       "      <th>TERRITORY</th>\n",
       "      <th>CONTACTLASTNAME</th>\n",
       "      <th>CONTACTFIRSTNAME</th>\n",
       "      <th>DEALSIZE</th>\n",
       "    </tr>\n",
       "  </thead>\n",
       "  <tbody>\n",
       "    <tr>\n",
       "      <th>0</th>\n",
       "      <td>10107</td>\n",
       "      <td>30</td>\n",
       "      <td>95.70</td>\n",
       "      <td>2</td>\n",
       "      <td>2871.00</td>\n",
       "      <td>2/24/2003 0:00</td>\n",
       "      <td>Shipped</td>\n",
       "      <td>1</td>\n",
       "      <td>2</td>\n",
       "      <td>2003</td>\n",
       "      <td>...</td>\n",
       "      <td>897 Long Airport Avenue</td>\n",
       "      <td>NaN</td>\n",
       "      <td>NYC</td>\n",
       "      <td>NY</td>\n",
       "      <td>10022</td>\n",
       "      <td>USA</td>\n",
       "      <td>NaN</td>\n",
       "      <td>Yu</td>\n",
       "      <td>Kwai</td>\n",
       "      <td>Small</td>\n",
       "    </tr>\n",
       "    <tr>\n",
       "      <th>1</th>\n",
       "      <td>10121</td>\n",
       "      <td>34</td>\n",
       "      <td>81.35</td>\n",
       "      <td>5</td>\n",
       "      <td>2765.90</td>\n",
       "      <td>5/7/2003 0:00</td>\n",
       "      <td>Shipped</td>\n",
       "      <td>2</td>\n",
       "      <td>5</td>\n",
       "      <td>2003</td>\n",
       "      <td>...</td>\n",
       "      <td>59 rue de l'Abbaye</td>\n",
       "      <td>NaN</td>\n",
       "      <td>Reims</td>\n",
       "      <td>NaN</td>\n",
       "      <td>51100</td>\n",
       "      <td>France</td>\n",
       "      <td>EMEA</td>\n",
       "      <td>Henriot</td>\n",
       "      <td>Paul</td>\n",
       "      <td>Small</td>\n",
       "    </tr>\n",
       "    <tr>\n",
       "      <th>2</th>\n",
       "      <td>10134</td>\n",
       "      <td>41</td>\n",
       "      <td>94.74</td>\n",
       "      <td>2</td>\n",
       "      <td>3884.34</td>\n",
       "      <td>7/1/2003 0:00</td>\n",
       "      <td>Shipped</td>\n",
       "      <td>3</td>\n",
       "      <td>7</td>\n",
       "      <td>2003</td>\n",
       "      <td>...</td>\n",
       "      <td>27 rue du Colonel Pierre Avia</td>\n",
       "      <td>NaN</td>\n",
       "      <td>Paris</td>\n",
       "      <td>NaN</td>\n",
       "      <td>75508</td>\n",
       "      <td>France</td>\n",
       "      <td>EMEA</td>\n",
       "      <td>Da Cunha</td>\n",
       "      <td>Daniel</td>\n",
       "      <td>Medium</td>\n",
       "    </tr>\n",
       "    <tr>\n",
       "      <th>3</th>\n",
       "      <td>10145</td>\n",
       "      <td>45</td>\n",
       "      <td>83.26</td>\n",
       "      <td>6</td>\n",
       "      <td>3746.70</td>\n",
       "      <td>8/25/2003 0:00</td>\n",
       "      <td>Shipped</td>\n",
       "      <td>3</td>\n",
       "      <td>8</td>\n",
       "      <td>2003</td>\n",
       "      <td>...</td>\n",
       "      <td>78934 Hillside Dr.</td>\n",
       "      <td>NaN</td>\n",
       "      <td>Pasadena</td>\n",
       "      <td>CA</td>\n",
       "      <td>90003</td>\n",
       "      <td>USA</td>\n",
       "      <td>NaN</td>\n",
       "      <td>Young</td>\n",
       "      <td>Julie</td>\n",
       "      <td>Medium</td>\n",
       "    </tr>\n",
       "    <tr>\n",
       "      <th>4</th>\n",
       "      <td>10159</td>\n",
       "      <td>49</td>\n",
       "      <td>100.00</td>\n",
       "      <td>14</td>\n",
       "      <td>5205.27</td>\n",
       "      <td>10/10/2003 0:00</td>\n",
       "      <td>Shipped</td>\n",
       "      <td>4</td>\n",
       "      <td>10</td>\n",
       "      <td>2003</td>\n",
       "      <td>...</td>\n",
       "      <td>7734 Strong St.</td>\n",
       "      <td>NaN</td>\n",
       "      <td>San Francisco</td>\n",
       "      <td>CA</td>\n",
       "      <td>NaN</td>\n",
       "      <td>USA</td>\n",
       "      <td>NaN</td>\n",
       "      <td>Brown</td>\n",
       "      <td>Julie</td>\n",
       "      <td>Medium</td>\n",
       "    </tr>\n",
       "  </tbody>\n",
       "</table>\n",
       "<p>5 rows × 25 columns</p>\n",
       "</div>"
      ],
      "text/plain": [
       "   ORDERNUMBER  QUANTITYORDERED  PRICEEACH  ORDERLINENUMBER    SALES  \\\n",
       "0        10107               30      95.70                2  2871.00   \n",
       "1        10121               34      81.35                5  2765.90   \n",
       "2        10134               41      94.74                2  3884.34   \n",
       "3        10145               45      83.26                6  3746.70   \n",
       "4        10159               49     100.00               14  5205.27   \n",
       "\n",
       "         ORDERDATE   STATUS  QTR_ID  MONTH_ID  YEAR_ID  ...  \\\n",
       "0   2/24/2003 0:00  Shipped       1         2     2003  ...   \n",
       "1    5/7/2003 0:00  Shipped       2         5     2003  ...   \n",
       "2    7/1/2003 0:00  Shipped       3         7     2003  ...   \n",
       "3   8/25/2003 0:00  Shipped       3         8     2003  ...   \n",
       "4  10/10/2003 0:00  Shipped       4        10     2003  ...   \n",
       "\n",
       "                    ADDRESSLINE1  ADDRESSLINE2           CITY STATE  \\\n",
       "0        897 Long Airport Avenue           NaN            NYC    NY   \n",
       "1             59 rue de l'Abbaye           NaN          Reims   NaN   \n",
       "2  27 rue du Colonel Pierre Avia           NaN          Paris   NaN   \n",
       "3             78934 Hillside Dr.           NaN       Pasadena    CA   \n",
       "4                7734 Strong St.           NaN  San Francisco    CA   \n",
       "\n",
       "  POSTALCODE COUNTRY TERRITORY CONTACTLASTNAME CONTACTFIRSTNAME DEALSIZE  \n",
       "0      10022     USA       NaN              Yu             Kwai    Small  \n",
       "1      51100  France      EMEA         Henriot             Paul    Small  \n",
       "2      75508  France      EMEA        Da Cunha           Daniel   Medium  \n",
       "3      90003     USA       NaN           Young            Julie   Medium  \n",
       "4        NaN     USA       NaN           Brown            Julie   Medium  \n",
       "\n",
       "[5 rows x 25 columns]"
      ]
     },
     "execution_count": 5,
     "metadata": {},
     "output_type": "execute_result"
    }
   ],
   "source": [
    "data = pd.read_csv(\"sales_data_sample.csv\")\n",
    "data.head()"
   ]
  },
  {
   "cell_type": "markdown",
   "id": "da6e1327",
   "metadata": {},
   "source": [
    "**Check the shape of the data (number of rows and columns). Check the general information about the dataframe using the .info() method.**"
   ]
  },
  {
   "cell_type": "code",
   "execution_count": 6,
   "id": "65c26394",
   "metadata": {
    "scrolled": true
   },
   "outputs": [
    {
     "data": {
      "text/plain": [
       "(2823, 25)"
      ]
     },
     "execution_count": 6,
     "metadata": {},
     "output_type": "execute_result"
    }
   ],
   "source": [
    "data.shape"
   ]
  },
  {
   "cell_type": "code",
   "execution_count": 7,
   "id": "b3dfdc44",
   "metadata": {},
   "outputs": [
    {
     "name": "stdout",
     "output_type": "stream",
     "text": [
      "<class 'pandas.core.frame.DataFrame'>\n",
      "RangeIndex: 2823 entries, 0 to 2822\n",
      "Data columns (total 25 columns):\n",
      " #   Column            Non-Null Count  Dtype  \n",
      "---  ------            --------------  -----  \n",
      " 0   ORDERNUMBER       2823 non-null   int64  \n",
      " 1   QUANTITYORDERED   2823 non-null   int64  \n",
      " 2   PRICEEACH         2823 non-null   float64\n",
      " 3   ORDERLINENUMBER   2823 non-null   int64  \n",
      " 4   SALES             2823 non-null   float64\n",
      " 5   ORDERDATE         2823 non-null   object \n",
      " 6   STATUS            2823 non-null   object \n",
      " 7   QTR_ID            2823 non-null   int64  \n",
      " 8   MONTH_ID          2823 non-null   int64  \n",
      " 9   YEAR_ID           2823 non-null   int64  \n",
      " 10  PRODUCTLINE       2823 non-null   object \n",
      " 11  MSRP              2823 non-null   int64  \n",
      " 12  PRODUCTCODE       2823 non-null   object \n",
      " 13  CUSTOMERNAME      2823 non-null   object \n",
      " 14  PHONE             2823 non-null   object \n",
      " 15  ADDRESSLINE1      2823 non-null   object \n",
      " 16  ADDRESSLINE2      302 non-null    object \n",
      " 17  CITY              2823 non-null   object \n",
      " 18  STATE             1337 non-null   object \n",
      " 19  POSTALCODE        2747 non-null   object \n",
      " 20  COUNTRY           2823 non-null   object \n",
      " 21  TERRITORY         1749 non-null   object \n",
      " 22  CONTACTLASTNAME   2823 non-null   object \n",
      " 23  CONTACTFIRSTNAME  2823 non-null   object \n",
      " 24  DEALSIZE          2823 non-null   object \n",
      "dtypes: float64(2), int64(7), object(16)\n",
      "memory usage: 551.5+ KB\n"
     ]
    }
   ],
   "source": [
    "data.info()"
   ]
  },
  {
   "cell_type": "markdown",
   "id": "34026374",
   "metadata": {},
   "source": [
    "**Check the percentage of missing values in each column of the data frame.**"
   ]
  },
  {
   "cell_type": "code",
   "execution_count": 8,
   "id": "2613caa1",
   "metadata": {
    "scrolled": false
   },
   "outputs": [
    {
     "data": {
      "text/plain": [
       "ADDRESSLINE2    89.30\n",
       "STATE           52.64\n",
       "POSTALCODE       2.69\n",
       "TERRITORY       38.04\n",
       "dtype: float64"
      ]
     },
     "execution_count": 8,
     "metadata": {},
     "output_type": "execute_result"
    }
   ],
   "source": [
    "missing = round(100 * data.isnull().sum() / len(data),2)\n",
    "missing[ missing > 0 ]"
   ]
  },
  {
   "cell_type": "markdown",
   "id": "fdcf4d76",
   "metadata": {},
   "source": [
    "**Check if there are any duplicate rows.**"
   ]
  },
  {
   "cell_type": "code",
   "execution_count": 9,
   "id": "4dfee01a",
   "metadata": {
    "scrolled": true
   },
   "outputs": [
    {
     "data": {
      "text/plain": [
       "0"
      ]
     },
     "execution_count": 9,
     "metadata": {},
     "output_type": "execute_result"
    }
   ],
   "source": [
    "len(data[data.duplicated()])"
   ]
  },
  {
   "cell_type": "markdown",
   "id": "2df34cca",
   "metadata": {},
   "source": [
    "**Write a function that will impute missing values of the columns “STATE”, “POSTALCODE”,“TERRITORY” with its most occurring label.**"
   ]
  },
  {
   "cell_type": "code",
   "execution_count": 10,
   "id": "ae9b3bf5",
   "metadata": {},
   "outputs": [
    {
     "data": {
      "text/plain": [
       "('CA', '28034', 'EMEA')"
      ]
     },
     "execution_count": 10,
     "metadata": {},
     "output_type": "execute_result"
    }
   ],
   "source": [
    "state_mode = data['STATE'].mode()[0]\n",
    "postal_mode = data['POSTALCODE'].mode()[0]\n",
    "territory_mode = data['TERRITORY'].mode()[0]\n",
    "state_mode , postal_mode , territory_mode "
   ]
  },
  {
   "cell_type": "code",
   "execution_count": 11,
   "id": "168cc6a3",
   "metadata": {},
   "outputs": [],
   "source": [
    "def impute_col(column, value):\n",
    "    data[column].fillna(value, inplace=True)"
   ]
  },
  {
   "cell_type": "code",
   "execution_count": 12,
   "id": "af4dc2ad",
   "metadata": {},
   "outputs": [],
   "source": [
    "impute_col('STATE', state_mode)\n",
    "impute_col('POSTALCODE', postal_mode)\n",
    "impute_col('TERRITORY', territory_mode)"
   ]
  },
  {
   "cell_type": "code",
   "execution_count": 13,
   "id": "06b56310",
   "metadata": {
    "scrolled": true
   },
   "outputs": [
    {
     "data": {
      "text/plain": [
       "ADDRESSLINE2    89.3\n",
       "dtype: float64"
      ]
     },
     "execution_count": 13,
     "metadata": {},
     "output_type": "execute_result"
    }
   ],
   "source": [
    "missing = round(100 * data.isnull().sum() / len(data),2)\n",
    "missing[ missing > 0 ]"
   ]
  },
  {
   "cell_type": "markdown",
   "id": "c631ac3c",
   "metadata": {},
   "source": [
    "Hence we have confirmed that the desired columns have been imputed."
   ]
  },
  {
   "cell_type": "markdown",
   "id": "90e44d59",
   "metadata": {},
   "source": [
    "**Drop “ADDRESSLINE2”,”ORDERDATE”,”PHONE” column**"
   ]
  },
  {
   "cell_type": "code",
   "execution_count": 14,
   "id": "47368f32",
   "metadata": {},
   "outputs": [
    {
     "data": {
      "text/plain": [
       "Index(['ORDERNUMBER', 'QUANTITYORDERED', 'PRICEEACH', 'ORDERLINENUMBER',\n",
       "       'SALES', 'ORDERDATE', 'STATUS', 'QTR_ID', 'MONTH_ID', 'YEAR_ID',\n",
       "       'PRODUCTLINE', 'MSRP', 'PRODUCTCODE', 'CUSTOMERNAME', 'PHONE',\n",
       "       'ADDRESSLINE1', 'ADDRESSLINE2', 'CITY', 'STATE', 'POSTALCODE',\n",
       "       'COUNTRY', 'TERRITORY', 'CONTACTLASTNAME', 'CONTACTFIRSTNAME',\n",
       "       'DEALSIZE'],\n",
       "      dtype='object')"
      ]
     },
     "execution_count": 14,
     "metadata": {},
     "output_type": "execute_result"
    }
   ],
   "source": [
    "# Checking the columns of the dataset\n",
    "data.columns"
   ]
  },
  {
   "cell_type": "code",
   "execution_count": 15,
   "id": "bd819152",
   "metadata": {},
   "outputs": [],
   "source": [
    "# Dropping the unwanted columns\n",
    "data.drop([\"ADDRESSLINE2\",\"ORDERDATE\",\"PHONE\"],axis=1,inplace=True)"
   ]
  },
  {
   "cell_type": "code",
   "execution_count": 16,
   "id": "6916ea40",
   "metadata": {},
   "outputs": [
    {
     "data": {
      "text/plain": [
       "Index(['ORDERNUMBER', 'QUANTITYORDERED', 'PRICEEACH', 'ORDERLINENUMBER',\n",
       "       'SALES', 'STATUS', 'QTR_ID', 'MONTH_ID', 'YEAR_ID', 'PRODUCTLINE',\n",
       "       'MSRP', 'PRODUCTCODE', 'CUSTOMERNAME', 'ADDRESSLINE1', 'CITY', 'STATE',\n",
       "       'POSTALCODE', 'COUNTRY', 'TERRITORY', 'CONTACTLASTNAME',\n",
       "       'CONTACTFIRSTNAME', 'DEALSIZE'],\n",
       "      dtype='object')"
      ]
     },
     "execution_count": 16,
     "metadata": {},
     "output_type": "execute_result"
    }
   ],
   "source": [
    "# Re-checking the columns of the dataset to confirm\n",
    "data.columns"
   ]
  },
  {
   "cell_type": "markdown",
   "id": "590e3724",
   "metadata": {},
   "source": [
    "**Convert the labels of the STATUS column to 0 and 1**"
   ]
  },
  {
   "cell_type": "code",
   "execution_count": 17,
   "id": "9a47c430",
   "metadata": {
    "scrolled": true
   },
   "outputs": [
    {
     "data": {
      "text/plain": [
       "Shipped       2617\n",
       "Cancelled       60\n",
       "Resolved        47\n",
       "On Hold         44\n",
       "In Process      41\n",
       "Disputed        14\n",
       "Name: STATUS, dtype: int64"
      ]
     },
     "execution_count": 17,
     "metadata": {},
     "output_type": "execute_result"
    }
   ],
   "source": [
    "data[\"STATUS\"].value_counts()"
   ]
  },
  {
   "cell_type": "code",
   "execution_count": 18,
   "id": "6ed3b67a",
   "metadata": {},
   "outputs": [
    {
     "data": {
      "text/plain": [
       "1    2617\n",
       "0     206\n",
       "Name: STATUS, dtype: int64"
      ]
     },
     "execution_count": 18,
     "metadata": {},
     "output_type": "execute_result"
    }
   ],
   "source": [
    "data[\"STATUS\"] = data[\"STATUS\"].apply(lambda x: 1 if x==\"Shipped\" else 0)\n",
    "data[\"STATUS\"].value_counts()"
   ]
  },
  {
   "cell_type": "markdown",
   "id": "1529ffdd",
   "metadata": {},
   "source": [
    "**Assign ‘STATUS’ column into a label variable and drop it from the original Dataframe**"
   ]
  },
  {
   "cell_type": "markdown",
   "id": "b7b2cef9",
   "metadata": {},
   "source": [
    "I feel this step is not needed as the \"STATUS\" column has only 2 levels - 0 or 1 - and even if I were to use pd.get_dummies() on \"STATUS\" column and drop the original column, I would get back only one column, something like \"STATUS_1\" which would be exact copy of \"STATUS\" column. As in this scenario we do not need it, I have not disturbed the \"STATUS\" column. Rather, I have dummy coded the remaining categorical columns as that needs to be done before data is fed into PCA."
   ]
  },
  {
   "cell_type": "markdown",
   "id": "f5cf35b3",
   "metadata": {},
   "source": [
    "##### One hot encoding -"
   ]
  },
  {
   "cell_type": "markdown",
   "id": "e6b0fc05",
   "metadata": {},
   "source": [
    "Converting all the categorical/label columns into one-hot encoded columns so it can be fed into PCA"
   ]
  },
  {
   "cell_type": "code",
   "execution_count": 19,
   "id": "a849c273",
   "metadata": {},
   "outputs": [
    {
     "name": "stdout",
     "output_type": "stream",
     "text": [
      "['PRODUCTLINE', 'PRODUCTCODE', 'CUSTOMERNAME', 'ADDRESSLINE1', 'CITY', 'STATE', 'POSTALCODE', 'COUNTRY', 'TERRITORY', 'CONTACTLASTNAME', 'CONTACTFIRSTNAME', 'DEALSIZE']\n"
     ]
    }
   ],
   "source": [
    "cat_variables = list(data.columns[data.dtypes == 'object'])\n",
    "print(cat_variables)"
   ]
  },
  {
   "cell_type": "code",
   "execution_count": 20,
   "id": "86e84c6a",
   "metadata": {
    "scrolled": false
   },
   "outputs": [],
   "source": [
    "for i in cat_variables:\n",
    "    data[i] = pd.Categorical(data[i])"
   ]
  },
  {
   "cell_type": "code",
   "execution_count": 21,
   "id": "b8042784",
   "metadata": {
    "scrolled": true
   },
   "outputs": [
    {
     "name": "stdout",
     "output_type": "stream",
     "text": [
      "<class 'pandas.core.frame.DataFrame'>\n",
      "RangeIndex: 2823 entries, 0 to 2822\n",
      "Data columns (total 22 columns):\n",
      " #   Column            Non-Null Count  Dtype   \n",
      "---  ------            --------------  -----   \n",
      " 0   ORDERNUMBER       2823 non-null   int64   \n",
      " 1   QUANTITYORDERED   2823 non-null   int64   \n",
      " 2   PRICEEACH         2823 non-null   float64 \n",
      " 3   ORDERLINENUMBER   2823 non-null   int64   \n",
      " 4   SALES             2823 non-null   float64 \n",
      " 5   STATUS            2823 non-null   int64   \n",
      " 6   QTR_ID            2823 non-null   int64   \n",
      " 7   MONTH_ID          2823 non-null   int64   \n",
      " 8   YEAR_ID           2823 non-null   int64   \n",
      " 9   PRODUCTLINE       2823 non-null   category\n",
      " 10  MSRP              2823 non-null   int64   \n",
      " 11  PRODUCTCODE       2823 non-null   category\n",
      " 12  CUSTOMERNAME      2823 non-null   category\n",
      " 13  ADDRESSLINE1      2823 non-null   category\n",
      " 14  CITY              2823 non-null   category\n",
      " 15  STATE             2823 non-null   category\n",
      " 16  POSTALCODE        2823 non-null   category\n",
      " 17  COUNTRY           2823 non-null   category\n",
      " 18  TERRITORY         2823 non-null   category\n",
      " 19  CONTACTLASTNAME   2823 non-null   category\n",
      " 20  CONTACTFIRSTNAME  2823 non-null   category\n",
      " 21  DEALSIZE          2823 non-null   category\n",
      "dtypes: category(12), float64(2), int64(8)\n",
      "memory usage: 276.7 KB\n"
     ]
    }
   ],
   "source": [
    "data.info()"
   ]
  },
  {
   "cell_type": "code",
   "execution_count": 22,
   "id": "01d9d316",
   "metadata": {},
   "outputs": [],
   "source": [
    "mod_data = pd.get_dummies(data, columns=cat_variables, drop_first=True)"
   ]
  },
  {
   "cell_type": "code",
   "execution_count": 23,
   "id": "57305f66",
   "metadata": {
    "scrolled": false
   },
   "outputs": [
    {
     "data": {
      "text/html": [
       "<div>\n",
       "<style scoped>\n",
       "    .dataframe tbody tr th:only-of-type {\n",
       "        vertical-align: middle;\n",
       "    }\n",
       "\n",
       "    .dataframe tbody tr th {\n",
       "        vertical-align: top;\n",
       "    }\n",
       "\n",
       "    .dataframe thead th {\n",
       "        text-align: right;\n",
       "    }\n",
       "</style>\n",
       "<table border=\"1\" class=\"dataframe\">\n",
       "  <thead>\n",
       "    <tr style=\"text-align: right;\">\n",
       "      <th></th>\n",
       "      <th>ORDERNUMBER</th>\n",
       "      <th>QUANTITYORDERED</th>\n",
       "      <th>PRICEEACH</th>\n",
       "      <th>ORDERLINENUMBER</th>\n",
       "      <th>SALES</th>\n",
       "      <th>STATUS</th>\n",
       "      <th>QTR_ID</th>\n",
       "      <th>MONTH_ID</th>\n",
       "      <th>YEAR_ID</th>\n",
       "      <th>MSRP</th>\n",
       "      <th>...</th>\n",
       "      <th>CONTACTFIRSTNAME_Valarie</th>\n",
       "      <th>CONTACTFIRSTNAME_Veysel</th>\n",
       "      <th>CONTACTFIRSTNAME_Victoria</th>\n",
       "      <th>CONTACTFIRSTNAME_Violeta</th>\n",
       "      <th>CONTACTFIRSTNAME_Wendy</th>\n",
       "      <th>CONTACTFIRSTNAME_William</th>\n",
       "      <th>CONTACTFIRSTNAME_Wing C</th>\n",
       "      <th>CONTACTFIRSTNAME_Yoshi</th>\n",
       "      <th>DEALSIZE_Medium</th>\n",
       "      <th>DEALSIZE_Small</th>\n",
       "    </tr>\n",
       "  </thead>\n",
       "  <tbody>\n",
       "    <tr>\n",
       "      <th>0</th>\n",
       "      <td>10107</td>\n",
       "      <td>30</td>\n",
       "      <td>95.70</td>\n",
       "      <td>2</td>\n",
       "      <td>2871.00</td>\n",
       "      <td>1</td>\n",
       "      <td>1</td>\n",
       "      <td>2</td>\n",
       "      <td>2003</td>\n",
       "      <td>95</td>\n",
       "      <td>...</td>\n",
       "      <td>0</td>\n",
       "      <td>0</td>\n",
       "      <td>0</td>\n",
       "      <td>0</td>\n",
       "      <td>0</td>\n",
       "      <td>0</td>\n",
       "      <td>0</td>\n",
       "      <td>0</td>\n",
       "      <td>0</td>\n",
       "      <td>1</td>\n",
       "    </tr>\n",
       "    <tr>\n",
       "      <th>1</th>\n",
       "      <td>10121</td>\n",
       "      <td>34</td>\n",
       "      <td>81.35</td>\n",
       "      <td>5</td>\n",
       "      <td>2765.90</td>\n",
       "      <td>1</td>\n",
       "      <td>2</td>\n",
       "      <td>5</td>\n",
       "      <td>2003</td>\n",
       "      <td>95</td>\n",
       "      <td>...</td>\n",
       "      <td>0</td>\n",
       "      <td>0</td>\n",
       "      <td>0</td>\n",
       "      <td>0</td>\n",
       "      <td>0</td>\n",
       "      <td>0</td>\n",
       "      <td>0</td>\n",
       "      <td>0</td>\n",
       "      <td>0</td>\n",
       "      <td>1</td>\n",
       "    </tr>\n",
       "    <tr>\n",
       "      <th>2</th>\n",
       "      <td>10134</td>\n",
       "      <td>41</td>\n",
       "      <td>94.74</td>\n",
       "      <td>2</td>\n",
       "      <td>3884.34</td>\n",
       "      <td>1</td>\n",
       "      <td>3</td>\n",
       "      <td>7</td>\n",
       "      <td>2003</td>\n",
       "      <td>95</td>\n",
       "      <td>...</td>\n",
       "      <td>0</td>\n",
       "      <td>0</td>\n",
       "      <td>0</td>\n",
       "      <td>0</td>\n",
       "      <td>0</td>\n",
       "      <td>0</td>\n",
       "      <td>0</td>\n",
       "      <td>0</td>\n",
       "      <td>1</td>\n",
       "      <td>0</td>\n",
       "    </tr>\n",
       "    <tr>\n",
       "      <th>3</th>\n",
       "      <td>10145</td>\n",
       "      <td>45</td>\n",
       "      <td>83.26</td>\n",
       "      <td>6</td>\n",
       "      <td>3746.70</td>\n",
       "      <td>1</td>\n",
       "      <td>3</td>\n",
       "      <td>8</td>\n",
       "      <td>2003</td>\n",
       "      <td>95</td>\n",
       "      <td>...</td>\n",
       "      <td>0</td>\n",
       "      <td>0</td>\n",
       "      <td>0</td>\n",
       "      <td>0</td>\n",
       "      <td>0</td>\n",
       "      <td>0</td>\n",
       "      <td>0</td>\n",
       "      <td>0</td>\n",
       "      <td>1</td>\n",
       "      <td>0</td>\n",
       "    </tr>\n",
       "    <tr>\n",
       "      <th>4</th>\n",
       "      <td>10159</td>\n",
       "      <td>49</td>\n",
       "      <td>100.00</td>\n",
       "      <td>14</td>\n",
       "      <td>5205.27</td>\n",
       "      <td>1</td>\n",
       "      <td>4</td>\n",
       "      <td>10</td>\n",
       "      <td>2003</td>\n",
       "      <td>95</td>\n",
       "      <td>...</td>\n",
       "      <td>0</td>\n",
       "      <td>0</td>\n",
       "      <td>0</td>\n",
       "      <td>0</td>\n",
       "      <td>0</td>\n",
       "      <td>0</td>\n",
       "      <td>0</td>\n",
       "      <td>0</td>\n",
       "      <td>1</td>\n",
       "      <td>0</td>\n",
       "    </tr>\n",
       "  </tbody>\n",
       "</table>\n",
       "<p>5 rows × 634 columns</p>\n",
       "</div>"
      ],
      "text/plain": [
       "   ORDERNUMBER  QUANTITYORDERED  PRICEEACH  ORDERLINENUMBER    SALES  STATUS  \\\n",
       "0        10107               30      95.70                2  2871.00       1   \n",
       "1        10121               34      81.35                5  2765.90       1   \n",
       "2        10134               41      94.74                2  3884.34       1   \n",
       "3        10145               45      83.26                6  3746.70       1   \n",
       "4        10159               49     100.00               14  5205.27       1   \n",
       "\n",
       "   QTR_ID  MONTH_ID  YEAR_ID  MSRP  ...  CONTACTFIRSTNAME_Valarie  \\\n",
       "0       1         2     2003    95  ...                         0   \n",
       "1       2         5     2003    95  ...                         0   \n",
       "2       3         7     2003    95  ...                         0   \n",
       "3       3         8     2003    95  ...                         0   \n",
       "4       4        10     2003    95  ...                         0   \n",
       "\n",
       "   CONTACTFIRSTNAME_Veysel  CONTACTFIRSTNAME_Victoria  \\\n",
       "0                        0                          0   \n",
       "1                        0                          0   \n",
       "2                        0                          0   \n",
       "3                        0                          0   \n",
       "4                        0                          0   \n",
       "\n",
       "   CONTACTFIRSTNAME_Violeta  CONTACTFIRSTNAME_Wendy  CONTACTFIRSTNAME_William  \\\n",
       "0                         0                       0                         0   \n",
       "1                         0                       0                         0   \n",
       "2                         0                       0                         0   \n",
       "3                         0                       0                         0   \n",
       "4                         0                       0                         0   \n",
       "\n",
       "   CONTACTFIRSTNAME_Wing C  CONTACTFIRSTNAME_Yoshi  DEALSIZE_Medium  \\\n",
       "0                        0                       0                0   \n",
       "1                        0                       0                0   \n",
       "2                        0                       0                1   \n",
       "3                        0                       0                1   \n",
       "4                        0                       0                1   \n",
       "\n",
       "   DEALSIZE_Small  \n",
       "0               1  \n",
       "1               1  \n",
       "2               0  \n",
       "3               0  \n",
       "4               0  \n",
       "\n",
       "[5 rows x 634 columns]"
      ]
     },
     "execution_count": 23,
     "metadata": {},
     "output_type": "execute_result"
    }
   ],
   "source": [
    "mod_data.head()"
   ]
  },
  {
   "cell_type": "markdown",
   "id": "4f15248e",
   "metadata": {},
   "source": [
    "**Use StandardScaler to scale the data**"
   ]
  },
  {
   "cell_type": "code",
   "execution_count": 24,
   "id": "b8744b2c",
   "metadata": {},
   "outputs": [],
   "source": [
    "independent_variables = list(mod_data.columns)\n",
    "independent_variables.remove(\"STATUS\")"
   ]
  },
  {
   "cell_type": "code",
   "execution_count": 25,
   "id": "30199cfe",
   "metadata": {},
   "outputs": [],
   "source": [
    "# Standardize the independent variables\n",
    "scaler = StandardScaler()\n",
    "X_scaled = scaler.fit_transform(mod_data[independent_variables])"
   ]
  },
  {
   "cell_type": "markdown",
   "id": "d764e68c",
   "metadata": {},
   "source": [
    "## PCA FOR VISUALIZATION"
   ]
  },
  {
   "cell_type": "markdown",
   "id": "e9d58b0a",
   "metadata": {},
   "source": [
    "**Take the help of PCA to reduce the data to 2 dimensions. Use n_components=2**"
   ]
  },
  {
   "cell_type": "code",
   "execution_count": 26,
   "id": "bdab2264",
   "metadata": {},
   "outputs": [],
   "source": [
    "# Create PCA object with 2 components\n",
    "pca = PCA(n_components=2)\n",
    "\n",
    "# Fit the data and transform it to 2 dimensions\n",
    "data_reduced = pca.fit_transform(X_scaled)"
   ]
  },
  {
   "cell_type": "markdown",
   "id": "5761a8b3",
   "metadata": {},
   "source": [
    "**Take the first and second principal components and plot a scatter plot with the labels**"
   ]
  },
  {
   "cell_type": "code",
   "execution_count": 27,
   "id": "81c0d89e",
   "metadata": {
    "scrolled": false
   },
   "outputs": [
    {
     "data": {
      "image/png": "[encoded data removed]",
      "text/plain": [
       "<Figure size 432x288 with 2 Axes>"
      ]
     },
     "metadata": {
      "needs_background": "light"
     },
     "output_type": "display_data"
    }
   ],
   "source": [
    "# Take the first and second principal components\n",
    "pc1 = data_reduced[:, 0]\n",
    "pc2 = data_reduced[:, 1]\n",
    "\n",
    "# Plot the scatter plot with labels\n",
    "plot.scatter(pc1, pc2, s=50, c=np.array(mod_data[\"STATUS\"]), cmap='viridis')\n",
    "plot.xlabel('Principal Component 1')\n",
    "plot.ylabel('Principal Component 2')\n",
    "plot.title('PCA Scatter Plot with Labels')\n",
    "\n",
    "# Add colorbar for reference\n",
    "cbar = plot.colorbar(ticks=[0, 1])\n",
    "cbar.set_ticklabels(['0', '1'])\n",
    "cbar.set_label('STATUS')\n",
    "\n",
    "plot.show()"
   ]
  },
  {
   "cell_type": "markdown",
   "id": "2fd64a95",
   "metadata": {},
   "source": [
    "**Write the intuitions about the scatter plot**"
   ]
  },
  {
   "cell_type": "markdown",
   "id": "1cb7a9f1",
   "metadata": {},
   "source": [
    "Following intuitions can be derived from the scatter plot:\n",
    "\n",
    "- The scatter plot shows that the first 2 principal components do a fairly good job of segreagating 2 labels into different clusters. Following observations can be made:\n",
    "    - points with pc1 value greater than 5 fall in the 1 i.e. Shipped category \n",
    "    - points with pc2 value greater than 5 also fall in the Shipped category\n",
    "    - points with pc1 value less than 0 and pc2 value in between 0 and 2 fall in the Shipped category\n",
    "\n",
    "- As expected much higher variability along PC1 in comparison to PC2.\n",
    "\n",
    "- Plot suggests no or weak correlation between PC1 and PC2.\n",
    "\n",
    "- There is ambiguity in labeling points with PC1 value around 0 and PC2 in the ranges (1 to 4) and (-1 to -4) "
   ]
  },
  {
   "cell_type": "markdown",
   "id": "a2dca12a",
   "metadata": {},
   "source": [
    "## PCA FOR DIMENSION REDUCTION"
   ]
  },
  {
   "cell_type": "markdown",
   "id": "c5dd2046",
   "metadata": {},
   "source": [
    "**Fit the PCA model on the data and plot a graph between n_components and cumulative explained variance**"
   ]
  },
  {
   "cell_type": "code",
   "execution_count": 28,
   "id": "51b44764",
   "metadata": {},
   "outputs": [],
   "source": [
    "# Create PCA object with 2 components\n",
    "pca_n = PCA()\n",
    "\n",
    "# Fit the data and transform it to 2 dimensions\n",
    "data_reduced = pca_n.fit_transform(X_scaled)"
   ]
  },
  {
   "cell_type": "code",
   "execution_count": 29,
   "id": "81686063",
   "metadata": {},
   "outputs": [],
   "source": [
    "# Retrieve the eigenvalues\n",
    "eigenvalues = pca_n.explained_variance_"
   ]
  },
  {
   "cell_type": "code",
   "execution_count": 30,
   "id": "25e8ae67",
   "metadata": {},
   "outputs": [],
   "source": [
    "explained_variance = []\n",
    "cumulative_explained = 0\n",
    "total = sum(eigenvalues)\n",
    "for i in range(0,len(eigenvalues)):\n",
    "    cumulative_explained = cumulative_explained + eigenvalues[i]\n",
    "    explained_variance.append(cumulative_explained / total)"
   ]
  },
  {
   "cell_type": "code",
   "execution_count": 31,
   "id": "00ace42f",
   "metadata": {},
   "outputs": [],
   "source": [
    "x_axis = range(1, len(eigenvalues)+1)"
   ]
  },
  {
   "cell_type": "code",
   "execution_count": 32,
   "id": "4ad4863c",
   "metadata": {
    "scrolled": false
   },
   "outputs": [
    {
     "data": {
      "text/plain": [
       "[<matplotlib.lines.Line2D at 0x7fce851e13d0>]"
      ]
     },
     "execution_count": 32,
     "metadata": {},
     "output_type": "execute_result"
    },
    {
     "data": {
      "image/png": "[encoded data removed]",
      "text/plain": [
       "<Figure size 432x288 with 1 Axes>"
      ]
     },
     "metadata": {
      "needs_background": "light"
     },
     "output_type": "display_data"
    }
   ],
   "source": [
    "plot.plot(x_axis, explained_variance)"
   ]
  },
  {
   "cell_type": "markdown",
   "id": "b23d44a2",
   "metadata": {},
   "source": [
    "**In how many components we are getting approximately 90% of explained Variance**"
   ]
  },
  {
   "cell_type": "code",
   "execution_count": 33,
   "id": "7f73aba2",
   "metadata": {
    "scrolled": false
   },
   "outputs": [
    {
     "name": "stdout",
     "output_type": "stream",
     "text": [
      "136\n"
     ]
    }
   ],
   "source": [
    "for i in range(0,len(eigenvalues)):\n",
    "    if(explained_variance[i] >= 0.9):\n",
    "        print(i)\n",
    "        break"
   ]
  },
  {
   "cell_type": "markdown",
   "id": "841c2f7e",
   "metadata": {},
   "source": [
    "As the numbering starts from 0, 136 corresponds to 137th component."
   ]
  },
  {
   "cell_type": "code",
   "execution_count": 34,
   "id": "d5ad3352",
   "metadata": {
    "scrolled": true
   },
   "outputs": [
    {
     "data": {
      "text/plain": [
       "array([89.84709369, 90.00625539, 90.16540765])"
      ]
     },
     "execution_count": 34,
     "metadata": {},
     "output_type": "execute_result"
    }
   ],
   "source": [
    "np.array(explained_variance[135:138])*100"
   ]
  },
  {
   "cell_type": "markdown",
   "id": "4b0dfecf",
   "metadata": {},
   "source": [
    "Observations: \n",
    "- We need **137 components** to explain approximately 90% of Variance\n",
    "- **136** components expain **89.84%** of variance\n",
    "- **137** components expain **90.01%** of variance\n",
    "- **138** components expain **90.17%** of variance"
   ]
  },
  {
   "cell_type": "markdown",
   "id": "3926995c",
   "metadata": {},
   "source": [
    "# LDA"
   ]
  },
  {
   "cell_type": "markdown",
   "id": "beaef02a",
   "metadata": {},
   "source": [
    "#### LDA on original data"
   ]
  },
  {
   "cell_type": "markdown",
   "id": "f62180fa",
   "metadata": {},
   "source": [
    "##### Split the dataset into two parts (i.e. 80% train and 20% test) using random_state=42"
   ]
  },
  {
   "cell_type": "code",
   "execution_count": 35,
   "id": "853b0cc8",
   "metadata": {},
   "outputs": [],
   "source": [
    "X_train, X_test, y_train, y_test = train_test_split(\n",
    "    mod_data[independent_variables], mod_data[\"STATUS\"], test_size=0.2, random_state=42)"
   ]
  },
  {
   "cell_type": "markdown",
   "id": "5d33a1e4",
   "metadata": {},
   "source": [
    "##### Train a Linear Discriminant Analysis(LDA) model on the train data. Do fit_transform on the train data and only transform on the test data. Use n_components=1"
   ]
  },
  {
   "cell_type": "code",
   "execution_count": 36,
   "id": "86eeaddc",
   "metadata": {},
   "outputs": [
    {
     "data": {
      "text/plain": [
       "LinearDiscriminantAnalysis(n_components=1)"
      ]
     },
     "execution_count": 36,
     "metadata": {},
     "output_type": "execute_result"
    }
   ],
   "source": [
    "# Create an LDA object\n",
    "lda = LinearDiscriminantAnalysis(n_components=1)\n",
    "\n",
    "# Fit the LDA model to the training data\n",
    "lda.fit(X_train, y_train)"
   ]
  },
  {
   "cell_type": "code",
   "execution_count": 37,
   "id": "30d307a8",
   "metadata": {},
   "outputs": [],
   "source": [
    "# Predict the class labels for new data\n",
    "y_pred = lda.predict(X_test)"
   ]
  },
  {
   "cell_type": "code",
   "execution_count": 38,
   "id": "7f3fd84f",
   "metadata": {},
   "outputs": [
    {
     "name": "stdout",
     "output_type": "stream",
     "text": [
      "Accuracy: 0.9026548672566371\n"
     ]
    }
   ],
   "source": [
    "# Calculate the accuracy score\n",
    "accuracy = accuracy_score(y_test, y_pred)\n",
    "print(\"Accuracy:\", accuracy)"
   ]
  },
  {
   "cell_type": "markdown",
   "id": "754a3a6b",
   "metadata": {},
   "source": [
    "## PCA-LDA"
   ]
  },
  {
   "cell_type": "code",
   "execution_count": 39,
   "id": "c8410787",
   "metadata": {},
   "outputs": [
    {
     "name": "stdout",
     "output_type": "stream",
     "text": [
      "Accuracy: 0.9079646017699115\n"
     ]
    }
   ],
   "source": [
    "# Standardize the independent variables\n",
    "scaler = StandardScaler()\n",
    "X_train_scaled = scaler.fit_transform(X_train)\n",
    "\n",
    "# Create a PCA object with the desired number of components\n",
    "pca = PCA(n_components=2)\n",
    "\n",
    "# Fit the PCA model to the scaled data\n",
    "pca.fit(X_train_scaled)\n",
    "\n",
    "# Transform the scaled data to the principal components\n",
    "X_train_transformed = pca.transform(X_train_scaled)\n",
    "\n",
    "# Do similar transformations on test data\n",
    "X_test_scaled = scaler.transform(X_test)\n",
    "X_test_transformed = pca.transform(X_test_scaled)\n",
    "\n",
    "# Fitting LDA\n",
    "# Create an LDA object\n",
    "lda2 = LinearDiscriminantAnalysis(n_components=1)\n",
    "\n",
    "# Fit the LDA model to the PCA transformed training data\n",
    "lda2.fit(X_train_transformed, y_train)\n",
    "\n",
    "# Predict the class labels for new data\n",
    "y_pred2 = lda2.predict(X_test_transformed)\n",
    "\n",
    "# Evaluate the model\n",
    "accuracy = np.mean(y_pred2 == y_test)\n",
    "print(\"Accuracy:\", accuracy)"
   ]
  },
  {
   "cell_type": "markdown",
   "id": "051ca6f3",
   "metadata": {},
   "source": [
    "**The performance of LDA gets improved if PCA is apllied first!**"
   ]
  },
  {
   "cell_type": "markdown",
   "id": "aee86779",
   "metadata": {},
   "source": [
    "### Train a RandomForest classifier model on the transformed train and test data. Print the accuracy score. "
   ]
  },
  {
   "cell_type": "markdown",
   "id": "fe95b375",
   "metadata": {},
   "source": [
    "## Random Forest"
   ]
  },
  {
   "cell_type": "code",
   "execution_count": 40,
   "id": "ef77820a",
   "metadata": {},
   "outputs": [
    {
     "name": "stdout",
     "output_type": "stream",
     "text": [
      "Accuracy: 0.9893805309734514\n"
     ]
    }
   ],
   "source": [
    "# Create a Random Forest classifier\n",
    "rf = RandomForestClassifier(n_estimators=500, random_state=42)\n",
    "\n",
    "# Fit the classifier to the training data\n",
    "rf.fit(X_train, y_train)\n",
    "\n",
    "# Predict the labels for the test data\n",
    "y_pred = rf.predict(X_test)\n",
    "\n",
    "# Calculate the accuracy score\n",
    "accuracy = accuracy_score(y_test, y_pred)\n",
    "print(\"Accuracy:\", accuracy)"
   ]
  },
  {
   "cell_type": "markdown",
   "id": "4cd7db1d",
   "metadata": {},
   "source": [
    "## PCA - Random Forest"
   ]
  },
  {
   "cell_type": "code",
   "execution_count": 41,
   "id": "5cec8da0",
   "metadata": {
    "scrolled": true
   },
   "outputs": [
    {
     "name": "stdout",
     "output_type": "stream",
     "text": [
      "Accuracy: 0.9168141592920354\n"
     ]
    }
   ],
   "source": [
    "# Create a Random Forest classifier\n",
    "rf = RandomForestClassifier(n_estimators=500, random_state=42)\n",
    "\n",
    "# Fit the classifier to the training data\n",
    "rf.fit(X_train_transformed, y_train)\n",
    "\n",
    "# Predict the labels for the test data\n",
    "y_pred = rf.predict(X_test_transformed)\n",
    "\n",
    "# Calculate the accuracy score\n",
    "accuracy = accuracy_score(y_test, y_pred)\n",
    "print(\"Accuracy:\", accuracy)"
   ]
  },
  {
   "cell_type": "markdown",
   "id": "bd832179",
   "metadata": {},
   "source": [
    "Observations: \n",
    "- The performance of **LDA** improves when applied on **PCA transformed** data, this is because LDA being a linear algorithm is sensitive to outliers which get removed due to PCA.\n",
    "- The performance of **Random Forest** degrades when applied on **PCA transformed** data, this is because RF is robust to outliers and can handle the outliers much better as it works through segmentation. Infact when we are training the RF on PCA transformed data, it is losing out on information on outlier points which is why it's performance degrades."
   ]
  }
 ],
 "metadata": {
  "kernelspec": {
   "display_name": "Python 3",
   "language": "python",
   "name": "python3"
  },
  "language_info": {
   "codemirror_mode": {
    "name": "ipython",
    "version": 3
   },
   "file_extension": ".py",
   "mimetype": "text/x-python",
   "name": "python",
   "nbconvert_exporter": "python",
   "pygments_lexer": "ipython3",
   "version": "3.8.8"
  }
 },
 "nbformat": 4,
 "nbformat_minor": 5
}

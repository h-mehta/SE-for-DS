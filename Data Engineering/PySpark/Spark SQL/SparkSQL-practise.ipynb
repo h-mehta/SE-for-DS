{
 "cells": [
  {
   "cell_type": "markdown",
   "id": "6fe0b863",
   "metadata": {},
   "source": [
    "## Part-I\n",
    "\n",
    "### Objective: Analysing IoT Data with Spark Sql\n",
    "### Author: Harshit Mehta"
   ]
  },
  {
   "cell_type": "code",
   "execution_count": 1,
   "id": "277db092",
   "metadata": {},
   "outputs": [],
   "source": [
    "import numpy as np # linear algebra\n",
    "import matplotlib.pyplot as plt \n",
    "import seaborn as sns\n",
    "import pandas as pd"
   ]
  },
  {
   "cell_type": "code",
   "execution_count": 2,
   "id": "dd9a4b07",
   "metadata": {},
   "outputs": [],
   "source": [
    "import pyspark\n",
    "from pyspark.sql import SparkSession\n",
    "from pyspark import SparkConf\n",
    "from pyspark import SparkContext"
   ]
  },
  {
   "cell_type": "code",
   "execution_count": 3,
   "id": "5290f923",
   "metadata": {},
   "outputs": [
    {
     "name": "stderr",
     "output_type": "stream",
     "text": [
      "Setting default log level to \"WARN\".\n",
      "To adjust logging level use sc.setLogLevel(newLevel). For SparkR, use setLogLevel(newLevel).\n"
     ]
    },
    {
     "name": "stdout",
     "output_type": "stream",
     "text": [
      "23/07/16 22:24:04 WARN NativeCodeLoader: Unable to load native-hadoop library for your platform... using builtin-java classes where applicable\n",
      "23/07/16 22:24:10 WARN Utils: Service 'SparkUI' could not bind on port 4040. Attempting port 4041.\n"
     ]
    }
   ],
   "source": [
    "conf=pyspark.SparkConf().setAppName('SparkApp').setMaster('local')\n",
    "sc=pyspark.SparkContext(conf=conf)\n",
    "spark=SparkSession(sc)"
   ]
  },
  {
   "cell_type": "markdown",
   "id": "2c1fcbd9",
   "metadata": {},
   "source": [
    "## Task 1\n",
    "**Read the data into a Dataframe**"
   ]
  },
  {
   "cell_type": "code",
   "execution_count": 4,
   "id": "4090da66",
   "metadata": {},
   "outputs": [
    {
     "name": "stderr",
     "output_type": "stream",
     "text": [
      "                                                                                \r"
     ]
    }
   ],
   "source": [
    "# Let's read the iot_devices.json into a dataframe\n",
    "df = spark.read.json('iot_devices.json')"
   ]
  },
  {
   "cell_type": "code",
   "execution_count": 5,
   "id": "d32376cc",
   "metadata": {},
   "outputs": [
    {
     "name": "stdout",
     "output_type": "stream",
     "text": [
      "-RECORD 0-----------------------------\n",
      " battery_level | 8                    \n",
      " c02_level     | 868                  \n",
      " cca2          | US                   \n",
      " cca3          | USA                  \n",
      " cn            | United States        \n",
      " device_id     | 1                    \n",
      " device_name   | meter-gauge-1xbYRYcj \n",
      " humidity      | 51                   \n",
      " ip            | 68.161.225.1         \n",
      " latitude      | 38.0                 \n",
      " lcd           | green                \n",
      " longitude     | -97.0                \n",
      " scale         | Celsius              \n",
      " temp          | 34                   \n",
      " timestamp     | 1458444054093        \n",
      "only showing top 1 row\n",
      "\n"
     ]
    }
   ],
   "source": [
    "# Let's check the first row\n",
    "df.show(n=1, vertical=True)"
   ]
  },
  {
   "cell_type": "code",
   "execution_count": 6,
   "id": "3850a0f3",
   "metadata": {},
   "outputs": [
    {
     "name": "stdout",
     "output_type": "stream",
     "text": [
      "root\n",
      " |-- battery_level: long (nullable = true)\n",
      " |-- c02_level: long (nullable = true)\n",
      " |-- cca2: string (nullable = true)\n",
      " |-- cca3: string (nullable = true)\n",
      " |-- cn: string (nullable = true)\n",
      " |-- device_id: long (nullable = true)\n",
      " |-- device_name: string (nullable = true)\n",
      " |-- humidity: long (nullable = true)\n",
      " |-- ip: string (nullable = true)\n",
      " |-- latitude: double (nullable = true)\n",
      " |-- lcd: string (nullable = true)\n",
      " |-- longitude: double (nullable = true)\n",
      " |-- scale: string (nullable = true)\n",
      " |-- temp: long (nullable = true)\n",
      " |-- timestamp: long (nullable = true)\n",
      "\n"
     ]
    }
   ],
   "source": [
    "# Let's check the schema of the dataframe\n",
    "df.printSchema()"
   ]
  },
  {
   "cell_type": "code",
   "execution_count": 7,
   "id": "b0475760",
   "metadata": {
    "scrolled": true
   },
   "outputs": [
    {
     "name": "stderr",
     "output_type": "stream",
     "text": [
      "\r",
      "[Stage 2:>                                                          (0 + 1) / 1]\r"
     ]
    },
    {
     "name": "stdout",
     "output_type": "stream",
     "text": [
      "-RECORD 0-----------------------------\n",
      " summary       | count                \n",
      " battery_level | 198164               \n",
      " c02_level     | 198164               \n",
      " cca2          | 198164               \n",
      " cca3          | 198164               \n",
      " cn            | 198164               \n",
      " device_id     | 198164               \n",
      " device_name   | 198164               \n",
      " humidity      | 198164               \n",
      " ip            | 198164               \n",
      " latitude      | 198164               \n",
      " lcd           | 198164               \n",
      " longitude     | 198164               \n",
      " scale         | 198164               \n",
      " temp          | 198164               \n",
      " timestamp     | 198164               \n",
      "-RECORD 1-----------------------------\n",
      " summary       | mean                 \n",
      " battery_level | 4.4997678690377665   \n",
      " c02_level     | 1199.7639429967098   \n",
      " cca2          | null                 \n",
      " cca3          | null                 \n",
      " cn            | null                 \n",
      " device_id     | 99082.5              \n",
      " device_name   | null                 \n",
      " humidity      | 61.99212773258513    \n",
      " ip            | null                 \n",
      " latitude      | 36.521156062675466   \n",
      " lcd           | null                 \n",
      " longitude     | -0.6459595082859193  \n",
      " scale         | null                 \n",
      " temp          | 22.012787388223895   \n",
      " timestamp     | 1.458444058246237... \n",
      "-RECORD 2-----------------------------\n",
      " summary       | stddev               \n",
      " battery_level | 2.8733916884106177   \n",
      " c02_level     | 231.06002562900682   \n",
      " cca2          | null                 \n",
      " cca3          | null                 \n",
      " cn            | null                 \n",
      " device_id     | 57205.1637092317     \n",
      " device_name   | null                 \n",
      " humidity      | 21.67231306231426    \n",
      " ip            | null                 \n",
      " latitude      | 17.907740712889645   \n",
      " lcd           | null                 \n",
      " longitude     | 88.7275821792014     \n",
      " scale         | null                 \n",
      " temp          | 7.209848253887028    \n",
      " timestamp     | 1708.2257967415815   \n",
      "-RECORD 3-----------------------------\n",
      " summary       | min                  \n",
      " battery_level | 0                    \n",
      " c02_level     | 800                  \n",
      " cca2          | AD                   \n",
      " cca3          | ABW                  \n",
      " cn            |                      \n",
      " device_id     | 1                    \n",
      " device_name   | device-mac-100005... \n",
      " humidity      | 25                   \n",
      " ip            | 108.57.128.215       \n",
      " latitude      | -51.75               \n",
      " lcd           | green                \n",
      " longitude     | -175.0               \n",
      " scale         | Celsius              \n",
      " temp          | 10                   \n",
      " timestamp     | 1458444054093        \n",
      "-RECORD 4-----------------------------\n",
      " summary       | max                  \n",
      " battery_level | 9                    \n",
      " c02_level     | 1599                 \n",
      " cca2          | ZW                   \n",
      " cca3          | ZWE                  \n",
      " cn            | Åland                \n",
      " device_id     | 198164               \n",
      " device_name   | therm-stick-99995... \n",
      " humidity      | 99                   \n",
      " ip            | 99.64.14.90          \n",
      " latitude      | 72.0                 \n",
      " lcd           | yellow               \n",
      " longitude     | 178.42               \n",
      " scale         | Celsius              \n",
      " temp          | 34                   \n",
      " timestamp     | 1458444061098        \n",
      "\n"
     ]
    },
    {
     "name": "stderr",
     "output_type": "stream",
     "text": [
      "\r",
      "                                                                                \r"
     ]
    }
   ],
   "source": [
    "# Let's get a statistical summary of the dataframe\n",
    "df.describe().show(vertical=True)"
   ]
  },
  {
   "cell_type": "markdown",
   "id": "3fdf7007",
   "metadata": {},
   "source": [
    "## Task 2\n",
    "**Convert the Dataframe into a temporary view called iot**"
   ]
  },
  {
   "cell_type": "code",
   "execution_count": 8,
   "id": "3d6fcde0",
   "metadata": {},
   "outputs": [],
   "source": [
    "# Let's register the dataframe as a view to run sql on\n",
    "df.createOrReplaceTempView(\"iot\")"
   ]
  },
  {
   "cell_type": "markdown",
   "id": "c63a482d",
   "metadata": {},
   "source": [
    "## Task 3\n",
    "**Count how many devices are there from each country and display the output**"
   ]
  },
  {
   "cell_type": "code",
   "execution_count": 9,
   "id": "45a0f00e",
   "metadata": {},
   "outputs": [
    {
     "name": "stdout",
     "output_type": "stream",
     "text": [
      "+-----------------+-----+\n",
      "|          country|count|\n",
      "+-----------------+-----+\n",
      "|    United States|68545|\n",
      "|            China|14455|\n",
      "|            Japan|12100|\n",
      "|Republic of Korea|11879|\n",
      "|          Germany| 7942|\n",
      "|   United Kingdom| 6486|\n",
      "|           Canada| 6041|\n",
      "|           Russia| 5989|\n",
      "|           France| 5305|\n",
      "|           Brazil| 3224|\n",
      "|        Australia| 3119|\n",
      "|            Italy| 2915|\n",
      "|           Sweden| 2880|\n",
      "|           Poland| 2744|\n",
      "|      Netherlands| 2488|\n",
      "|            Spain| 2310|\n",
      "|           Taiwan| 2128|\n",
      "|            India| 1867|\n",
      "|                 | 1810|\n",
      "|   Czech Republic| 1507|\n",
      "+-----------------+-----+\n",
      "only showing top 20 rows\n",
      "\n"
     ]
    },
    {
     "name": "stderr",
     "output_type": "stream",
     "text": [
      "\r",
      "[Stage 5:>                                                          (0 + 1) / 1]\r",
      "\r",
      "                                                                                \r"
     ]
    }
   ],
   "source": [
    "result1 = spark.sql(\"SELECT cn as country, count(*) as count FROM iot GROUP BY cn ORDER BY count desc\")\n",
    "result1.show()"
   ]
  },
  {
   "cell_type": "markdown",
   "id": "d31013bc",
   "metadata": {},
   "source": [
    "## Task 4\n",
    "**Display all the countries whose carbon dioxide level is more than 1400. Sort the output in descending order.**"
   ]
  },
  {
   "cell_type": "markdown",
   "id": "8a0c6bbf",
   "metadata": {},
   "source": [
    "Calrification:\n",
    "\n",
    "Since the wording of the question does not specify it, I have **ranked** the question in **3 different ways** as follows:\n",
    "- result2_0 shows countries with C02_levels greater than 1400 AND countries ranked by maximum c02_levels \n",
    "- result2_1 shows countries with C02_levels greater than 1400 AND countries ranked by mean C02_levels\n",
    "- result2_2 shows countries with C02_levels greater than 1400 AND countries ranked by total number of devices in the country having C02 levels > 1400\n",
    "\n",
    "So there are correspondingly 3 different queries, with following names:\n",
    "- result2_0\n",
    "- result2_1\n",
    "- result2_2\n",
    "\n",
    "What is different in these queries is the ranking methodology. "
   ]
  },
  {
   "cell_type": "code",
   "execution_count": 10,
   "id": "aa484e29",
   "metadata": {
    "scrolled": false
   },
   "outputs": [
    {
     "name": "stdout",
     "output_type": "stream",
     "text": [
      "+---------------+\n",
      "|Total_Countries|\n",
      "+---------------+\n",
      "|            205|\n",
      "+---------------+\n",
      "\n"
     ]
    }
   ],
   "source": [
    "total_countries = spark.sql(\"SELECT count(DISTINCT cca3) as Total_Countries FROM iot\")\n",
    "total_countries.show()"
   ]
  },
  {
   "cell_type": "markdown",
   "id": "8d85486a",
   "metadata": {},
   "source": [
    "Thus there are a total of **205** countries in the dataset"
   ]
  },
  {
   "cell_type": "markdown",
   "id": "c9b6ea38",
   "metadata": {},
   "source": [
    "**<u>Countries with C02_levels greater than 1400 AND countries ranked by total number of devices in the country having C02 levels > 1400:</u>**"
   ]
  },
  {
   "cell_type": "code",
   "execution_count": 11,
   "id": "a34726e1",
   "metadata": {
    "scrolled": true
   },
   "outputs": [
    {
     "name": "stdout",
     "output_type": "stream",
     "text": [
      "+-------+-------------+\n",
      "|country|total_devices|\n",
      "+-------+-------------+\n",
      "|    USA|        17489|\n",
      "|    CHN|         3616|\n",
      "|    KOR|         2942|\n",
      "|    JPN|         2935|\n",
      "|    DEU|         1966|\n",
      "|    GBR|         1660|\n",
      "|    CAN|         1564|\n",
      "|    RUS|         1508|\n",
      "|    FRA|         1353|\n",
      "|    BRA|          856|\n",
      "|    AUS|          769|\n",
      "|    SWE|          724|\n",
      "|    ITA|          713|\n",
      "|    POL|          664|\n",
      "|    NLD|          646|\n",
      "|    ESP|          586|\n",
      "|    TWN|          542|\n",
      "|    IND|          446|\n",
      "|    NOR|          399|\n",
      "|    UKR|          373|\n",
      "+-------+-------------+\n",
      "only showing top 20 rows\n",
      "\n"
     ]
    }
   ],
   "source": [
    "# Countries with C02_levels greater than 1400 AND countries ranked by total number of devices in the country having C02 levels > 1400\n",
    "result2_2 = spark.sql(\"SELECT cca3 as country, count(c02_level) as total_devices FROM iot WHERE c02_level > 1400 GROUP BY cca3 ORDER BY total_devices desc\")\n",
    "result2_2.show()"
   ]
  },
  {
   "cell_type": "markdown",
   "id": "8fb7fc11",
   "metadata": {},
   "source": [
    "**<u>Countries with C02_levels greater than 1400 AND countries ranked by maximum C02_levels:</u>**"
   ]
  },
  {
   "cell_type": "code",
   "execution_count": 12,
   "id": "8b14dd12",
   "metadata": {
    "scrolled": true
   },
   "outputs": [
    {
     "name": "stdout",
     "output_type": "stream",
     "text": [
      "+-------+-------------+\n",
      "|country|max_c02_level|\n",
      "+-------+-------------+\n",
      "|    NLD|         1599|\n",
      "|    DEU|         1599|\n",
      "|    TUR|         1599|\n",
      "|    PER|         1599|\n",
      "|    USA|         1599|\n",
      "|    BRA|         1599|\n",
      "|    VNM|         1599|\n",
      "|    BOL|         1599|\n",
      "|    KOR|         1599|\n",
      "|    UKR|         1599|\n",
      "|    ZAF|         1599|\n",
      "|    ARE|         1599|\n",
      "|    TWN|         1599|\n",
      "|    POL|         1599|\n",
      "|    MYS|         1599|\n",
      "|    KNA|         1599|\n",
      "|    CAN|         1599|\n",
      "|    HUN|         1599|\n",
      "|    RUS|         1599|\n",
      "|    NOR|         1599|\n",
      "+-------+-------------+\n",
      "only showing top 20 rows\n",
      "\n"
     ]
    }
   ],
   "source": [
    "# Countries with max c02_levels greater than 1400 AND countries ranked by maximum C02_levels\n",
    "result2_0 = spark.sql(\"SELECT cca3 as country, max(c02_level) as max_c02_level FROM iot WHERE c02_level > 1400 GROUP BY cca3 ORDER BY max_c02_level desc\")\n",
    "result2_0.show()"
   ]
  },
  {
   "cell_type": "code",
   "execution_count": 13,
   "id": "94dbc5f0",
   "metadata": {
    "scrolled": true
   },
   "outputs": [
    {
     "name": "stdout",
     "output_type": "stream",
     "text": [
      "+-----+\n",
      "|count|\n",
      "+-----+\n",
      "|  186|\n",
      "+-----+\n",
      "\n"
     ]
    }
   ],
   "source": [
    "# Number of countries with max c02_levels greater than 1400\n",
    "summary2_0 = spark.sql(\"SELECT count(*) as count FROM (SELECT cca3 as country, max(c02_level) as max_c02_level FROM iot WHERE c02_level > 1400 GROUP BY cca3 ORDER BY max_c02_level desc)\")\n",
    "summary2_0.show()"
   ]
  },
  {
   "cell_type": "markdown",
   "id": "e18efed0",
   "metadata": {},
   "source": [
    "##### Thus there are 186 countries with maximum c02 levels detected greater than 1400"
   ]
  },
  {
   "cell_type": "code",
   "execution_count": 14,
   "id": "3305ec14",
   "metadata": {},
   "outputs": [
    {
     "name": "stdout",
     "output_type": "stream",
     "text": [
      "+-------+\n",
      "|country|\n",
      "+-------+\n",
      "|    TCA|\n",
      "|    VAT|\n",
      "|    GUY|\n",
      "|    TON|\n",
      "|    SYC|\n",
      "|    COG|\n",
      "|    MAF|\n",
      "|    SUR|\n",
      "|    MWI|\n",
      "|    SLE|\n",
      "|    GRL|\n",
      "|    ASM|\n",
      "|    AIA|\n",
      "|    WSM|\n",
      "|    MTQ|\n",
      "|    GRD|\n",
      "|    GIN|\n",
      "|    COK|\n",
      "|    BEN|\n",
      "+-------+\n",
      "\n"
     ]
    }
   ],
   "source": [
    "# Countries with max c02_levels less than 1400\n",
    "clean_countries = spark.sql(\"SELECT DISTINCT cca3 as country FROM iot WHERE cca3 NOT IN (SELECT country FROM (SELECT cca3 as country, max(c02_level) as max_c02_level FROM iot WHERE c02_level > 1400 GROUP BY cca3 ORDER BY max_c02_level desc))\")\n",
    "clean_countries.show()"
   ]
  },
  {
   "cell_type": "markdown",
   "id": "43e06b34",
   "metadata": {},
   "source": [
    "##### Above 19 countries is where max_c02_level less than 1400"
   ]
  },
  {
   "cell_type": "markdown",
   "id": "ba73f50d",
   "metadata": {},
   "source": [
    "**<u>Countries with C02_levels greater than 1400 AND countries ranked by mean C02_levels:</u>**"
   ]
  },
  {
   "cell_type": "markdown",
   "id": "04776663",
   "metadata": {},
   "source": [
    "( Note: While calculating the mean, only those devices whose C02 levels are greater than 1400 have been considered while calculating the mean )"
   ]
  },
  {
   "cell_type": "code",
   "execution_count": 15,
   "id": "66bbf4a4",
   "metadata": {},
   "outputs": [
    {
     "name": "stdout",
     "output_type": "stream",
     "text": [
      "+-------+--------------+\n",
      "|country|mean_c02_level|\n",
      "+-------+--------------+\n",
      "|    VCT|        1593.5|\n",
      "|    SLB|        1588.0|\n",
      "|    FSM|        1573.0|\n",
      "|    RWA|        1560.5|\n",
      "|    IOT|        1560.0|\n",
      "|    ABW|        1559.0|\n",
      "|    IMN|        1548.0|\n",
      "|    GMB|        1544.5|\n",
      "|    ALA|        1542.4|\n",
      "|    AZE|       1538.38|\n",
      "|    FRO|       1537.67|\n",
      "|    LSO|        1537.5|\n",
      "|    NCL|        1537.0|\n",
      "|    AFG|        1536.0|\n",
      "|    HTI|        1535.4|\n",
      "|    CUB|        1534.8|\n",
      "|    PRY|       1533.17|\n",
      "|    VUT|        1532.0|\n",
      "|    KNA|       1530.57|\n",
      "|    MNG|       1529.78|\n",
      "+-------+--------------+\n",
      "only showing top 20 rows\n",
      "\n"
     ]
    }
   ],
   "source": [
    "# Countries with C02_levels greater than 1400 AND countries ranked by mean C02_levels\n",
    "result2_1 = spark.sql(\"SELECT cca3 as country, round(mean(c02_level),2) as mean_c02_level FROM iot WHERE c02_level > 1400 GROUP BY cca3 ORDER BY mean_c02_level desc\")\n",
    "result2_1.show()"
   ]
  },
  {
   "cell_type": "code",
   "execution_count": 16,
   "id": "1402affa",
   "metadata": {
    "scrolled": false
   },
   "outputs": [
    {
     "name": "stderr",
     "output_type": "stream",
     "text": [
      "\r",
      "[Stage 35:>                                                         (0 + 1) / 1]\r",
      "\r",
      "                                                                                \r"
     ]
    },
    {
     "name": "stdout",
     "output_type": "stream",
     "text": [
      "+-------+\n",
      "|country|\n",
      "+-------+\n",
      "|    TCA|\n",
      "|    VAT|\n",
      "|    GUY|\n",
      "|    TON|\n",
      "|    SYC|\n",
      "|    COG|\n",
      "|    MAF|\n",
      "|    SUR|\n",
      "|    MWI|\n",
      "|    SLE|\n",
      "|    GRL|\n",
      "|    ASM|\n",
      "|    AIA|\n",
      "|    WSM|\n",
      "|    MTQ|\n",
      "|    GRD|\n",
      "|    GIN|\n",
      "|    COK|\n",
      "|    BEN|\n",
      "+-------+\n",
      "\n"
     ]
    }
   ],
   "source": [
    "# Countries with mean c02_levels less than 1400\n",
    "clean_countries2_1 = spark.sql(\"SELECT DISTINCT cca3 as country FROM iot WHERE cca3 NOT IN (SELECT country FROM (SELECT cca3 as country, round(mean(c02_level),2) as mean_c02_level FROM iot WHERE c02_level > 1400 GROUP BY cca3))\")\n",
    "clean_countries2_1.show()"
   ]
  },
  {
   "cell_type": "markdown",
   "id": "7ab29c9e",
   "metadata": {},
   "source": [
    "##### The same 19 countries "
   ]
  },
  {
   "cell_type": "markdown",
   "id": "4cc190d9",
   "metadata": {},
   "source": [
    "## Task 5\n",
    "**Select all countries' devices with high-levels of C02 and group by cca3 and order by device_ids (Hint: For high CO2 level, the LCD status will be RED).**"
   ]
  },
  {
   "cell_type": "code",
   "execution_count": 17,
   "id": "d584f885",
   "metadata": {
    "scrolled": false
   },
   "outputs": [
    {
     "name": "stdout",
     "output_type": "stream",
     "text": [
      "+------+\n",
      "|   lcd|\n",
      "+------+\n",
      "| green|\n",
      "|yellow|\n",
      "|   red|\n",
      "+------+\n",
      "\n"
     ]
    }
   ],
   "source": [
    "total_lcd_states = spark.sql(\"SELECT DISTINCT lcd FROM iot\")\n",
    "total_lcd_states.show()"
   ]
  },
  {
   "cell_type": "markdown",
   "id": "899e006c",
   "metadata": {},
   "source": [
    "Interpretation: Display the total number of devices with high levels of CO2 across each country and display the count in its ascending order."
   ]
  },
  {
   "cell_type": "code",
   "execution_count": 18,
   "id": "c612414f",
   "metadata": {
    "scrolled": true
   },
   "outputs": [
    {
     "name": "stderr",
     "output_type": "stream",
     "text": [
      "\r",
      "[Stage 44:>                                                         (0 + 1) / 1]\r"
     ]
    },
    {
     "name": "stdout",
     "output_type": "stream",
     "text": [
      "+-------+-------------+\n",
      "|country|total_devices|\n",
      "+-------+-------------+\n",
      "|    TJK|            1|\n",
      "|    FLK|            1|\n",
      "|    REU|            1|\n",
      "|    GIB|            1|\n",
      "|    CIV|            1|\n",
      "|    LBR|            1|\n",
      "|    MHL|            1|\n",
      "|    SLB|            1|\n",
      "|    GAB|            1|\n",
      "|    TKM|            1|\n",
      "|    IOT|            1|\n",
      "|    TLS|            1|\n",
      "|    FSM|            1|\n",
      "|    AND|            1|\n",
      "|    GGY|            1|\n",
      "|    YEM|            2|\n",
      "|    LCA|            2|\n",
      "|    VUT|            2|\n",
      "|    ZMB|            2|\n",
      "|    VCT|            2|\n",
      "+-------+-------------+\n",
      "only showing top 20 rows\n",
      "\n"
     ]
    },
    {
     "name": "stderr",
     "output_type": "stream",
     "text": [
      "\r",
      "                                                                                \r"
     ]
    }
   ],
   "source": [
    "# ascending order\n",
    "# Display the total number of devices with high levels of CO2 across each country and display the count in its aescending order.\n",
    "result3 = spark.sql(\"SELECT cca3 as country, count(*) as total_devices FROM iot WHERE lcd = 'red' GROUP BY cca3 ORDER BY total_devices asc\")\n",
    "result3.show()"
   ]
  },
  {
   "cell_type": "code",
   "execution_count": 19,
   "id": "a9b44c36",
   "metadata": {
    "scrolled": true
   },
   "outputs": [
    {
     "name": "stdout",
     "output_type": "stream",
     "text": [
      "+-------+-------------+\n",
      "|country|total_devices|\n",
      "+-------+-------------+\n",
      "|    USA|        17489|\n",
      "|    CHN|         3616|\n",
      "|    KOR|         2942|\n",
      "|    JPN|         2935|\n",
      "|    DEU|         1966|\n",
      "|    GBR|         1660|\n",
      "|    CAN|         1564|\n",
      "|    RUS|         1508|\n",
      "|    FRA|         1353|\n",
      "|    BRA|          856|\n",
      "|    AUS|          769|\n",
      "|    SWE|          724|\n",
      "|    ITA|          713|\n",
      "|    POL|          664|\n",
      "|    NLD|          646|\n",
      "|    ESP|          586|\n",
      "|    TWN|          542|\n",
      "|    IND|          446|\n",
      "|    NOR|          399|\n",
      "|    UKR|          373|\n",
      "+-------+-------------+\n",
      "only showing top 20 rows\n",
      "\n"
     ]
    }
   ],
   "source": [
    "# descending order\n",
    "# Display the total number of devices with high levels of CO2 across each country and display the count in its descending order.\n",
    "result3 = spark.sql(\"SELECT cca3 as country, count(*) as total_devices FROM iot WHERE lcd = 'red' GROUP BY cca3 ORDER BY total_devices desc\")\n",
    "result3.show()"
   ]
  },
  {
   "cell_type": "markdown",
   "id": "abbb7f13",
   "metadata": {},
   "source": [
    "## Task 6\n",
    "**Find out all devices in countries whose batteries need replacements**"
   ]
  },
  {
   "cell_type": "markdown",
   "id": "89cd2670",
   "metadata": {},
   "source": [
    "**ASSUMPTION:** I have assumed that devices with battery_level = 0 need replacement"
   ]
  },
  {
   "cell_type": "code",
   "execution_count": 20,
   "id": "465c1f82",
   "metadata": {
    "scrolled": true
   },
   "outputs": [
    {
     "name": "stdout",
     "output_type": "stream",
     "text": [
      "+-------+---------+\n",
      "|country|device_id|\n",
      "+-------+---------+\n",
      "|    AFG|   167828|\n",
      "|    AFG|   162516|\n",
      "|    AFG|   122629|\n",
      "|    AGO|    65166|\n",
      "|    AIA|   146980|\n",
      "|    AIA|   122109|\n",
      "|    ALA|   124665|\n",
      "|    ALA|   197516|\n",
      "|    ALA|    96404|\n",
      "|    ALB|   138223|\n",
      "|    ALB|    82389|\n",
      "|    ALB|    12532|\n",
      "|    ARE|    74301|\n",
      "|    ARE|    81355|\n",
      "|    ARE|    77008|\n",
      "|    ARE|   107431|\n",
      "|    ARE|   123314|\n",
      "|    ARE|    62126|\n",
      "|    ARE|   110925|\n",
      "|    ARE|    32595|\n",
      "+-------+---------+\n",
      "only showing top 20 rows\n",
      "\n"
     ]
    }
   ],
   "source": [
    "result4 = spark.sql(\"SELECT cca3 as country, device_id FROM iot WHERE battery_level = 0 ORDER BY cca3\")\n",
    "result4.show()"
   ]
  },
  {
   "cell_type": "markdown",
   "id": "036da8c3",
   "metadata": {},
   "source": [
    "## Summary:\n",
    "\n",
    "#### Task 1:\n",
    "df = spark.read.json('iot_devices.json')\n",
    "\n",
    "#### Task 2:\n",
    "df.createOrReplaceTempView(\"iot\")\n",
    "\n",
    "#### Task 3:\n",
    "result1 = spark.sql(\"**SELECT cn as country, count(*) as count FROM iot GROUP BY cn ORDER BY count desc**\")\n",
    "result1.show()\n",
    "\n",
    "#### Task 4:\n",
    "\n",
    "<u>Countries with C02_levels greater than 1400 AND countries ranked by total number of devices in the country having C02 levels > 1400:</u>\n",
    "\n",
    "result2_2 = spark.sql(\"**SELECT cca3 as country, count(c02_level) as total_devices FROM iot WHERE c02_level > 1400 GROUP BY cca3 ORDER BY total_devices desc**\")\n",
    "\n",
    "<u>Countries with C02_levels greater than 1400 AND countries ranked by maximum c02_levels : </u>\n",
    "\n",
    "result2_0 = spark.sql(\"**SELECT cca3 as country, max(c02_level) as max_c02_level FROM iot WHERE c02_level > 1400 GROUP BY cca3 ORDER BY max_c02_level desc**\")\n",
    "\n",
    "<u>Countries with C02_levels greater than 1400 AND countries ranked by mean C02_levels : </u>\n",
    "\n",
    "result2_1 = spark.sql(\"**SELECT cca3 as country, round(mean(c02_level),2) as mean_c02_level FROM iot WHERE c02_level > 1400 GROUP BY cca3 ORDER BY mean_c02_level desc**\")\n",
    "\n",
    "#### Task 5:\n",
    "<u>Ascending order :</u><br>\n",
    "result3 = spark.sql(\"**SELECT cca3 as country, count( * ) as total_devices FROM iot WHERE lcd = 'red' GROUP BY cca3 ORDER BY total_devices asc**\")\n",
    "\n",
    "<u>Descending order :</u><br>\n",
    "result3 = spark.sql(\"**SELECT cca3 as country, count( * ) as total_devices FROM iot WHERE lcd = 'red' GROUP BY cca3 ORDER BY total_devices desc**\")\n",
    "\n",
    "#### Task 6:\n",
    "result4 = spark.sql(\"**SELECT cca3 as country, device_id FROM iot WHERE battery_level = 0 ORDER BY cca3**\")"
   ]
  }
 ],
 "metadata": {
  "kernelspec": {
   "display_name": "Python 3 (ipykernel)",
   "language": "python",
   "name": "python3"
  },
  "language_info": {
   "codemirror_mode": {
    "name": "ipython",
    "version": 3
   },
   "file_extension": ".py",
   "mimetype": "text/x-python",
   "name": "python",
   "nbconvert_exporter": "python",
   "pygments_lexer": "ipython3",
   "version": "3.11.4"
  }
 },
 "nbformat": 4,
 "nbformat_minor": 5
}

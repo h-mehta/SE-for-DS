{
 "cells": [
  {
   "cell_type": "markdown",
   "metadata": {},
   "source": [
    "# Author: Harshit Mehta"
   ]
  },
  {
   "cell_type": "markdown",
   "metadata": {
    "id": "dOMqSrk_Q-xH"
   },
   "source": [
    "### Setup the Spark VM and complete the below assignment\n",
    "\n",
    "Objective:- Build a ML model to predict the employee compensation.\n",
    "The application should be modelled using Spark.\n",
    "\n",
    "You can refer to the below links for spark commands:- \n",
    "- https://spark.apache.org/docs/latest/ml-pipeline.html\n",
    "\n",
    "- https://github.com/spark-in-action/first-edition\n",
    "\n",
    "- https://github.com/FavioVazquez/first_spark_model"
   ]
  },
  {
   "cell_type": "markdown",
   "metadata": {
    "application/vnd.databricks.v1+cell": {
     "inputWidgets": {},
     "nuid": "2f9c04dd-cf52-4c53-aecd-bfe96f9529af",
     "showTitle": false,
     "title": ""
    },
    "id": "lAEn9f14QP0a"
   },
   "source": [
    "# Predicting Employee Compensation"
   ]
  },
  {
   "cell_type": "markdown",
   "metadata": {
    "application/vnd.databricks.v1+cell": {
     "inputWidgets": {},
     "nuid": "0ad7374a-5b59-4f1d-9a73-ecdf72f93ffd",
     "showTitle": false,
     "title": ""
    },
    "id": "SsDAS5vxQP0c"
   },
   "source": [
    "## Data Dictionary\n",
    "<br>**Year Type** - Fiscal (July through June) or Calendar (January through December)\n",
    "<br>**Year** - An accounting period of 12 months. The City and County of San Francisco operates on a fiscal year that begins on July 1 and ends on June 30 the following year. The Fiscal Year ending June 30, 2012 is represented as FY2011-2012.\n",
    "<br>**Organization Group Code** - Org Group is a group of Departments. For example, the Public Protection Org Group includes departments such as the Police,Fire, Adult Probation, District Attorney, and Sheriff.\n",
    "<br> **Organization Group** - Org Group is a group of Departments. For example, the Public Protection Org Group includes departments such as the Police,\n",
    "Fire, Adult Probation, District Attorney, and Sheriff.\n",
    "<br>**Department Code** - Departments are the primary organizational unit used by the Cityand County of San Francisco. Examples include Recreation and\n",
    "Parks, Public Works, and the Police Department.\n",
    "<br>**Department Code** - Departments are the primary organizational unit used by the City and County of San Francisco. Examples include Recreation and Parks, Public Works, and the Police Department.\n",
    "<br>**Union Code** - Unions represent employees in collective bargaining agreements. A job belongs to one union, although some jobs are unrepresented (usually temporarily).\n",
    "<br>**Union** - Unions represent employees in collective bargaining agreements. A job belongs to one union, although some jobs are unrepresented (usually temporarily).\n",
    "<br>**Job Family Code** Job Family combines similar Jobs into meaningful groups.\n",
    "<br>**Job Family** Job Family combines similar Jobs into meaningful groups.\n",
    "<br>**Employee Identifier** Each distinct number in the “Employee Identifier” column represents one employee. These identifying numbers are not meaningful but rather are randomly assigned for the purpose of building this dataset. The column does not appear on the\n",
    "Employee Compensation report hosted on openbook.sfgov.org,\n",
    "but that report does show one row for each employee. Employee\n",
    "ID has been included here to allow users to reconstruct the\n",
    "original report. Note that each employee’s identifier will change\n",
    "each time this dataset is updated, so comparisons by employee\n",
    "across multiple versions of the dataset are not possible.\n",
    "<br>**Salaries** - Normal salaries paid to permanent or temporary City employees.\n",
    "<br>**Overtime** - Amounts paid to City employees working in excess of 40 hours\n",
    "per week.\n",
    "<br>**Other Salaries** - Various irregular payments made to City employees including premium pay, incentive pay, or other one-time payments. Total Salary Number The sum of all salaries paid to City employees.\n",
    "<br>**Retirement** City contributions to employee retirement plans.\n",
    "<br>**Health/Dental** City-paid premiums to health and dental insurance plans covering City employees. To protect confidentiality as legally required, pro-rated citywide averages are presented in lieu of employee-specific health and dental benefits.\n",
    "<br>**Other Benefits** Mandatory benefits paid on behalf of employees, such as Social Security (FICA and Medicare) contributions, unemployment\n",
    "insurance premiums, and minor discretionary benefits not included in the above categories.\n",
    "<br>**Total Benefits** The sum of all benefits paid to City employees.\n",
    "<br>**Total Compensation** The sum of all salaries and benefits paid to City employees."
   ]
  },
  {
   "cell_type": "markdown",
   "metadata": {
    "id": "v_3QapC-QP0d"
   },
   "source": [
    "Read the data and answer the following questions to predict employee compensation"
   ]
  },
  {
   "cell_type": "markdown",
   "metadata": {
    "application/vnd.databricks.v1+cell": {
     "inputWidgets": {},
     "nuid": "ffb92bbb-6e3b-46ec-885e-bb4471538c0c",
     "showTitle": false,
     "title": ""
    },
    "id": "_nMVTM8BQP0d"
   },
   "source": [
    "## 1. Read the Data"
   ]
  },
  {
   "cell_type": "code",
   "execution_count": 1,
   "metadata": {
    "id": "PW5bNl6qRY4r"
   },
   "outputs": [],
   "source": [
    "# Basic libraries\n",
    "import numpy as np \n",
    "import matplotlib.pyplot as plt \n",
    "import seaborn as sns\n",
    "import pandas as pd\n",
    "import pyspark\n",
    "\n",
    "# Libraries for pyspark session\n",
    "from pyspark.sql import SparkSession\n",
    "from pyspark import SparkConf\n",
    "from pyspark import SparkContext\n",
    "\n",
    "# PySpark related libraries\n",
    "from pyspark.sql.functions import isnull, when, count, col\n",
    "from pyspark.ml.feature import StringIndexer\n",
    "from pyspark.ml.feature import OneHotEncoder\n",
    "from pyspark.ml.feature import VectorAssembler\n",
    "\n",
    "# Importing PySpark libraries for co-relation matrix\n",
    "from pyspark.ml.stat import Correlation\n",
    "\n",
    "# Importing LinearRegression library\n",
    "from pyspark.ml.regression import LinearRegression\n",
    "\n",
    "# Importing Decision Tree regressor libraries\n",
    "from pyspark.ml.regression import DecisionTreeRegressor\n",
    "from pyspark.ml.evaluation import RegressionEvaluator"
   ]
  },
  {
   "cell_type": "code",
   "execution_count": 2,
   "metadata": {
    "id": "oKyTtwSqRY7b"
   },
   "outputs": [
    {
     "name": "stderr",
     "output_type": "stream",
     "text": [
      "Setting default log level to \"WARN\".\n",
      "To adjust logging level use sc.setLogLevel(newLevel). For SparkR, use setLogLevel(newLevel).\n"
     ]
    },
    {
     "name": "stdout",
     "output_type": "stream",
     "text": [
      "23/07/16 21:13:45 WARN NativeCodeLoader: Unable to load native-hadoop library for your platform... using builtin-java classes where applicable\n"
     ]
    }
   ],
   "source": [
    "# Setting up the spark session\n",
    "conf=pyspark.SparkConf().setAppName('Part2').setMaster('local')\n",
    "sc=pyspark.SparkContext(conf=conf)\n",
    "spark=SparkSession(sc)"
   ]
  },
  {
   "cell_type": "code",
   "execution_count": 3,
   "metadata": {
    "scrolled": false
   },
   "outputs": [
    {
     "name": "stderr",
     "output_type": "stream",
     "text": [
      "                                                                                \r"
     ]
    }
   ],
   "source": [
    "# Let's read the iot_devices.json into a dataframe\n",
    "df = spark.read.csv(\"Employee_Compensation.csv\", inferSchema=True, header=True)"
   ]
  },
  {
   "cell_type": "markdown",
   "metadata": {
    "id": "aWQ3YZi0RdP_"
   },
   "source": [
    "### 1.1 Display the number of rows and columns in the dataset"
   ]
  },
  {
   "cell_type": "code",
   "execution_count": 4,
   "metadata": {
    "id": "hdbFw58TRjQd"
   },
   "outputs": [
    {
     "name": "stdout",
     "output_type": "stream",
     "text": [
      "Number of rows:  291825\n",
      "Number of columns:  22\n"
     ]
    }
   ],
   "source": [
    "row_count = df.count()\n",
    "column_count = len(df.columns)\n",
    "\n",
    "print(\"Number of rows: \", row_count)\n",
    "print(\"Number of columns: \", column_count)"
   ]
  },
  {
   "cell_type": "markdown",
   "metadata": {
    "id": "cZYaCB4cRjjg"
   },
   "source": [
    "### 1.2 Check the datatype of the variables"
   ]
  },
  {
   "cell_type": "code",
   "execution_count": 5,
   "metadata": {
    "id": "jdPpc_mgRpva",
    "scrolled": true
   },
   "outputs": [
    {
     "name": "stdout",
     "output_type": "stream",
     "text": [
      "root\n",
      " |-- Year Type: string (nullable = true)\n",
      " |-- Year: integer (nullable = true)\n",
      " |-- Organization Group Code: integer (nullable = true)\n",
      " |-- Organization Group: string (nullable = true)\n",
      " |-- Department Code: string (nullable = true)\n",
      " |-- Department: string (nullable = true)\n",
      " |-- Union Code: integer (nullable = true)\n",
      " |-- Union: string (nullable = true)\n",
      " |-- Job Family Code: string (nullable = true)\n",
      " |-- Job Family: string (nullable = true)\n",
      " |-- Job Code: string (nullable = true)\n",
      " |-- Job: string (nullable = true)\n",
      " |-- Employee Identifier: integer (nullable = true)\n",
      " |-- Salaries: double (nullable = true)\n",
      " |-- Overtime: double (nullable = true)\n",
      " |-- Other Salaries: double (nullable = true)\n",
      " |-- Total Salary: double (nullable = true)\n",
      " |-- Retirement: double (nullable = true)\n",
      " |-- Health/Dental: double (nullable = true)\n",
      " |-- Other Benefits: double (nullable = true)\n",
      " |-- Total Benefits: double (nullable = true)\n",
      " |-- Total Compensation: double (nullable = true)\n",
      "\n"
     ]
    }
   ],
   "source": [
    "df.printSchema()"
   ]
  },
  {
   "cell_type": "markdown",
   "metadata": {
    "id": "re0TB8PAQP0f"
   },
   "source": [
    "### 2. Convert the incorrect column type into its suitable column type. And drop the redundant features"
   ]
  },
  {
   "cell_type": "code",
   "execution_count": 6,
   "metadata": {
    "scrolled": true
   },
   "outputs": [
    {
     "name": "stdout",
     "output_type": "stream",
     "text": [
      "-RECORD 0---------------------------------------\n",
      " Organization_Group_Code | 4                    \n",
      " Organization_Group      | Community Health     \n",
      "-RECORD 1---------------------------------------\n",
      " Organization_Group_Code | 6                    \n",
      " Organization_Group      | General Administr... \n",
      "-RECORD 2---------------------------------------\n",
      " Organization_Group_Code | 1                    \n",
      " Organization_Group      | Public Protection    \n",
      "-RECORD 3---------------------------------------\n",
      " Organization_Group_Code | 5                    \n",
      " Organization_Group      | Culture & Recreation \n",
      "-RECORD 4---------------------------------------\n",
      " Organization_Group_Code | 2                    \n",
      " Organization_Group      | Public Works, Tra... \n",
      "-RECORD 5---------------------------------------\n",
      " Organization_Group_Code | 7                    \n",
      " Organization_Group      | General City Resp... \n",
      "-RECORD 6---------------------------------------\n",
      " Organization_Group_Code | 3                    \n",
      " Organization_Group      | Human Welfare & N... \n",
      "\n"
     ]
    },
    {
     "name": "stderr",
     "output_type": "stream",
     "text": [
      "\r",
      "[Stage 5:>                                                          (0 + 1) / 1]\r",
      "\r",
      "                                                                                \r"
     ]
    }
   ],
   "source": [
    "# Let's run a SQL query to understand the Organization Group and Organization Group Code mapping\n",
    "temp_df = df.select(\"Organization Group Code\",\"Organization Group\")\n",
    "temp_df = temp_df.withColumn(\"Organization_Group_Code\", df[\"Organization Group Code\"])\n",
    "temp_df = temp_df.withColumn(\"Organization_Group\", df[\"Organization Group\"])\n",
    "temp_df = temp_df.drop(\"Organization Group\", \"Organization Group Code\")\n",
    "temp_df.createOrReplaceTempView(\"temp_compensation\")\n",
    "result = spark.sql(\"SELECT Organization_Group_Code, Organization_Group FROM temp_compensation GROUP BY Organization_Group_Code, Organization_Group\")\n",
    "result.show(vertical=True)"
   ]
  },
  {
   "cell_type": "code",
   "execution_count": 7,
   "metadata": {
    "scrolled": true
   },
   "outputs": [
    {
     "data": {
      "text/plain": [
       "{4: 'Community Health',\n",
       " 6: 'General Administration & Finance',\n",
       " 1: 'Public Protection',\n",
       " 5: 'Culture & Recreation',\n",
       " 2: 'Public Works, Transportation & Commerce',\n",
       " 7: 'General City Responsibilities',\n",
       " 3: 'Human Welfare & Neighborhood Development'}"
      ]
     },
     "execution_count": 7,
     "metadata": {},
     "output_type": "execute_result"
    }
   ],
   "source": [
    "# Let's store it in a dictionary for future use\n",
    "# Convert the result DataFrame into a dictionary\n",
    "Organization_Group_Code_dict = dict(result.collect())\n",
    "Organization_Group_Code_dict"
   ]
  },
  {
   "cell_type": "code",
   "execution_count": 8,
   "metadata": {
    "scrolled": true
   },
   "outputs": [
    {
     "name": "stdout",
     "output_type": "stream",
     "text": [
      "-RECORD 0------------------------\n",
      " Job_Code | 9139                 \n",
      " Job      | Transit Supervisor   \n",
      "-RECORD 1------------------------\n",
      " Job_Code | 1222                 \n",
      " Job      | Sr Payroll & Pers... \n",
      "-RECORD 2------------------------\n",
      " Job_Code | 5174                 \n",
      " Job      | Administrative En... \n",
      "-RECORD 3------------------------\n",
      " Job_Code | 2105                 \n",
      " Job      | Patient Svcs Fina... \n",
      "-RECORD 4------------------------\n",
      " Job_Code | 1071                 \n",
      " Job      | IS Manager           \n",
      "only showing top 5 rows\n",
      "\n"
     ]
    },
    {
     "name": "stderr",
     "output_type": "stream",
     "text": [
      "\r",
      "[Stage 11:>                                                         (0 + 1) / 1]\r",
      "\r",
      "                                                                                \r"
     ]
    }
   ],
   "source": [
    "# Let's run a SQL query to understand the Job and Job Code mapping\n",
    "temp_df = df.select(\"Job\",\"Job Code\" )\n",
    "temp_df = temp_df.withColumn(\"Job_Code\", df[\"Job Code\"])\n",
    "temp_df = temp_df.drop(\"Job Code\")\n",
    "temp_df.createOrReplaceTempView(\"temp_compensation\")\n",
    "result = spark.sql(\"SELECT Job_Code, Job FROM temp_compensation GROUP BY Job_Code, Job\")\n",
    "result.show(n=5, vertical=True)"
   ]
  },
  {
   "cell_type": "code",
   "execution_count": 9,
   "metadata": {
    "scrolled": true
   },
   "outputs": [
    {
     "name": "stdout",
     "output_type": "stream",
     "text": [
      " Job Code, Job\n",
      "----------------\n",
      " 9139, \t   Transit Supervisor \n",
      " 1222, \t   Sr Payroll & Personnel Clerk \n",
      " 5174, \t   Administrative Engineer \n",
      " 2105, \t   Patient Svcs Finance Tech \n",
      " 1071, \t   IS Manager \n"
     ]
    }
   ],
   "source": [
    "# Let's store it in a dictionary for future use\n",
    "# Convert the result DataFrame into a dictionary\n",
    "Job_Code_dict = dict(result.collect())\n",
    "counter = 0\n",
    "print(\" Job Code, Job\")\n",
    "print(\"----------------\")\n",
    "for item in Job_Code_dict.keys():\n",
    "    print(f\" {item}, \\t   {Job_Code_dict[item]} \")\n",
    "    counter += 1\n",
    "    if(counter==5):\n",
    "        break"
   ]
  },
  {
   "cell_type": "code",
   "execution_count": 10,
   "metadata": {
    "scrolled": true
   },
   "outputs": [
    {
     "name": "stdout",
     "output_type": "stream",
     "text": [
      "Column: Year Type, Null Percentage: 0.0%\n",
      "Column: Year, Null Percentage: 0.0%\n",
      "Column: Organization Group Code, Null Percentage: 0.0%\n",
      "Column: Organization Group, Null Percentage: 0.0%\n",
      "Column: Department Code, Null Percentage: 0.0%\n",
      "Column: Department, Null Percentage: 0.0%\n",
      "Column: Union Code, Null Percentage: 0.014734858219823524%\n",
      "Column: Union, Null Percentage: 0.014734858219823524%\n",
      "Column: Job Family Code, Null Percentage: 0.015420200462606013%\n",
      "Column: Job Family, Null Percentage: 0.015420200462606013%\n",
      "Column: Job Code, Null Percentage: 0.0%\n",
      "Column: Job, Null Percentage: 0.0%\n",
      "Column: Employee Identifier, Null Percentage: 0.0%\n",
      "Column: Salaries, Null Percentage: 0.0%\n",
      "Column: Overtime, Null Percentage: 0.0%\n",
      "Column: Other Salaries, Null Percentage: 0.0%\n",
      "Column: Total Salary, Null Percentage: 0.0%\n",
      "Column: Retirement, Null Percentage: 0.0%\n",
      "Column: Health/Dental, Null Percentage: 0.0%\n",
      "Column: Other Benefits, Null Percentage: 0.0%\n",
      "Column: Total Benefits, Null Percentage: 0.0%\n",
      "Column: Total Compensation, Null Percentage: 0.0%\n"
     ]
    }
   ],
   "source": [
    "# Code cell 10\n",
    "# Calculate the percentage of rows per column that have None values\n",
    "total_rows = df.count()\n",
    "for column in df.columns:\n",
    "    null_rows = df.filter(col(column).isNull()).count()\n",
    "    null_percentage = (null_rows / total_rows) * 100\n",
    "    print(f\"Column: {column}, Null Percentage: {null_percentage}%\")"
   ]
  },
  {
   "cell_type": "markdown",
   "metadata": {},
   "source": [
    "##### Remark for code cell 10\n",
    "We can see that there are some missing values for the columns **Union Code, Union, Job Family Code, Job Family**"
   ]
  },
  {
   "cell_type": "code",
   "execution_count": 11,
   "metadata": {
    "id": "173LNkp7QP0f",
    "scrolled": false
   },
   "outputs": [
    {
     "name": "stdout",
     "output_type": "stream",
     "text": [
      "-RECORD 0----------------------------\n",
      " Year Type               | Fiscal    \n",
      " Year                    | 2016      \n",
      " Organization Group Code | 1         \n",
      " Department Code         | DAT       \n",
      " Union Code              | 311       \n",
      " Job Family Code         | 8100      \n",
      " Job Code                | 8177      \n",
      " Salaries                | 114473.16 \n",
      " Overtime                | 0.0       \n",
      " Other Salaries          | 1500.0    \n",
      " Total Salary            | 115973.16 \n",
      " Retirement              | 21025.98  \n",
      " Health/Dental           | 13068.8   \n",
      " Other Benefits          | 9368.71   \n",
      " Total Benefits          | 43463.49  \n",
      " Total Compensation      | 159436.65 \n",
      "only showing top 1 row\n",
      "\n"
     ]
    }
   ],
   "source": [
    "# Dropping redundant features \n",
    "df = df.drop(\"Organization Group\",\"Department\", \"Union\", \"Job Family\", \"Job\", \"Employee Identifier\")\n",
    "df.show(n=1, vertical=True)"
   ]
  },
  {
   "cell_type": "code",
   "execution_count": 12,
   "metadata": {
    "scrolled": true
   },
   "outputs": [
    {
     "name": "stdout",
     "output_type": "stream",
     "text": [
      "root\n",
      " |-- Year Type: string (nullable = true)\n",
      " |-- Year: integer (nullable = true)\n",
      " |-- Organization Group Code: integer (nullable = true)\n",
      " |-- Department Code: string (nullable = true)\n",
      " |-- Union Code: integer (nullable = true)\n",
      " |-- Job Family Code: string (nullable = true)\n",
      " |-- Job Code: string (nullable = true)\n",
      " |-- Salaries: double (nullable = true)\n",
      " |-- Overtime: double (nullable = true)\n",
      " |-- Other Salaries: double (nullable = true)\n",
      " |-- Total Salary: double (nullable = true)\n",
      " |-- Retirement: double (nullable = true)\n",
      " |-- Health/Dental: double (nullable = true)\n",
      " |-- Other Benefits: double (nullable = true)\n",
      " |-- Total Benefits: double (nullable = true)\n",
      " |-- Total Compensation: double (nullable = true)\n",
      "\n"
     ]
    }
   ],
   "source": [
    "df.printSchema()"
   ]
  },
  {
   "cell_type": "markdown",
   "metadata": {},
   "source": [
    "Let's convert the string types to numeric... "
   ]
  },
  {
   "cell_type": "code",
   "execution_count": 13,
   "metadata": {
    "scrolled": true
   },
   "outputs": [
    {
     "name": "stderr",
     "output_type": "stream",
     "text": [
      "                                                                                \r"
     ]
    },
    {
     "name": "stdout",
     "output_type": "stream",
     "text": [
      "-RECORD 0----------------------------\n",
      " Year Type               | Fiscal    \n",
      " Year                    | 2016      \n",
      " Organization Group Code | 1         \n",
      " Department Code         | DAT       \n",
      " Union Code              | 311       \n",
      " Job Family Code         | 8100      \n",
      " Job Code                | 8177      \n",
      " Salaries                | 114473.16 \n",
      " Overtime                | 0.0       \n",
      " Other Salaries          | 1500.0    \n",
      " Total Salary            | 115973.16 \n",
      " Retirement              | 21025.98  \n",
      " Health/Dental           | 13068.8   \n",
      " Other Benefits          | 9368.71   \n",
      " Total Benefits          | 43463.49  \n",
      " Total Compensation      | 159436.65 \n",
      " Year_Type_index         | 0.0       \n",
      " Job_Family_Code_index   | 16.0      \n",
      " Job_Code_index          | 15.0      \n",
      " Department_Code_index   | 19.0      \n",
      "only showing top 1 row\n",
      "\n"
     ]
    }
   ],
   "source": [
    "input_cols = [\"Year Type\",\"Job Family Code\",\"Job Code\",\"Department Code\"]\n",
    "output_cols = [\"Year_Type_index\", \"Job_Family_Code_index\", \"Job_Code_index\",\"Department_Code_index\"]\n",
    "\n",
    "indexer = StringIndexer(inputCols=input_cols, outputCols=output_cols, handleInvalid=\"skip\")\n",
    "df = indexer.fit(df).transform(df)\n",
    "#df = df.drop(\"Year Type\",\"Job Family Code\",\"Job Code\",\"Department Code\")\n",
    "df.show(n=1, vertical=True)"
   ]
  },
  {
   "cell_type": "code",
   "execution_count": 14,
   "metadata": {},
   "outputs": [
    {
     "name": "stderr",
     "output_type": "stream",
     "text": [
      "                                                                                \r"
     ]
    },
    {
     "name": "stdout",
     "output_type": "stream",
     "text": [
      "Mapping of original Job Code and indexes for Job Code created by stringIndexer: \n",
      "\n",
      "Job C, Job Code index \n",
      "--------------------------\n",
      " 8177, \t 15.0 \n",
      " 1844, \t 135.0 \n",
      " 2903, \t 20.0 \n",
      " 2202, \t 332.0 \n",
      " 3279, \t 8.0 \n"
     ]
    }
   ],
   "source": [
    "# Storing the encoding mapping of \"Job Code\" and \"Job Code Index\"\n",
    "job_code_index_enc_dict = dict(df.select(\"Job_Code_index\",\"Job Code\").collect())\n",
    "counter = 0\n",
    "print(\"Mapping of original Job Code and indexes for Job Code created by stringIndexer: \\n\")\n",
    "print(\"Job C, Job Code index \")\n",
    "print(\"--------------------------\")\n",
    "for item in job_code_index_enc_dict.keys():\n",
    "    print(f\" {job_code_index_enc_dict[item]}, \\t {round(item,0)} \")\n",
    "    counter += 1\n",
    "    if(counter==5):\n",
    "        break"
   ]
  },
  {
   "cell_type": "code",
   "execution_count": 15,
   "metadata": {},
   "outputs": [],
   "source": [
    "# Dropping the original columns\n",
    "df = df.drop(\"Year Type\",\"Job Family Code\",\"Job Code\",\"Department Code\")"
   ]
  },
  {
   "cell_type": "code",
   "execution_count": 16,
   "metadata": {
    "scrolled": true
   },
   "outputs": [
    {
     "name": "stderr",
     "output_type": "stream",
     "text": [
      "\r",
      "[Stage 92:>                                                         (0 + 1) / 1]\r",
      "\r",
      "                                                                                \r"
     ]
    },
    {
     "name": "stdout",
     "output_type": "stream",
     "text": [
      "Column: Year, Null Percentage: 0.0%\n",
      "Column: Organization Group Code, Null Percentage: 0.0%\n",
      "Column: Union Code, Null Percentage: 0.0%\n",
      "Column: Salaries, Null Percentage: 0.0%\n",
      "Column: Overtime, Null Percentage: 0.0%\n"
     ]
    },
    {
     "name": "stderr",
     "output_type": "stream",
     "text": [
      "\r",
      "[Stage 110:>                                                        (0 + 1) / 1]\r",
      "\r",
      "                                                                                \r"
     ]
    },
    {
     "name": "stdout",
     "output_type": "stream",
     "text": [
      "Column: Other Salaries, Null Percentage: 0.0%\n",
      "Column: Total Salary, Null Percentage: 0.0%\n",
      "Column: Retirement, Null Percentage: 0.0%\n",
      "Column: Health/Dental, Null Percentage: 0.0%\n"
     ]
    },
    {
     "name": "stderr",
     "output_type": "stream",
     "text": [
      "\r",
      "[Stage 122:>                                                        (0 + 1) / 1]\r",
      "\r",
      "                                                                                \r"
     ]
    },
    {
     "name": "stdout",
     "output_type": "stream",
     "text": [
      "Column: Other Benefits, Null Percentage: 0.0%\n",
      "Column: Total Benefits, Null Percentage: 0.0%\n",
      "Column: Total Compensation, Null Percentage: 0.0%\n",
      "Column: Year_Type_index, Null Percentage: 0.0%\n",
      "Column: Job_Family_Code_index, Null Percentage: 0.0%\n",
      "Column: Job_Code_index, Null Percentage: 0.0%\n",
      "Column: Department_Code_index, Null Percentage: 0.0%\n"
     ]
    }
   ],
   "source": [
    "# Code cell 17\n",
    "# Calculate the percentage of rows per column that have None values\n",
    "total_rows = df.count()\n",
    "for column in df.columns:\n",
    "    null_rows = df.filter(col(column).isNull()).count()\n",
    "    null_percentage = (null_rows / total_rows) * 100\n",
    "    print(f\"Column: {column}, Null Percentage: {null_percentage}%\")"
   ]
  },
  {
   "cell_type": "markdown",
   "metadata": {},
   "source": [
    "##### Remark for code cell 17\n",
    "Observe that missing values for the columns **Union Code, Union, Job Family Code, Job Family** are now 0%.\n",
    "\n",
    "This is because StringIndexer in PySpark assigns a value to missing values (None or null values) in the column automatically without explicit handling. StringIndexer treats missing values as a separate category and assigns a unique index to them.\n",
    "\n",
    "By default, StringIndexer uses the value -1 to represent missing values. However, we can specify a different value using the **setHandleInvalid()** method with the **\"keep\"** option."
   ]
  },
  {
   "cell_type": "markdown",
   "metadata": {
    "application/vnd.databricks.v1+cell": {
     "inputWidgets": {},
     "nuid": "28154731-5e40-46a7-b9b3-9444c20c97e8",
     "showTitle": false,
     "title": ""
    },
    "id": "LYYQFu0dQP0g"
   },
   "source": [
    "### 3. Check basic statistics and perform necessary data preprocessing (Like removing negative amount)"
   ]
  },
  {
   "cell_type": "code",
   "execution_count": 17,
   "metadata": {
    "id": "DbrJKqGqQP0g",
    "scrolled": true
   },
   "outputs": [
    {
     "name": "stderr",
     "output_type": "stream",
     "text": [
      "\r",
      "[Stage 139:>                                                        (0 + 1) / 1]\r"
     ]
    },
    {
     "name": "stdout",
     "output_type": "stream",
     "text": [
      "-RECORD 0--------------------------------------\n",
      " summary                 | count               \n",
      " Year                    | 291780              \n",
      " Organization Group Code | 291780              \n",
      " Union Code              | 291780              \n",
      " Salaries                | 291780              \n",
      " Overtime                | 291780              \n",
      " Other Salaries          | 291780              \n",
      " Total Salary            | 291780              \n",
      " Retirement              | 291780              \n",
      " Health/Dental           | 291780              \n",
      " Other Benefits          | 291780              \n",
      " Total Benefits          | 291780              \n",
      " Total Compensation      | 291780              \n",
      " Year_Type_index         | 291780              \n",
      " Job_Family_Code_index   | 291780              \n",
      " Job_Code_index          | 291780              \n",
      " Department_Code_index   | 291780              \n",
      "-RECORD 1--------------------------------------\n",
      " summary                 | mean                \n",
      " Year                    | 2014.3248029337171  \n",
      " Organization Group Code | 2.9769175406127903  \n",
      " Union Code              | 489.50702584138736  \n",
      " Salaries                | 63217.50868436003   \n",
      " Overtime                | 4407.446114332669   \n",
      " Other Salaries          | 3781.503300431628   \n",
      " Total Salary            | 71406.4580991163    \n",
      " Retirement              | 12939.250722702001  \n",
      " Health/Dental           | 8922.91011052773    \n",
      " Other Benefits          | 4644.751855473425   \n",
      " Total Benefits          | 26506.912688704226  \n",
      " Total Compensation      | 97913.37078782043   \n",
      " Year_Type_index         | 0.4260607306875043  \n",
      " Job_Family_Code_index   | 10.908526972376448  \n",
      " Job_Code_index          | 115.48635273151004  \n",
      " Department_Code_index   | 6.8179141819178835  \n",
      "-RECORD 2--------------------------------------\n",
      " summary                 | stddev              \n",
      " Year                    | 1.0321352604211558  \n",
      " Organization Group Code | 1.57774295714257    \n",
      " Union Code              | 333.76208303970617  \n",
      " Salaries                | 44659.13274364933   \n",
      " Overtime                | 11080.148890493894  \n",
      " Other Salaries          | 7698.157206890118   \n",
      " Total Salary            | 52223.09667479797   \n",
      " Retirement              | 9784.921035538538   \n",
      " Health/Dental           | 4899.9800540383385  \n",
      " Other Benefits          | 3787.861521183913   \n",
      " Total Benefits          | 16799.403469530953  \n",
      " Total Compensation      | 67775.48233372133   \n",
      " Year_Type_index         | 0.49450361225127504 \n",
      " Job_Family_Code_index   | 10.610491274137415  \n",
      " Job_Code_index          | 170.19448668236137  \n",
      " Department_Code_index   | 9.04905460012686    \n",
      "-RECORD 3--------------------------------------\n",
      " summary                 | min                 \n",
      " Year                    | 2013                \n",
      " Organization Group Code | 1                   \n",
      " Union Code              | 1                   \n",
      " Salaries                | -68771.78           \n",
      " Overtime                | -12308.66           \n",
      " Other Salaries          | -19131.1            \n",
      " Total Salary            | -68771.78           \n",
      " Retirement              | -30621.43           \n",
      " Health/Dental           | -2940.47            \n",
      " Other Benefits          | -10636.5            \n",
      " Total Benefits          | -21295.15           \n",
      " Total Compensation      | -74082.61           \n",
      " Year_Type_index         | 0.0                 \n",
      " Job_Family_Code_index   | 0.0                 \n",
      " Job_Code_index          | 0.0                 \n",
      " Department_Code_index   | 0.0                 \n",
      "-RECORD 4--------------------------------------\n",
      " summary                 | max                 \n",
      " Year                    | 2016                \n",
      " Organization Group Code | 7                   \n",
      " Union Code              | 990                 \n",
      " Salaries                | 515101.8            \n",
      " Overtime                | 227313.62           \n",
      " Other Salaries          | 342802.63           \n",
      " Total Salary            | 515101.8            \n",
      " Retirement              | 105052.98           \n",
      " Health/Dental           | 21872.8             \n",
      " Other Benefits          | 35157.63            \n",
      " Total Benefits          | 141043.64           \n",
      " Total Compensation      | 653498.15           \n",
      " Year_Type_index         | 1.0                 \n",
      " Job_Family_Code_index   | 55.0                \n",
      " Job_Code_index          | 1132.0              \n",
      " Department_Code_index   | 53.0                \n",
      "\n"
     ]
    },
    {
     "name": "stderr",
     "output_type": "stream",
     "text": [
      "\r",
      "                                                                                \r"
     ]
    }
   ],
   "source": [
    "# Checking basic statistics\n",
    "df.describe().show(vertical=True)"
   ]
  },
  {
   "cell_type": "code",
   "execution_count": 18,
   "metadata": {
    "scrolled": true
   },
   "outputs": [
    {
     "name": "stdout",
     "output_type": "stream",
     "text": [
      "-RECORD 0----------------------------\n",
      " Year                    | 2016      \n",
      " Salaries                | 114473.16 \n",
      " Overtime                | 0.0       \n",
      " Retirement              | 21025.98  \n",
      " Year_Type_index         | 0.0       \n",
      " Job_Family_Code_index   | 16.0      \n",
      " Job_Code_index          | 15.0      \n",
      " Department_Code_index   | 19.0      \n",
      " Other_Salaries          | 1500.0    \n",
      " Total_Salary            | 115973.16 \n",
      " Other_Benefits          | 9368.71   \n",
      " Total_Benefits          | 43463.49  \n",
      " Total_Compensation      | 159436.65 \n",
      " Organization_Group_Code | 1         \n",
      " Union_Code              | 311       \n",
      " Health_Dental           | 13068.8   \n",
      "only showing top 1 row\n",
      "\n"
     ]
    }
   ],
   "source": [
    "# Let's rename a few columns so it is easier to write sql queries\n",
    "# Columns names with spaces in between make the query error prone \n",
    "# so removing spaces from column names\n",
    "df = df.withColumn(\"Other_Salaries\", df[\"Other Salaries\"])\n",
    "df = df.withColumn(\"Total_Salary\", df[\"Total Salary\"])\n",
    "df = df.withColumn(\"Other_Benefits\", df[\"Other Benefits\"])\n",
    "df = df.withColumn(\"Total_Benefits\", df[\"Total Benefits\"])\n",
    "df = df.withColumn(\"Total_Compensation\", df[\"Total Compensation\"])\n",
    "df = df.withColumn(\"Organization_Group_Code\", df[\"Organization Group Code\"])\n",
    "df = df.withColumn(\"Union_Code\", df[\"Union Code\"])\n",
    "df = df.withColumn(\"Health_Dental\", df[\"Health/Dental\"])\n",
    "df = df.drop(\"Other Salaries\",\"Total Salary\",\"Other Benefits\",\"Total Benefits\", \"Total Compensation\", \"Organization Group Code\",\"Union Code\", \"Health/Dental\")\n",
    "df.show(1, vertical=True)"
   ]
  },
  {
   "cell_type": "code",
   "execution_count": 19,
   "metadata": {},
   "outputs": [],
   "source": [
    "# Let's register the dataframe as a view to run sql on\n",
    "df.createOrReplaceTempView(\"compensation\")"
   ]
  },
  {
   "cell_type": "code",
   "execution_count": 20,
   "metadata": {
    "scrolled": true
   },
   "outputs": [
    {
     "name": "stdout",
     "output_type": "stream",
     "text": [
      "+---------+\n",
      "| Salaries|\n",
      "+---------+\n",
      "|-68771.78|\n",
      "|-18437.73|\n",
      "|-17635.32|\n",
      "|  -7423.0|\n",
      "|  -6622.5|\n",
      "+---------+\n",
      "only showing top 5 rows\n",
      "\n"
     ]
    },
    {
     "name": "stderr",
     "output_type": "stream",
     "text": [
      "\r",
      "[Stage 143:>                                                        (0 + 1) / 1]\r",
      "\r",
      "                                                                                \r"
     ]
    }
   ],
   "source": [
    "result = spark.sql(\"SELECT Salaries FROM compensation WHERE Salaries < 0 ORDER BY Salaries\")\n",
    "result.show(5)"
   ]
  },
  {
   "cell_type": "code",
   "execution_count": 21,
   "metadata": {
    "scrolled": false
   },
   "outputs": [
    {
     "name": "stdout",
     "output_type": "stream",
     "text": [
      "+---------------+\n",
      "|count(Salaries)|\n",
      "+---------------+\n",
      "|             79|\n",
      "+---------------+\n",
      "\n"
     ]
    }
   ],
   "source": [
    "result = spark.sql(\"SELECT Count(Salaries) FROM compensation WHERE Salaries < 0\")\n",
    "result.show()"
   ]
  },
  {
   "cell_type": "markdown",
   "metadata": {},
   "source": [
    "Removing rows with negative salaries, as it is not possible to have negative salary & to avoid introducing any bias in dataset by imputting rows containing negative salaries with median salary."
   ]
  },
  {
   "cell_type": "code",
   "execution_count": 22,
   "metadata": {},
   "outputs": [],
   "source": [
    "# Filter out rows where salary is greater than or equal to 0\n",
    "df = df.filter(col(\"Salaries\") >= 0)"
   ]
  },
  {
   "cell_type": "code",
   "execution_count": 23,
   "metadata": {
    "scrolled": false
   },
   "outputs": [
    {
     "name": "stdout",
     "output_type": "stream",
     "text": [
      "+----------------+\n",
      "|Count_of_Neg_Sal|\n",
      "+----------------+\n",
      "|               0|\n",
      "+----------------+\n",
      "\n"
     ]
    }
   ],
   "source": [
    "# Let's confirm if the rows containing negative rows have been removed\n",
    "# Note we will have to replace the older view as the dataframe has been modified\n",
    "# Thus re-creating the view with new dataframe\n",
    "df.createOrReplaceTempView(\"compensation\")\n",
    "result = spark.sql(\"SELECT Count(Salaries) as Count_of_Neg_Sal FROM compensation WHERE Salaries < 0\")\n",
    "result.show()"
   ]
  },
  {
   "cell_type": "markdown",
   "metadata": {},
   "source": [
    "Apart from salary, the following columns have negative values:\n",
    "- Overtime, \n",
    "- Other_Salaries, \n",
    "- Total_Salary,\n",
    "- Retirement,\n",
    "- Health_Dental, \n",
    "- Other_Benefits, \n",
    "- Total_Benefits, \n",
    "- Total_Compensation"
   ]
  },
  {
   "cell_type": "code",
   "execution_count": 24,
   "metadata": {},
   "outputs": [
    {
     "name": "stderr",
     "output_type": "stream",
     "text": [
      "                                                                                \r"
     ]
    },
    {
     "data": {
      "text/plain": [
       "0.0"
      ]
     },
     "execution_count": 24,
     "metadata": {},
     "output_type": "execute_result"
    }
   ],
   "source": [
    "# Calculate the median of the 'Overtime' column using a SQL query\n",
    "median_overtime = spark.sql(\"SELECT percentile_approx(Overtime, 0.5) as median FROM compensation\").collect()[0][\"median\"]\n",
    "median_overtime"
   ]
  },
  {
   "cell_type": "code",
   "execution_count": 25,
   "metadata": {},
   "outputs": [
    {
     "name": "stderr",
     "output_type": "stream",
     "text": [
      "                                                                                \r"
     ]
    },
    {
     "data": {
      "text/plain": [
       "13170.45"
      ]
     },
     "execution_count": 25,
     "metadata": {},
     "output_type": "execute_result"
    }
   ],
   "source": [
    "# Calculate the median of the 'Retirement' column using a SQL query\n",
    "median_retirement = spark.sql(\"SELECT percentile_approx(Retirement, 0.5) as median FROM compensation\").collect()[0][\"median\"]\n",
    "median_retirement"
   ]
  },
  {
   "cell_type": "code",
   "execution_count": 26,
   "metadata": {
    "scrolled": false
   },
   "outputs": [
    {
     "name": "stderr",
     "output_type": "stream",
     "text": [
      "\r",
      "[Stage 155:>                                                        (0 + 1) / 1]\r",
      "\r",
      "                                                                                \r"
     ]
    },
    {
     "data": {
      "text/plain": [
       "11971.43"
      ]
     },
     "execution_count": 26,
     "metadata": {},
     "output_type": "execute_result"
    }
   ],
   "source": [
    "# Calculate the median of the 'Health_Dental' column using a SQL query\n",
    "median_Health_Dental = spark.sql(\"SELECT percentile_approx(Health_Dental,0.5) as median FROM compensation\").collect()[0][\"median\"]\n",
    "median_Health_Dental"
   ]
  },
  {
   "cell_type": "code",
   "execution_count": 27,
   "metadata": {
    "scrolled": true
   },
   "outputs": [
    {
     "name": "stderr",
     "output_type": "stream",
     "text": [
      "                                                                                \r"
     ]
    },
    {
     "data": {
      "text/plain": [
       "696.96"
      ]
     },
     "execution_count": 27,
     "metadata": {},
     "output_type": "execute_result"
    }
   ],
   "source": [
    "# Calculate the median of the 'Other_Salaries' column using a SQL query\n",
    "median_Other_Salaries = spark.sql(\"SELECT percentile_approx(Other_Salaries, 0.5) as median FROM compensation\").collect()[0][\"median\"]\n",
    "median_Other_Salaries"
   ]
  },
  {
   "cell_type": "code",
   "execution_count": 28,
   "metadata": {
    "scrolled": true
   },
   "outputs": [
    {
     "name": "stderr",
     "output_type": "stream",
     "text": [
      "                                                                                \r"
     ]
    },
    {
     "data": {
      "text/plain": [
       "67870.98"
      ]
     },
     "execution_count": 28,
     "metadata": {},
     "output_type": "execute_result"
    }
   ],
   "source": [
    "# Calculate the median of the 'Total_Salary' column using a SQL query\n",
    "median_Total_Salary = spark.sql(\"SELECT percentile_approx(Total_Salary, 0.5) as median FROM compensation\").collect()[0][\"median\"]\n",
    "median_Total_Salary"
   ]
  },
  {
   "cell_type": "code",
   "execution_count": 29,
   "metadata": {},
   "outputs": [
    {
     "name": "stderr",
     "output_type": "stream",
     "text": [
      "                                                                                \r"
     ]
    },
    {
     "data": {
      "text/plain": [
       "4350.63"
      ]
     },
     "execution_count": 29,
     "metadata": {},
     "output_type": "execute_result"
    }
   ],
   "source": [
    "# Calculate the median of the 'Other_Benefits' column using a SQL query\n",
    "median_Other_Benefits = spark.sql(\"SELECT percentile_approx(Other_Benefits, 0.5) as median FROM compensation\").collect()[0][\"median\"]\n",
    "median_Other_Benefits"
   ]
  },
  {
   "cell_type": "code",
   "execution_count": 30,
   "metadata": {},
   "outputs": [
    {
     "name": "stderr",
     "output_type": "stream",
     "text": [
      "\r",
      "[Stage 167:>                                                        (0 + 1) / 1]\r",
      "\r",
      "                                                                                \r"
     ]
    },
    {
     "data": {
      "text/plain": [
       "30319.5"
      ]
     },
     "execution_count": 30,
     "metadata": {},
     "output_type": "execute_result"
    }
   ],
   "source": [
    "# Calculate the median of the 'Total_Benefits' column using a SQL query\n",
    "median_Total_Benefits = spark.sql(\"SELECT percentile_approx(Total_Benefits, 0.5) as median FROM compensation\").collect()[0][\"median\"]\n",
    "median_Total_Benefits"
   ]
  },
  {
   "cell_type": "code",
   "execution_count": 31,
   "metadata": {},
   "outputs": [
    {
     "name": "stderr",
     "output_type": "stream",
     "text": [
      "                                                                                \r"
     ]
    },
    {
     "data": {
      "text/plain": [
       "98061.92"
      ]
     },
     "execution_count": 31,
     "metadata": {},
     "output_type": "execute_result"
    }
   ],
   "source": [
    "# Calculate the median of the 'Total_Compensation' column using a SQL query\n",
    "median_Total_Compensation = spark.sql(\"SELECT percentile_approx(Total_Compensation, 0.5) as median FROM compensation\").collect()[0][\"median\"]\n",
    "median_Total_Compensation"
   ]
  },
  {
   "cell_type": "code",
   "execution_count": 32,
   "metadata": {},
   "outputs": [],
   "source": [
    "# Fill in rows with negative values for the columns\n",
    "df = df.withColumn(\"Overtime\", when(col(\"Overtime\") < 0, median_overtime).otherwise(col(\"Overtime\")))\n",
    "df = df.withColumn(\"Retirement\", when(col(\"Retirement\") < 0, median_retirement).otherwise(col(\"Retirement\")))\n",
    "df = df.withColumn(\"Health_Dental\", when(col(\"Health_Dental\") < 0, median_Health_Dental).otherwise(col(\"Health_Dental\")))\n",
    "df = df.withColumn(\"Other_Salaries\", when(col(\"Other_Salaries\") < 0, median_Other_Salaries).otherwise(col(\"Other_Salaries\")))\n",
    "df = df.withColumn(\"Total_Salary\", when(col(\"Total_Salary\") < 0, median_Total_Salary).otherwise(col(\"Total_Salary\")))\n",
    "df = df.withColumn(\"Other_Benefits\", when(col(\"Other_Benefits\") < 0, median_Other_Benefits).otherwise(col(\"Other_Benefits\")))\n",
    "df = df.withColumn(\"Total_Benefits\", when(col(\"Total_Benefits\") < 0, median_Total_Benefits).otherwise(col(\"Total_Benefits\")))\n",
    "df = df.withColumn(\"Total_Compensation\", when(col(\"Total_Compensation\") < 0, median_Total_Compensation).otherwise(col(\"Total_Compensation\")))"
   ]
  },
  {
   "cell_type": "code",
   "execution_count": 33,
   "metadata": {
    "scrolled": true
   },
   "outputs": [
    {
     "name": "stderr",
     "output_type": "stream",
     "text": [
      "\r",
      "[Stage 173:>                                                        (0 + 1) / 1]\r"
     ]
    },
    {
     "name": "stdout",
     "output_type": "stream",
     "text": [
      "-RECORD 0--------------------------------------\n",
      " summary                 | count               \n",
      " Year                    | 291701              \n",
      " Salaries                | 291701              \n",
      " Overtime                | 291701              \n",
      " Retirement              | 291701              \n",
      " Year_Type_index         | 291701              \n",
      " Job_Family_Code_index   | 291701              \n",
      " Job_Code_index          | 291701              \n",
      " Department_Code_index   | 291701              \n",
      " Other_Salaries          | 291701              \n",
      " Total_Salary            | 291701              \n",
      " Other_Benefits          | 291701              \n",
      " Total_Benefits          | 291701              \n",
      " Total_Compensation      | 291701              \n",
      " Organization_Group_Code | 291701              \n",
      " Union_Code              | 291701              \n",
      " Health_Dental           | 291701              \n",
      "-RECORD 1--------------------------------------\n",
      " summary                 | mean                \n",
      " Year                    | 2014.3247949098563  \n",
      " Salaries                | 63235.377997204574  \n",
      " Overtime                | 4408.696255892116   \n",
      " Retirement              | 12961.74011127825   \n",
      " Year_Type_index         | 0.4261624060253479  \n",
      " Job_Family_Code_index   | 10.908896438476384  \n",
      " Job_Code_index          | 115.48220266642898  \n",
      " Department_Code_index   | 6.81738835314243    \n",
      " Other_Salaries          | 3781.088233190634   \n",
      " Total_Salary            | 71426.63407352098   \n",
      " Other_Benefits          | 4656.507952526867   \n",
      " Total_Benefits          | 26556.62489686403   \n",
      " Total_Compensation      | 98008.03568222291   \n",
      " Organization_Group_Code | 2.9768632949492804  \n",
      " Union_Code              | 489.4922883363444   \n",
      " Health_Dental           | 8937.876481841937   \n",
      "-RECORD 2--------------------------------------\n",
      " summary                 | stddev              \n",
      " Year                    | 1.0321419259390108  \n",
      " Salaries                | 44651.778830764975  \n",
      " Overtime                | 11081.365239551971  \n",
      " Retirement              | 9768.499681127409   \n",
      " Year_Type_index         | 0.49451880456716707 \n",
      " Job_Family_Code_index   | 10.610129622663045  \n",
      " Job_Code_index          | 170.18710998805258  \n",
      " Department_Code_index   | 9.04778133458641    \n",
      " Other_Salaries          | 7695.647131885712   \n",
      " Total_Salary            | 52216.358056814126  \n",
      " Other_Benefits          | 3779.3469741036356  \n",
      " Total_Benefits          | 16765.63392188047   \n",
      " Total_Compensation      | 67716.2748254838    \n",
      " Organization_Group_Code | 1.5777385715846854  \n",
      " Union_Code              | 333.76335703328004  \n",
      " Health_Dental           | 4890.740583561448   \n",
      "-RECORD 3--------------------------------------\n",
      " summary                 | min                 \n",
      " Year                    | 2013                \n",
      " Salaries                | 0.0                 \n",
      " Overtime                | 0.0                 \n",
      " Retirement              | 0.0                 \n",
      " Year_Type_index         | 0.0                 \n",
      " Job_Family_Code_index   | 0.0                 \n",
      " Job_Code_index          | 0.0                 \n",
      " Department_Code_index   | 0.0                 \n",
      " Other_Salaries          | 0.0                 \n",
      " Total_Salary            | 0.0                 \n",
      " Other_Benefits          | 0.0                 \n",
      " Total_Benefits          | 0.0                 \n",
      " Total_Compensation      | 0.0                 \n",
      " Organization_Group_Code | 1                   \n",
      " Union_Code              | 1                   \n",
      " Health_Dental           | 0.0                 \n",
      "-RECORD 4--------------------------------------\n",
      " summary                 | max                 \n",
      " Year                    | 2016                \n",
      " Salaries                | 515101.8            \n",
      " Overtime                | 227313.62           \n",
      " Retirement              | 105052.98           \n",
      " Year_Type_index         | 1.0                 \n",
      " Job_Family_Code_index   | 55.0                \n",
      " Job_Code_index          | 1132.0              \n",
      " Department_Code_index   | 53.0                \n",
      " Other_Salaries          | 342802.63           \n",
      " Total_Salary            | 515101.8            \n",
      " Other_Benefits          | 35157.63            \n",
      " Total_Benefits          | 141043.64           \n",
      " Total_Compensation      | 653498.15           \n",
      " Organization_Group_Code | 7                   \n",
      " Union_Code              | 990                 \n",
      " Health_Dental           | 21872.8             \n",
      "\n"
     ]
    },
    {
     "name": "stderr",
     "output_type": "stream",
     "text": [
      "\r",
      "                                                                                \r"
     ]
    }
   ],
   "source": [
    "# Let's re-check if the negative values have been removed\n",
    "df.describe().show(vertical=True)"
   ]
  },
  {
   "cell_type": "markdown",
   "metadata": {},
   "source": [
    "Now there are no negative values present for the above mentioned columns"
   ]
  },
  {
   "cell_type": "markdown",
   "metadata": {
    "application/vnd.databricks.v1+cell": {
     "inputWidgets": {},
     "nuid": "5b4a36b1-7f14-4a99-851e-492fd8ebb193",
     "showTitle": false,
     "title": ""
    },
    "id": "woI-NVRxQP0g"
   },
   "source": [
    "### 4. Perform Missing Value Analysis"
   ]
  },
  {
   "cell_type": "code",
   "execution_count": 34,
   "metadata": {
    "id": "T7kTJJ_QQP0g",
    "scrolled": true
   },
   "outputs": [
    {
     "name": "stderr",
     "output_type": "stream",
     "text": [
      "\r",
      "[Stage 176:>                                                        (0 + 1) / 1]\r"
     ]
    },
    {
     "name": "stdout",
     "output_type": "stream",
     "text": [
      "-RECORD 0----------------------\n",
      " Year                    | 0   \n",
      " Salaries                | 0   \n",
      " Overtime                | 0   \n",
      " Retirement              | 0   \n",
      " Year_Type_index         | 0   \n",
      " Job_Family_Code_index   | 0   \n",
      " Job_Code_index          | 0   \n",
      " Department_Code_index   | 0   \n",
      " Other_Salaries          | 0   \n",
      " Total_Salary            | 0   \n",
      " Other_Benefits          | 0   \n",
      " Total_Benefits          | 0   \n",
      " Total_Compensation      | 0   \n",
      " Organization_Group_Code | 0   \n",
      " Union_Code              | 0   \n",
      " Health_Dental           | 0   \n",
      "\n"
     ]
    },
    {
     "name": "stderr",
     "output_type": "stream",
     "text": [
      "\r",
      "                                                                                \r"
     ]
    }
   ],
   "source": [
    "df.select([count(when(isnull(c), c)).alias(c) for c in df.columns]).show(vertical=True)"
   ]
  },
  {
   "cell_type": "markdown",
   "metadata": {},
   "source": [
    "As observed in **remarks in Code cell 10 and 17**, there were a few missing values for Job_Family_Code and Union_Code - however **stringIndexer has assigned a unique values to the missing values implicitly** and I will be converting these columns to categorical columns through OneHotEncoding thereby treating missing values in these columns as a separate category. This is done to avoid imputation and to let the algorithm learn itself if there are any patterns in missing data."
   ]
  },
  {
   "cell_type": "markdown",
   "metadata": {
    "application/vnd.databricks.v1+cell": {
     "inputWidgets": {},
     "nuid": "9cd43cd2-ed88-4edf-ba6f-7e7e6f2f65d1",
     "showTitle": false,
     "title": ""
    },
    "id": "K_KbHnjZQP0g"
   },
   "source": [
    "### 5. Exploratory Data Analysis"
   ]
  },
  {
   "cell_type": "markdown",
   "metadata": {
    "application/vnd.databricks.v1+cell": {
     "inputWidgets": {},
     "nuid": "44aa560c-5c6a-4188-a740-5e49cd147b26",
     "showTitle": false,
     "title": ""
    },
    "id": "5hea56hUQP0h"
   },
   "source": [
    "#### 5.1. Find top compensating organizations. Display using bar plot"
   ]
  },
  {
   "cell_type": "code",
   "execution_count": 35,
   "metadata": {},
   "outputs": [
    {
     "name": "stdout",
     "output_type": "stream",
     "text": [
      "root\n",
      " |-- Year: integer (nullable = true)\n",
      " |-- Salaries: double (nullable = true)\n",
      " |-- Overtime: double (nullable = true)\n",
      " |-- Retirement: double (nullable = true)\n",
      " |-- Year_Type_index: double (nullable = false)\n",
      " |-- Job_Family_Code_index: double (nullable = false)\n",
      " |-- Job_Code_index: double (nullable = false)\n",
      " |-- Department_Code_index: double (nullable = false)\n",
      " |-- Other_Salaries: double (nullable = true)\n",
      " |-- Total_Salary: double (nullable = true)\n",
      " |-- Other_Benefits: double (nullable = true)\n",
      " |-- Total_Benefits: double (nullable = true)\n",
      " |-- Total_Compensation: double (nullable = true)\n",
      " |-- Organization_Group_Code: integer (nullable = true)\n",
      " |-- Union_Code: integer (nullable = true)\n",
      " |-- Health_Dental: double (nullable = true)\n",
      "\n"
     ]
    }
   ],
   "source": [
    "df.printSchema()"
   ]
  },
  {
   "cell_type": "code",
   "execution_count": 36,
   "metadata": {
    "id": "kpaIAoMQQP0h",
    "scrolled": true
   },
   "outputs": [
    {
     "name": "stderr",
     "output_type": "stream",
     "text": [
      "\r",
      "[Stage 179:>                                                        (0 + 1) / 1]\r"
     ]
    },
    {
     "name": "stdout",
     "output_type": "stream",
     "text": [
      "+-----------------------+----------------------+\n",
      "|Organization_Group_Code|Avg_Total_Compensation|\n",
      "+-----------------------+----------------------+\n",
      "|                      1|    142236.30949577756|\n",
      "|                      2|     98802.65538117242|\n",
      "|                      4|     95081.91639937599|\n",
      "|                      6|     91155.60900121508|\n",
      "|                      3|     66635.50288822156|\n",
      "|                      5|    49302.622747364476|\n",
      "|                      7|     17682.88197324415|\n",
      "+-----------------------+----------------------+\n",
      "\n"
     ]
    },
    {
     "name": "stderr",
     "output_type": "stream",
     "text": [
      "\r",
      "                                                                                \r"
     ]
    }
   ],
   "source": [
    "df.createOrReplaceTempView(\"compensation\")\n",
    "result = spark.sql(\"SELECT Organization_Group_Code , avg(Total_Compensation) as Avg_Total_Compensation FROM compensation GROUP BY Organization_Group_Code ORDER BY Avg_Total_Compensation DESC\")\n",
    "result.show()"
   ]
  },
  {
   "cell_type": "code",
   "execution_count": 37,
   "metadata": {
    "scrolled": true
   },
   "outputs": [
    {
     "name": "stderr",
     "output_type": "stream",
     "text": [
      "                                                                                \r"
     ]
    },
    {
     "data": {
      "text/html": [
       "<div>\n",
       "<style scoped>\n",
       "    .dataframe tbody tr th:only-of-type {\n",
       "        vertical-align: middle;\n",
       "    }\n",
       "\n",
       "    .dataframe tbody tr th {\n",
       "        vertical-align: top;\n",
       "    }\n",
       "\n",
       "    .dataframe thead th {\n",
       "        text-align: right;\n",
       "    }\n",
       "</style>\n",
       "<table border=\"1\" class=\"dataframe\">\n",
       "  <thead>\n",
       "    <tr style=\"text-align: right;\">\n",
       "      <th></th>\n",
       "      <th>Organization_Group_Code</th>\n",
       "      <th>Avg_Total_Compensation</th>\n",
       "    </tr>\n",
       "  </thead>\n",
       "  <tbody>\n",
       "    <tr>\n",
       "      <th>0</th>\n",
       "      <td>1</td>\n",
       "      <td>142236.309496</td>\n",
       "    </tr>\n",
       "    <tr>\n",
       "      <th>1</th>\n",
       "      <td>2</td>\n",
       "      <td>98802.655381</td>\n",
       "    </tr>\n",
       "    <tr>\n",
       "      <th>2</th>\n",
       "      <td>4</td>\n",
       "      <td>95081.916399</td>\n",
       "    </tr>\n",
       "    <tr>\n",
       "      <th>3</th>\n",
       "      <td>6</td>\n",
       "      <td>91155.609001</td>\n",
       "    </tr>\n",
       "    <tr>\n",
       "      <th>4</th>\n",
       "      <td>3</td>\n",
       "      <td>66635.502888</td>\n",
       "    </tr>\n",
       "    <tr>\n",
       "      <th>5</th>\n",
       "      <td>5</td>\n",
       "      <td>49302.622747</td>\n",
       "    </tr>\n",
       "    <tr>\n",
       "      <th>6</th>\n",
       "      <td>7</td>\n",
       "      <td>17682.881973</td>\n",
       "    </tr>\n",
       "  </tbody>\n",
       "</table>\n",
       "</div>"
      ],
      "text/plain": [
       "   Organization_Group_Code  Avg_Total_Compensation\n",
       "0                        1           142236.309496\n",
       "1                        2            98802.655381\n",
       "2                        4            95081.916399\n",
       "3                        6            91155.609001\n",
       "4                        3            66635.502888\n",
       "5                        5            49302.622747\n",
       "6                        7            17682.881973"
      ]
     },
     "execution_count": 37,
     "metadata": {},
     "output_type": "execute_result"
    }
   ],
   "source": [
    "# Convert the PySpark DataFrame to a Pandas DataFrame\n",
    "org_compensation_df = result.toPandas()\n",
    "org_compensation_df"
   ]
  },
  {
   "cell_type": "code",
   "execution_count": 38,
   "metadata": {
    "scrolled": true
   },
   "outputs": [
    {
     "data": {
      "text/html": [
       "<div>\n",
       "<style scoped>\n",
       "    .dataframe tbody tr th:only-of-type {\n",
       "        vertical-align: middle;\n",
       "    }\n",
       "\n",
       "    .dataframe tbody tr th {\n",
       "        vertical-align: top;\n",
       "    }\n",
       "\n",
       "    .dataframe thead th {\n",
       "        text-align: right;\n",
       "    }\n",
       "</style>\n",
       "<table border=\"1\" class=\"dataframe\">\n",
       "  <thead>\n",
       "    <tr style=\"text-align: right;\">\n",
       "      <th></th>\n",
       "      <th>Organization_Group_Code</th>\n",
       "      <th>Avg_Total_Compensation</th>\n",
       "    </tr>\n",
       "  </thead>\n",
       "  <tbody>\n",
       "    <tr>\n",
       "      <th>0</th>\n",
       "      <td>Public Protection</td>\n",
       "      <td>142236.309496</td>\n",
       "    </tr>\n",
       "    <tr>\n",
       "      <th>1</th>\n",
       "      <td>Public Works, Transportation &amp; Commerce</td>\n",
       "      <td>98802.655381</td>\n",
       "    </tr>\n",
       "    <tr>\n",
       "      <th>2</th>\n",
       "      <td>Community Health</td>\n",
       "      <td>95081.916399</td>\n",
       "    </tr>\n",
       "    <tr>\n",
       "      <th>3</th>\n",
       "      <td>General Administration &amp; Finance</td>\n",
       "      <td>91155.609001</td>\n",
       "    </tr>\n",
       "    <tr>\n",
       "      <th>4</th>\n",
       "      <td>Human Welfare &amp; Neighborhood Development</td>\n",
       "      <td>66635.502888</td>\n",
       "    </tr>\n",
       "    <tr>\n",
       "      <th>5</th>\n",
       "      <td>Culture &amp; Recreation</td>\n",
       "      <td>49302.622747</td>\n",
       "    </tr>\n",
       "    <tr>\n",
       "      <th>6</th>\n",
       "      <td>General City Responsibilities</td>\n",
       "      <td>17682.881973</td>\n",
       "    </tr>\n",
       "  </tbody>\n",
       "</table>\n",
       "</div>"
      ],
      "text/plain": [
       "                    Organization_Group_Code  Avg_Total_Compensation\n",
       "0                         Public Protection           142236.309496\n",
       "1   Public Works, Transportation & Commerce            98802.655381\n",
       "2                          Community Health            95081.916399\n",
       "3          General Administration & Finance            91155.609001\n",
       "4  Human Welfare & Neighborhood Development            66635.502888\n",
       "5                      Culture & Recreation            49302.622747\n",
       "6             General City Responsibilities            17682.881973"
      ]
     },
     "execution_count": 38,
     "metadata": {},
     "output_type": "execute_result"
    }
   ],
   "source": [
    "org_compensation_df[\"Organization_Group_Code\"] = org_compensation_df[\"Organization_Group_Code\"].apply(lambda x: Organization_Group_Code_dict[x])\n",
    "org_compensation_df"
   ]
  },
  {
   "cell_type": "code",
   "execution_count": 39,
   "metadata": {
    "scrolled": false
   },
   "outputs": [
    {
     "name": "stderr",
     "output_type": "stream",
     "text": [
      "/var/folders/97/vq6bhv0d5jd8spklkj7_6dl80000gn/T/ipykernel_45735/2913816511.py:6: UserWarning: FixedFormatter should only be used together with FixedLocator\n",
      "  ax.set_xticklabels(org_compensation_df.Organization_Group_Code, rotation=45, ha='right')\n"
     ]
    },
    {
     "data": {
      "image/png": "[encoded data removed]",
      "text/plain": [
       "<Figure size 640x480 with 1 Axes>"
      ]
     },
     "metadata": {},
     "output_type": "display_data"
    }
   ],
   "source": [
    "# Plot the bar chart\n",
    "fig, ax = plt.subplots()\n",
    "ax.bar(org_compensation_df.Organization_Group_Code, org_compensation_df.Avg_Total_Compensation)\n",
    "\n",
    "# Set slanted x-axis labels\n",
    "ax.set_xticklabels(org_compensation_df.Organization_Group_Code, rotation=45, ha='right')\n",
    "\n",
    "# Set plot title and labels\n",
    "plt.title('Organization wise Compensation')\n",
    "plt.xlabel('Organization')\n",
    "plt.ylabel('Avg Compensation')\n",
    "\n",
    "# Display the plot\n",
    "plt.show()"
   ]
  },
  {
   "cell_type": "markdown",
   "metadata": {
    "application/vnd.databricks.v1+cell": {
     "inputWidgets": {},
     "nuid": "c991e941-045b-4556-ba17-f9c5454fdf06",
     "showTitle": false,
     "title": ""
    },
    "id": "hijeAEfXQP0h"
   },
   "source": [
    "#### 5.2. Find top Compensating Jobs. Display using bar plot"
   ]
  },
  {
   "cell_type": "code",
   "execution_count": 40,
   "metadata": {
    "scrolled": true
   },
   "outputs": [
    {
     "name": "stdout",
     "output_type": "stream",
     "text": [
      "root\n",
      " |-- Year: integer (nullable = true)\n",
      " |-- Salaries: double (nullable = true)\n",
      " |-- Overtime: double (nullable = true)\n",
      " |-- Retirement: double (nullable = true)\n",
      " |-- Year_Type_index: double (nullable = false)\n",
      " |-- Job_Family_Code_index: double (nullable = false)\n",
      " |-- Job_Code_index: double (nullable = false)\n",
      " |-- Department_Code_index: double (nullable = false)\n",
      " |-- Other_Salaries: double (nullable = true)\n",
      " |-- Total_Salary: double (nullable = true)\n",
      " |-- Other_Benefits: double (nullable = true)\n",
      " |-- Total_Benefits: double (nullable = true)\n",
      " |-- Total_Compensation: double (nullable = true)\n",
      " |-- Organization_Group_Code: integer (nullable = true)\n",
      " |-- Union_Code: integer (nullable = true)\n",
      " |-- Health_Dental: double (nullable = true)\n",
      "\n"
     ]
    }
   ],
   "source": [
    "df.printSchema()"
   ]
  },
  {
   "cell_type": "code",
   "execution_count": 41,
   "metadata": {
    "id": "AmdpJh5vQP0h",
    "scrolled": false
   },
   "outputs": [
    {
     "name": "stderr",
     "output_type": "stream",
     "text": [
      "                                                                                \r"
     ]
    },
    {
     "name": "stdout",
     "output_type": "stream",
     "text": [
      "+--------------+----------------------+\n",
      "|Job_Code_index|Avg_Total_Compensation|\n",
      "+--------------+----------------------+\n",
      "|        1050.0|    480653.56599999993|\n",
      "|         924.0|     421244.0228571428|\n",
      "|         922.0|     417736.6542857143|\n",
      "|        1022.0|     393196.4685714286|\n",
      "|         928.0|     371392.5457142857|\n",
      "|         619.0|     358547.0466666667|\n",
      "|         949.0|    358525.73285714287|\n",
      "|         926.0|     349378.3085714286|\n",
      "|         821.0|    343062.12400000007|\n",
      "|         625.0|    342554.15190476197|\n",
      "|        1008.0|    332883.26714285713|\n",
      "|        1032.0|    329839.98000000004|\n",
      "|        1007.0|     313132.2557142857|\n",
      "|         798.0|    311706.67055555555|\n",
      "|        1035.0|    308902.96714285715|\n",
      "|        1006.0|     301998.3871428571|\n",
      "|        1018.0|     299572.4985714286|\n",
      "|         931.0|             295481.29|\n",
      "|         222.0|     293472.3110344826|\n",
      "|         959.0|             293040.69|\n",
      "+--------------+----------------------+\n",
      "only showing top 20 rows\n",
      "\n"
     ]
    },
    {
     "name": "stderr",
     "output_type": "stream",
     "text": [
      "                                                                                \r"
     ]
    },
    {
     "data": {
      "text/html": [
       "<div>\n",
       "<style scoped>\n",
       "    .dataframe tbody tr th:only-of-type {\n",
       "        vertical-align: middle;\n",
       "    }\n",
       "\n",
       "    .dataframe tbody tr th {\n",
       "        vertical-align: top;\n",
       "    }\n",
       "\n",
       "    .dataframe thead th {\n",
       "        text-align: right;\n",
       "    }\n",
       "</style>\n",
       "<table border=\"1\" class=\"dataframe\">\n",
       "  <thead>\n",
       "    <tr style=\"text-align: right;\">\n",
       "      <th></th>\n",
       "      <th>Job_Code_index</th>\n",
       "      <th>Avg_Total_Compensation</th>\n",
       "    </tr>\n",
       "  </thead>\n",
       "  <tbody>\n",
       "    <tr>\n",
       "      <th>0</th>\n",
       "      <td>1050.0</td>\n",
       "      <td>480653.566000</td>\n",
       "    </tr>\n",
       "    <tr>\n",
       "      <th>1</th>\n",
       "      <td>924.0</td>\n",
       "      <td>421244.022857</td>\n",
       "    </tr>\n",
       "    <tr>\n",
       "      <th>2</th>\n",
       "      <td>922.0</td>\n",
       "      <td>417736.654286</td>\n",
       "    </tr>\n",
       "    <tr>\n",
       "      <th>3</th>\n",
       "      <td>1022.0</td>\n",
       "      <td>393196.468571</td>\n",
       "    </tr>\n",
       "    <tr>\n",
       "      <th>4</th>\n",
       "      <td>928.0</td>\n",
       "      <td>371392.545714</td>\n",
       "    </tr>\n",
       "    <tr>\n",
       "      <th>...</th>\n",
       "      <td>...</td>\n",
       "      <td>...</td>\n",
       "    </tr>\n",
       "    <tr>\n",
       "      <th>1125</th>\n",
       "      <td>874.0</td>\n",
       "      <td>2092.302500</td>\n",
       "    </tr>\n",
       "    <tr>\n",
       "      <th>1126</th>\n",
       "      <td>200.0</td>\n",
       "      <td>1816.173889</td>\n",
       "    </tr>\n",
       "    <tr>\n",
       "      <th>1127</th>\n",
       "      <td>150.0</td>\n",
       "      <td>1815.471432</td>\n",
       "    </tr>\n",
       "    <tr>\n",
       "      <th>1128</th>\n",
       "      <td>1125.0</td>\n",
       "      <td>1777.550000</td>\n",
       "    </tr>\n",
       "    <tr>\n",
       "      <th>1129</th>\n",
       "      <td>198.0</td>\n",
       "      <td>328.411176</td>\n",
       "    </tr>\n",
       "  </tbody>\n",
       "</table>\n",
       "<p>1130 rows × 2 columns</p>\n",
       "</div>"
      ],
      "text/plain": [
       "      Job_Code_index  Avg_Total_Compensation\n",
       "0             1050.0           480653.566000\n",
       "1              924.0           421244.022857\n",
       "2              922.0           417736.654286\n",
       "3             1022.0           393196.468571\n",
       "4              928.0           371392.545714\n",
       "...              ...                     ...\n",
       "1125           874.0             2092.302500\n",
       "1126           200.0             1816.173889\n",
       "1127           150.0             1815.471432\n",
       "1128          1125.0             1777.550000\n",
       "1129           198.0              328.411176\n",
       "\n",
       "[1130 rows x 2 columns]"
      ]
     },
     "execution_count": 41,
     "metadata": {},
     "output_type": "execute_result"
    }
   ],
   "source": [
    "df.createOrReplaceTempView(\"compensation\")\n",
    "result = spark.sql(\"SELECT Job_Code_index , avg(Total_Compensation) as Avg_Total_Compensation FROM compensation GROUP BY Job_Code_index ORDER BY Avg_Total_Compensation DESC\")\n",
    "result.show()\n",
    "\n",
    "# Convert the PySpark DataFrame to a Pandas DataFrame\n",
    "job_compensation_df = result.toPandas()\n",
    "job_compensation_df\n"
   ]
  },
  {
   "cell_type": "code",
   "execution_count": 42,
   "metadata": {
    "scrolled": false
   },
   "outputs": [
    {
     "data": {
      "text/html": [
       "<div>\n",
       "<style scoped>\n",
       "    .dataframe tbody tr th:only-of-type {\n",
       "        vertical-align: middle;\n",
       "    }\n",
       "\n",
       "    .dataframe tbody tr th {\n",
       "        vertical-align: top;\n",
       "    }\n",
       "\n",
       "    .dataframe thead th {\n",
       "        text-align: right;\n",
       "    }\n",
       "</style>\n",
       "<table border=\"1\" class=\"dataframe\">\n",
       "  <thead>\n",
       "    <tr style=\"text-align: right;\">\n",
       "      <th></th>\n",
       "      <th>Job_Code_index</th>\n",
       "      <th>Avg_Total_Compensation</th>\n",
       "    </tr>\n",
       "  </thead>\n",
       "  <tbody>\n",
       "    <tr>\n",
       "      <th>0</th>\n",
       "      <td>Chief Investment Officer</td>\n",
       "      <td>480653.566000</td>\n",
       "    </tr>\n",
       "    <tr>\n",
       "      <th>1</th>\n",
       "      <td>Chief Of Police</td>\n",
       "      <td>421244.022857</td>\n",
       "    </tr>\n",
       "    <tr>\n",
       "      <th>2</th>\n",
       "      <td>Chief, Fire Department</td>\n",
       "      <td>417736.654286</td>\n",
       "    </tr>\n",
       "    <tr>\n",
       "      <th>3</th>\n",
       "      <td>Gen Mgr, Public Trnsp Dept</td>\n",
       "      <td>393196.468571</td>\n",
       "    </tr>\n",
       "    <tr>\n",
       "      <th>4</th>\n",
       "      <td>Mayor</td>\n",
       "      <td>371392.545714</td>\n",
       "    </tr>\n",
       "    <tr>\n",
       "      <th>...</th>\n",
       "      <td>...</td>\n",
       "      <td>...</td>\n",
       "    </tr>\n",
       "    <tr>\n",
       "      <th>1125</th>\n",
       "      <td>Manager I, MTA</td>\n",
       "      <td>2092.302500</td>\n",
       "    </tr>\n",
       "    <tr>\n",
       "      <th>1126</th>\n",
       "      <td>Bdcomm Mbr, Grp3,M=$50/Mtg</td>\n",
       "      <td>1816.173889</td>\n",
       "    </tr>\n",
       "    <tr>\n",
       "      <th>1127</th>\n",
       "      <td>Bdcomm Mbr, Grp5,M$100/Mo</td>\n",
       "      <td>1815.471432</td>\n",
       "    </tr>\n",
       "    <tr>\n",
       "      <th>1128</th>\n",
       "      <td>Cashier 3</td>\n",
       "      <td>1777.550000</td>\n",
       "    </tr>\n",
       "    <tr>\n",
       "      <th>1129</th>\n",
       "      <td>Bdcomm Mbr, Grp2,M=$25/Mtg</td>\n",
       "      <td>328.411176</td>\n",
       "    </tr>\n",
       "  </tbody>\n",
       "</table>\n",
       "<p>1130 rows × 2 columns</p>\n",
       "</div>"
      ],
      "text/plain": [
       "                  Job_Code_index  Avg_Total_Compensation\n",
       "0       Chief Investment Officer           480653.566000\n",
       "1                Chief Of Police           421244.022857\n",
       "2         Chief, Fire Department           417736.654286\n",
       "3     Gen Mgr, Public Trnsp Dept           393196.468571\n",
       "4                          Mayor           371392.545714\n",
       "...                          ...                     ...\n",
       "1125              Manager I, MTA             2092.302500\n",
       "1126  Bdcomm Mbr, Grp3,M=$50/Mtg             1816.173889\n",
       "1127   Bdcomm Mbr, Grp5,M$100/Mo             1815.471432\n",
       "1128                   Cashier 3             1777.550000\n",
       "1129  Bdcomm Mbr, Grp2,M=$25/Mtg              328.411176\n",
       "\n",
       "[1130 rows x 2 columns]"
      ]
     },
     "execution_count": 42,
     "metadata": {},
     "output_type": "execute_result"
    }
   ],
   "source": [
    "# Mapping the Job_code_index to Job\n",
    "job_compensation_df[\"Job_Code_index\"] = job_compensation_df[\"Job_Code_index\"].apply(lambda x: Job_Code_dict[job_code_index_enc_dict[x]])\n",
    "job_compensation_df"
   ]
  },
  {
   "cell_type": "code",
   "execution_count": 43,
   "metadata": {},
   "outputs": [
    {
     "data": {
      "text/html": [
       "<div>\n",
       "<style scoped>\n",
       "    .dataframe tbody tr th:only-of-type {\n",
       "        vertical-align: middle;\n",
       "    }\n",
       "\n",
       "    .dataframe tbody tr th {\n",
       "        vertical-align: top;\n",
       "    }\n",
       "\n",
       "    .dataframe thead th {\n",
       "        text-align: right;\n",
       "    }\n",
       "</style>\n",
       "<table border=\"1\" class=\"dataframe\">\n",
       "  <thead>\n",
       "    <tr style=\"text-align: right;\">\n",
       "      <th></th>\n",
       "      <th>Job_Code_index</th>\n",
       "      <th>Avg_Total_Compensation</th>\n",
       "    </tr>\n",
       "  </thead>\n",
       "  <tbody>\n",
       "    <tr>\n",
       "      <th>0</th>\n",
       "      <td>Chief Investment Officer</td>\n",
       "      <td>480653.566000</td>\n",
       "    </tr>\n",
       "    <tr>\n",
       "      <th>1</th>\n",
       "      <td>Chief Of Police</td>\n",
       "      <td>421244.022857</td>\n",
       "    </tr>\n",
       "    <tr>\n",
       "      <th>2</th>\n",
       "      <td>Chief, Fire Department</td>\n",
       "      <td>417736.654286</td>\n",
       "    </tr>\n",
       "    <tr>\n",
       "      <th>3</th>\n",
       "      <td>Gen Mgr, Public Trnsp Dept</td>\n",
       "      <td>393196.468571</td>\n",
       "    </tr>\n",
       "    <tr>\n",
       "      <th>4</th>\n",
       "      <td>Mayor</td>\n",
       "      <td>371392.545714</td>\n",
       "    </tr>\n",
       "    <tr>\n",
       "      <th>5</th>\n",
       "      <td>Dept Head V</td>\n",
       "      <td>358547.046667</td>\n",
       "    </tr>\n",
       "    <tr>\n",
       "      <th>6</th>\n",
       "      <td>Controller</td>\n",
       "      <td>358525.732857</td>\n",
       "    </tr>\n",
       "    <tr>\n",
       "      <th>7</th>\n",
       "      <td>Adm, SFGH Medical Center</td>\n",
       "      <td>349378.308571</td>\n",
       "    </tr>\n",
       "    <tr>\n",
       "      <th>8</th>\n",
       "      <td>Dep Chf Of Dept (Fire Dept)</td>\n",
       "      <td>343062.124000</td>\n",
       "    </tr>\n",
       "    <tr>\n",
       "      <th>9</th>\n",
       "      <td>Asst Chf Of Dept (Fire Dept)</td>\n",
       "      <td>342554.151905</td>\n",
       "    </tr>\n",
       "  </tbody>\n",
       "</table>\n",
       "</div>"
      ],
      "text/plain": [
       "                 Job_Code_index  Avg_Total_Compensation\n",
       "0      Chief Investment Officer           480653.566000\n",
       "1               Chief Of Police           421244.022857\n",
       "2        Chief, Fire Department           417736.654286\n",
       "3    Gen Mgr, Public Trnsp Dept           393196.468571\n",
       "4                         Mayor           371392.545714\n",
       "5                   Dept Head V           358547.046667\n",
       "6                    Controller           358525.732857\n",
       "7      Adm, SFGH Medical Center           349378.308571\n",
       "8   Dep Chf Of Dept (Fire Dept)           343062.124000\n",
       "9  Asst Chf Of Dept (Fire Dept)           342554.151905"
      ]
     },
     "execution_count": 43,
     "metadata": {},
     "output_type": "execute_result"
    }
   ],
   "source": [
    "job_compensation_df_subset = job_compensation_df[:10]\n",
    "job_compensation_df_subset"
   ]
  },
  {
   "cell_type": "code",
   "execution_count": 44,
   "metadata": {},
   "outputs": [
    {
     "name": "stderr",
     "output_type": "stream",
     "text": [
      "/var/folders/97/vq6bhv0d5jd8spklkj7_6dl80000gn/T/ipykernel_45735/1522671621.py:6: UserWarning: FixedFormatter should only be used together with FixedLocator\n",
      "  ax.set_xticklabels(job_compensation_df_subset.Job_Code_index, rotation=45, ha='right')\n"
     ]
    },
    {
     "data": {
      "image/png": "[encoded data removed]",
      "text/plain": [
       "<Figure size 640x480 with 1 Axes>"
      ]
     },
     "metadata": {},
     "output_type": "display_data"
    }
   ],
   "source": [
    "# Plotting top 10 paying jobs using the bar chart\n",
    "fig, ax = plt.subplots()\n",
    "ax.bar(job_compensation_df_subset.Job_Code_index, job_compensation_df_subset.Avg_Total_Compensation)\n",
    "\n",
    "# Set slanted x-axis labels\n",
    "ax.set_xticklabels(job_compensation_df_subset.Job_Code_index, rotation=45, ha='right')\n",
    "\n",
    "# Set plot title and labels\n",
    "plt.title('Job wise Compensation for top paying jobs')\n",
    "plt.xlabel('Job')\n",
    "plt.ylabel('Avg Compensation')\n",
    "\n",
    "# Display the plot\n",
    "plt.show()"
   ]
  },
  {
   "cell_type": "markdown",
   "metadata": {
    "application/vnd.databricks.v1+cell": {
     "inputWidgets": {},
     "nuid": "1ffac626-b0f9-45f4-b780-c1c06edf6dd1",
     "showTitle": false,
     "title": ""
    },
    "id": "txsSQSvNQP0h"
   },
   "source": [
    "#### 5.3. Check Correlation of Target Variable with Other Independent Variables. Plot Heatmap"
   ]
  },
  {
   "cell_type": "code",
   "execution_count": 45,
   "metadata": {},
   "outputs": [
    {
     "name": "stdout",
     "output_type": "stream",
     "text": [
      "root\n",
      " |-- Year: integer (nullable = true)\n",
      " |-- Salaries: double (nullable = true)\n",
      " |-- Overtime: double (nullable = true)\n",
      " |-- Retirement: double (nullable = true)\n",
      " |-- Year_Type_index: double (nullable = false)\n",
      " |-- Job_Family_Code_index: double (nullable = false)\n",
      " |-- Job_Code_index: double (nullable = false)\n",
      " |-- Department_Code_index: double (nullable = false)\n",
      " |-- Other_Salaries: double (nullable = true)\n",
      " |-- Total_Salary: double (nullable = true)\n",
      " |-- Other_Benefits: double (nullable = true)\n",
      " |-- Total_Benefits: double (nullable = true)\n",
      " |-- Total_Compensation: double (nullable = true)\n",
      " |-- Organization_Group_Code: integer (nullable = true)\n",
      " |-- Union_Code: integer (nullable = true)\n",
      " |-- Health_Dental: double (nullable = true)\n",
      "\n"
     ]
    }
   ],
   "source": [
    "df.printSchema()"
   ]
  },
  {
   "cell_type": "code",
   "execution_count": 46,
   "metadata": {
    "id": "NFo9Q21lQP0h"
   },
   "outputs": [
    {
     "name": "stderr",
     "output_type": "stream",
     "text": [
      "                                                                                \r"
     ]
    },
    {
     "name": "stdout",
     "output_type": "stream",
     "text": [
      "23/07/16 21:14:47 WARN InstanceBuilder$NativeBLAS: Failed to load implementation from:dev.ludovic.netlib.blas.JNIBLAS\n",
      "23/07/16 21:14:47 WARN InstanceBuilder$NativeBLAS: Failed to load implementation from:dev.ludovic.netlib.blas.ForeignLinkerBLAS\n"
     ]
    },
    {
     "name": "stderr",
     "output_type": "stream",
     "text": [
      "                                                                                \r"
     ]
    }
   ],
   "source": [
    "# Specifying the columns for which we want to calculate the correlation\n",
    "columns = ['Salaries', 'Overtime', 'Retirement', 'Other_Salaries', 'Total_Salary', 'Other_Benefits', \n",
    "          'Total_Benefits', 'Health_Dental', 'Total_Compensation']\n",
    "\n",
    "# Creating a VectorAssembler to combine the columns into a single vector column\n",
    "assembler = VectorAssembler(inputCols=columns, outputCol='features')\n",
    "vectorized_df = assembler.transform(df).select('features')\n",
    "\n",
    "# Compute the correlation matrix\n",
    "correlation_matrix = Correlation.corr(vectorized_df, 'features').head()"
   ]
  },
  {
   "cell_type": "code",
   "execution_count": 47,
   "metadata": {},
   "outputs": [],
   "source": [
    "correlation_values = correlation_matrix[0].toArray()"
   ]
  },
  {
   "cell_type": "code",
   "execution_count": 48,
   "metadata": {},
   "outputs": [
    {
     "data": {
      "image/png": "[encoded data removed]",
      "text/plain": [
       "<Figure size 640x480 with 2 Axes>"
      ]
     },
     "metadata": {},
     "output_type": "display_data"
    }
   ],
   "source": [
    "# Creating a heatmap \n",
    "plt.imshow(correlation_values, cmap='coolwarm', interpolation='nearest')\n",
    "plt.colorbar()\n",
    "plt.xticks(range(len(columns)), columns, rotation=90)\n",
    "plt.yticks(range(len(columns)), columns)\n",
    "plt.show()"
   ]
  },
  {
   "cell_type": "markdown",
   "metadata": {
    "application/vnd.databricks.v1+cell": {
     "inputWidgets": {},
     "nuid": "9f43beda-e255-4431-a35a-bb05a1f1e670",
     "showTitle": false,
     "title": ""
    },
    "id": "NiZX_Be8QP0h"
   },
   "source": [
    "### 6. Perform necessary data pre-processing and divide the data into train and test set"
   ]
  },
  {
   "cell_type": "markdown",
   "metadata": {
    "id": "6p5egOcB-VnG"
   },
   "source": [
    "### 6.1 Categorise the attributes into its type (Use one hot encoding wherever required)"
   ]
  },
  {
   "cell_type": "code",
   "execution_count": 49,
   "metadata": {
    "scrolled": true
   },
   "outputs": [
    {
     "name": "stdout",
     "output_type": "stream",
     "text": [
      "root\n",
      " |-- Year: integer (nullable = true)\n",
      " |-- Salaries: double (nullable = true)\n",
      " |-- Overtime: double (nullable = true)\n",
      " |-- Retirement: double (nullable = true)\n",
      " |-- Year_Type_index: double (nullable = false)\n",
      " |-- Job_Family_Code_index: double (nullable = false)\n",
      " |-- Job_Code_index: double (nullable = false)\n",
      " |-- Department_Code_index: double (nullable = false)\n",
      " |-- Other_Salaries: double (nullable = true)\n",
      " |-- Total_Salary: double (nullable = true)\n",
      " |-- Other_Benefits: double (nullable = true)\n",
      " |-- Total_Benefits: double (nullable = true)\n",
      " |-- Total_Compensation: double (nullable = true)\n",
      " |-- Organization_Group_Code: integer (nullable = true)\n",
      " |-- Union_Code: integer (nullable = true)\n",
      " |-- Health_Dental: double (nullable = true)\n",
      "\n"
     ]
    }
   ],
   "source": [
    "df.printSchema()"
   ]
  },
  {
   "cell_type": "code",
   "execution_count": 50,
   "metadata": {},
   "outputs": [
    {
     "name": "stderr",
     "output_type": "stream",
     "text": [
      "                                                                                \r"
     ]
    },
    {
     "name": "stdout",
     "output_type": "stream",
     "text": [
      "-RECORD 0------------------------------------------\n",
      " Year                        | 2016                \n",
      " Salaries                    | 114473.16           \n",
      " Overtime                    | 0.0                 \n",
      " Retirement                  | 21025.98            \n",
      " Year_Type_index             | 0.0                 \n",
      " Job_Family_Code_index       | 16.0                \n",
      " Job_Code_index              | 15.0                \n",
      " Department_Code_index       | 19.0                \n",
      " Other_Salaries              | 1500.0              \n",
      " Total_Salary                | 115973.16           \n",
      " Other_Benefits              | 9368.71             \n",
      " Total_Benefits              | 43463.49            \n",
      " Total_Compensation          | 159436.65           \n",
      " Organization_Group_Code     | 1                   \n",
      " Union_Code                  | 311                 \n",
      " Health_Dental               | 13068.8             \n",
      " Organization_Group_Code_vec | (7,[1],[1.0])       \n",
      " Union_Code_vec              | (990,[311],[1.0])   \n",
      " Job_Family_Code_index_vec   | (55,[16],[1.0])     \n",
      " Job_Code_index_vec          | (1132,[15],[1.0])   \n",
      " Department_Code_index_vec   | (53,[19],[1.0])     \n",
      " Year_vec                    | (2016,[],[])        \n",
      " Year_Type_index_vec         | (1,[0],[1.0])       \n",
      "-RECORD 1------------------------------------------\n",
      " Year                        | 2013                \n",
      " Salaries                    | 84077.11            \n",
      " Overtime                    | 0.0                 \n",
      " Retirement                  | 16587.3             \n",
      " Year_Type_index             | 1.0                 \n",
      " Job_Family_Code_index       | 14.0                \n",
      " Job_Code_index              | 135.0               \n",
      " Department_Code_index       | 43.0                \n",
      " Other_Salaries              | 0.0                 \n",
      " Total_Salary                | 84077.11            \n",
      " Other_Benefits              | 6931.91             \n",
      " Total_Benefits              | 35976.94            \n",
      " Total_Compensation          | 120054.05           \n",
      " Organization_Group_Code     | 5                   \n",
      " Union_Code                  | 790                 \n",
      " Health_Dental               | 12457.73            \n",
      " Organization_Group_Code_vec | (7,[5],[1.0])       \n",
      " Union_Code_vec              | (990,[790],[1.0])   \n",
      " Job_Family_Code_index_vec   | (55,[14],[1.0])     \n",
      " Job_Code_index_vec          | (1132,[135],[1.0])  \n",
      " Department_Code_index_vec   | (53,[43],[1.0])     \n",
      " Year_vec                    | (2016,[2013],[1.0]) \n",
      " Year_Type_index_vec         | (1,[],[])           \n",
      "only showing top 2 rows\n",
      "\n"
     ]
    }
   ],
   "source": [
    "# Let's one-hot encode the categorical columns\n",
    "input_cols = [\"Organization_Group_Code\", \"Union_Code\", \"Job_Family_Code_index\", \"Job_Code_index\",\"Department_Code_index\",\"Year\", \"Year_Type_index\"]\n",
    "output_cols = [\"Organization_Group_Code_vec\", \"Union_Code_vec\", \"Job_Family_Code_index_vec\", \"Job_Code_index_vec\",\"Department_Code_index_vec\", \"Year_vec\", \"Year_Type_index_vec\"]\n",
    "\n",
    "encoder = OneHotEncoder(inputCols=input_cols, outputCols=output_cols)\n",
    "df = encoder.fit(df).transform(df)\n",
    "df.show(n=2, vertical=True)"
   ]
  },
  {
   "cell_type": "code",
   "execution_count": 51,
   "metadata": {
    "scrolled": true
   },
   "outputs": [
    {
     "name": "stdout",
     "output_type": "stream",
     "text": [
      "-RECORD 0------------------------------------------\n",
      " Salaries                    | 114473.16           \n",
      " Overtime                    | 0.0                 \n",
      " Retirement                  | 21025.98            \n",
      " Other_Salaries              | 1500.0              \n",
      " Total_Salary                | 115973.16           \n",
      " Other_Benefits              | 9368.71             \n",
      " Total_Benefits              | 43463.49            \n",
      " Total_Compensation          | 159436.65           \n",
      " Health_Dental               | 13068.8             \n",
      " Organization_Group_Code_vec | (7,[1],[1.0])       \n",
      " Union_Code_vec              | (990,[311],[1.0])   \n",
      " Job_Family_Code_index_vec   | (55,[16],[1.0])     \n",
      " Job_Code_index_vec          | (1132,[15],[1.0])   \n",
      " Department_Code_index_vec   | (53,[19],[1.0])     \n",
      " Year_vec                    | (2016,[],[])        \n",
      " Year_Type_index_vec         | (1,[0],[1.0])       \n",
      "-RECORD 1------------------------------------------\n",
      " Salaries                    | 84077.11            \n",
      " Overtime                    | 0.0                 \n",
      " Retirement                  | 16587.3             \n",
      " Other_Salaries              | 0.0                 \n",
      " Total_Salary                | 84077.11            \n",
      " Other_Benefits              | 6931.91             \n",
      " Total_Benefits              | 35976.94            \n",
      " Total_Compensation          | 120054.05           \n",
      " Health_Dental               | 12457.73            \n",
      " Organization_Group_Code_vec | (7,[5],[1.0])       \n",
      " Union_Code_vec              | (990,[790],[1.0])   \n",
      " Job_Family_Code_index_vec   | (55,[14],[1.0])     \n",
      " Job_Code_index_vec          | (1132,[135],[1.0])  \n",
      " Department_Code_index_vec   | (53,[43],[1.0])     \n",
      " Year_vec                    | (2016,[2013],[1.0]) \n",
      " Year_Type_index_vec         | (1,[],[])           \n",
      "only showing top 2 rows\n",
      "\n"
     ]
    }
   ],
   "source": [
    "# Now let's drop the original columns since we have obtained the one-hot vectors\n",
    "df = df.drop(\"Organization_Group_Code\", \"Union_Code\", \"Job_Family_Code_index\", \"Job_Code_index\",\"Department_Code_index\",\"Year\", \"Year_Type_index\")\n",
    "df.show(n=2, vertical=True)"
   ]
  },
  {
   "cell_type": "code",
   "execution_count": 52,
   "metadata": {
    "id": "O5SYln1OQP0i",
    "scrolled": true
   },
   "outputs": [
    {
     "name": "stdout",
     "output_type": "stream",
     "text": [
      "23/07/16 21:14:50 WARN package: Truncated the string representation of a plan since it was too large. This behavior can be adjusted by setting 'spark.sql.debug.maxToStringFields'.\n",
      "+--------------------+\n",
      "|            features|\n",
      "+--------------------+\n",
      "|(4262,[0,2,3,4,5,...|\n",
      "|(4262,[0,2,4,5,6,...|\n",
      "|(4262,[0,3,4,5,6,...|\n",
      "|(4262,[0,4,5,6,7,...|\n",
      "|(4262,[0,3,4,5,6,...|\n",
      "+--------------------+\n",
      "only showing top 5 rows\n",
      "\n"
     ]
    }
   ],
   "source": [
    "features_col = df.columns\n",
    "features_col.remove('Total_Compensation')\n",
    "\n",
    "# Create the VectorAssembler object\n",
    "assembler = VectorAssembler(inputCols= features_col, outputCol= \"features\")\n",
    "assembledDF = assembler.transform(df)\n",
    "assembledDF.select(\"features\").show(5, True)"
   ]
  },
  {
   "cell_type": "code",
   "execution_count": 53,
   "metadata": {},
   "outputs": [
    {
     "name": "stdout",
     "output_type": "stream",
     "text": [
      "-RECORD 0-------------------------------------------\n",
      " Salaries                    | 114473.16            \n",
      " Overtime                    | 0.0                  \n",
      " Retirement                  | 21025.98             \n",
      " Other_Salaries              | 1500.0               \n",
      " Total_Salary                | 115973.16            \n",
      " Other_Benefits              | 9368.71              \n",
      " Total_Benefits              | 43463.49             \n",
      " Total_Compensation          | 159436.65            \n",
      " Health_Dental               | 13068.8              \n",
      " Organization_Group_Code_vec | (7,[1],[1.0])        \n",
      " Union_Code_vec              | (990,[311],[1.0])    \n",
      " Job_Family_Code_index_vec   | (55,[16],[1.0])      \n",
      " Job_Code_index_vec          | (1132,[15],[1.0])    \n",
      " Department_Code_index_vec   | (53,[19],[1.0])      \n",
      " Year_vec                    | (2016,[],[])         \n",
      " Year_Type_index_vec         | (1,[0],[1.0])        \n",
      " features                    | (4262,[0,2,3,4,5,... \n",
      "only showing top 1 row\n",
      "\n"
     ]
    }
   ],
   "source": [
    "assembledDF.show(n=1, vertical=True)"
   ]
  },
  {
   "cell_type": "code",
   "execution_count": 54,
   "metadata": {
    "scrolled": true
   },
   "outputs": [
    {
     "name": "stdout",
     "output_type": "stream",
     "text": [
      "+--------------------+------------------+\n",
      "|            features|Total_Compensation|\n",
      "+--------------------+------------------+\n",
      "|(4262,[0,2,3,4,5,...|         159436.65|\n",
      "|(4262,[0,2,4,5,6,...|         120054.05|\n",
      "|(4262,[0,3,4,5,6,...|          13868.64|\n",
      "|(4262,[0,4,5,6,7,...|            3718.5|\n",
      "|(4262,[0,3,4,5,6,...|          10128.64|\n",
      "+--------------------+------------------+\n",
      "only showing top 5 rows\n",
      "\n"
     ]
    }
   ],
   "source": [
    "final_data = assembledDF.select(\"features\",\"Total_Compensation\")\n",
    "final_data.show(5, True)"
   ]
  },
  {
   "cell_type": "markdown",
   "metadata": {
    "id": "rrGRAFAG-YLX"
   },
   "source": [
    "### 6.2 Split the data into train and test set"
   ]
  },
  {
   "cell_type": "code",
   "execution_count": 55,
   "metadata": {
    "id": "K7phDDJU-sav"
   },
   "outputs": [],
   "source": [
    "train_data , test_data = final_data.randomSplit([0.8,0.2])"
   ]
  },
  {
   "cell_type": "code",
   "execution_count": 56,
   "metadata": {
    "scrolled": true
   },
   "outputs": [
    {
     "name": "stderr",
     "output_type": "stream",
     "text": [
      "\r",
      "[Stage 211:>                                                        (0 + 1) / 1]\r"
     ]
    },
    {
     "name": "stdout",
     "output_type": "stream",
     "text": [
      "+-------+------------------+\n",
      "|summary|Total_Compensation|\n",
      "+-------+------------------+\n",
      "|  count|            233023|\n",
      "|   mean| 97952.90933139446|\n",
      "| stddev| 67693.72893331043|\n",
      "|    min|               0.0|\n",
      "|    max|         653498.15|\n",
      "+-------+------------------+\n",
      "\n"
     ]
    },
    {
     "name": "stderr",
     "output_type": "stream",
     "text": [
      "\r",
      "                                                                                \r"
     ]
    }
   ],
   "source": [
    "train_data.describe().show()"
   ]
  },
  {
   "cell_type": "code",
   "execution_count": 57,
   "metadata": {},
   "outputs": [
    {
     "name": "stderr",
     "output_type": "stream",
     "text": [
      "\r",
      "[Stage 214:>                                                        (0 + 1) / 1]\r"
     ]
    },
    {
     "name": "stdout",
     "output_type": "stream",
     "text": [
      "+-------+------------------+\n",
      "|summary|Total_Compensation|\n",
      "+-------+------------------+\n",
      "|  count|             58678|\n",
      "|   mean| 98226.95431695088|\n",
      "| stddev| 67805.87043346165|\n",
      "|    min|               0.0|\n",
      "|    max|         510574.44|\n",
      "+-------+------------------+\n",
      "\n"
     ]
    },
    {
     "name": "stderr",
     "output_type": "stream",
     "text": [
      "\r",
      "                                                                                \r"
     ]
    }
   ],
   "source": [
    "test_data.describe().show()"
   ]
  },
  {
   "cell_type": "markdown",
   "metadata": {
    "application/vnd.databricks.v1+cell": {
     "inputWidgets": {},
     "nuid": "114ba72f-16e5-4657-bbaf-969596890cca",
     "showTitle": false,
     "title": ""
    },
    "id": "XSZnLJe5QP0i"
   },
   "source": [
    "### 7. Fit Linear Regression model on the data and check its performance"
   ]
  },
  {
   "cell_type": "code",
   "execution_count": 58,
   "metadata": {
    "id": "bjXSlK7OQP0i"
   },
   "outputs": [],
   "source": [
    "lr = LinearRegression(featuresCol=\"features\" , labelCol=\"Total_Compensation\")"
   ]
  },
  {
   "cell_type": "code",
   "execution_count": 59,
   "metadata": {
    "scrolled": true
   },
   "outputs": [
    {
     "name": "stderr",
     "output_type": "stream",
     "text": [
      "                                                                                \r"
     ]
    },
    {
     "name": "stdout",
     "output_type": "stream",
     "text": [
      "23/07/16 21:15:07 WARN BLAS: Failed to load implementation from: com.github.fommil.netlib.NativeSystemBLAS\n",
      "23/07/16 21:15:07 WARN BLAS: Failed to load implementation from: com.github.fommil.netlib.NativeRefBLAS\n"
     ]
    },
    {
     "name": "stderr",
     "output_type": "stream",
     "text": [
      "                                                                                \r"
     ]
    }
   ],
   "source": [
    "lr_model = lr.fit(train_data)"
   ]
  },
  {
   "cell_type": "code",
   "execution_count": 60,
   "metadata": {},
   "outputs": [
    {
     "name": "stderr",
     "output_type": "stream",
     "text": [
      "                                                                                \r"
     ]
    }
   ],
   "source": [
    "test_results = lr_model.evaluate(test_data)"
   ]
  },
  {
   "cell_type": "code",
   "execution_count": 61,
   "metadata": {
    "scrolled": true
   },
   "outputs": [
    {
     "data": {
      "text/plain": [
       "1758.067262371722"
      ]
     },
     "execution_count": 61,
     "metadata": {},
     "output_type": "execute_result"
    }
   ],
   "source": [
    "test_results.rootMeanSquaredError"
   ]
  },
  {
   "cell_type": "code",
   "execution_count": 62,
   "metadata": {
    "scrolled": true
   },
   "outputs": [
    {
     "data": {
      "text/plain": [
       "0.999327729918161"
      ]
     },
     "execution_count": 62,
     "metadata": {},
     "output_type": "execute_result"
    }
   ],
   "source": [
    "test_results.r2"
   ]
  },
  {
   "cell_type": "markdown",
   "metadata": {},
   "source": [
    "The **RMSE is approx 1760** which is **very good** considering that the **stddev of total_compensation is ~67,700**."
   ]
  },
  {
   "cell_type": "markdown",
   "metadata": {
    "application/vnd.databricks.v1+cell": {
     "inputWidgets": {},
     "nuid": "51e30540-ef2e-4239-b323-ba406674e87b",
     "showTitle": false,
     "title": ""
    },
    "id": "yb53Fy9yQP0i"
   },
   "source": [
    "### 8. Fit Decision Tree Regression model on the data and check its performance (Optional)"
   ]
  },
  {
   "cell_type": "code",
   "execution_count": 63,
   "metadata": {
    "scrolled": true
   },
   "outputs": [
    {
     "name": "stderr",
     "output_type": "stream",
     "text": [
      "[Stage 304:>                                                        (0 + 1) / 1]\r"
     ]
    },
    {
     "name": "stdout",
     "output_type": "stream",
     "text": [
      "23/07/16 21:15:23 WARN MemoryStore: Not enough space to cache rdd_679_0 in memory! (computed 293.9 MiB so far)\n",
      "23/07/16 21:15:23 WARN BlockManager: Persisting block rdd_679_0 to disk instead.\n",
      "23/07/16 21:15:31 WARN MemoryStore: Not enough space to cache rdd_679_0 in memory! (computed 294.1 MiB so far)\n"
     ]
    },
    {
     "name": "stderr",
     "output_type": "stream",
     "text": [
      "\r",
      "                                                                                \r"
     ]
    },
    {
     "name": "stdout",
     "output_type": "stream",
     "text": [
      "23/07/16 21:15:35 WARN MemoryStore: Not enough space to cache rdd_679_0 in memory! (computed 294.1 MiB so far)\n"
     ]
    },
    {
     "name": "stderr",
     "output_type": "stream",
     "text": [
      "[Stage 313:>                                                        (0 + 1) / 1]\r"
     ]
    },
    {
     "name": "stdout",
     "output_type": "stream",
     "text": [
      "23/07/16 21:15:44 WARN MemoryStore: Not enough space to cache rdd_717_0 in memory! (computed 293.9 MiB so far)\n",
      "23/07/16 21:15:44 WARN BlockManager: Persisting block rdd_717_0 to disk instead.\n",
      "23/07/16 21:15:51 WARN MemoryStore: Not enough space to cache rdd_717_0 in memory! (computed 294.1 MiB so far)\n"
     ]
    },
    {
     "name": "stderr",
     "output_type": "stream",
     "text": [
      "\r",
      "                                                                                \r"
     ]
    },
    {
     "name": "stdout",
     "output_type": "stream",
     "text": [
      "23/07/16 21:15:55 WARN MemoryStore: Not enough space to cache rdd_717_0 in memory! (computed 294.1 MiB so far)\n"
     ]
    },
    {
     "name": "stderr",
     "output_type": "stream",
     "text": [
      "                                                                                \r"
     ]
    },
    {
     "name": "stdout",
     "output_type": "stream",
     "text": [
      "23/07/16 21:15:59 WARN MemoryStore: Not enough space to cache rdd_717_0 in memory! (computed 294.1 MiB so far)\n"
     ]
    },
    {
     "name": "stderr",
     "output_type": "stream",
     "text": [
      "                                                                                \r"
     ]
    },
    {
     "name": "stdout",
     "output_type": "stream",
     "text": [
      "23/07/16 21:16:03 WARN MemoryStore: Not enough space to cache rdd_717_0 in memory! (computed 294.1 MiB so far)\n"
     ]
    },
    {
     "name": "stderr",
     "output_type": "stream",
     "text": [
      "[Stage 326:>                                                        (0 + 1) / 1]\r"
     ]
    },
    {
     "name": "stdout",
     "output_type": "stream",
     "text": [
      "23/07/16 21:16:08 WARN MemoryStore: Not enough space to cache rdd_756_0 in memory! (computed 293.9 MiB so far)\n",
      "23/07/16 21:16:08 WARN BlockManager: Persisting block rdd_756_0 to disk instead.\n",
      "23/07/16 21:16:16 WARN MemoryStore: Not enough space to cache rdd_756_0 in memory! (computed 294.1 MiB so far)\n"
     ]
    },
    {
     "name": "stderr",
     "output_type": "stream",
     "text": [
      "\r",
      "                                                                                \r"
     ]
    },
    {
     "name": "stdout",
     "output_type": "stream",
     "text": [
      "23/07/16 21:16:20 WARN MemoryStore: Not enough space to cache rdd_756_0 in memory! (computed 294.1 MiB so far)\n"
     ]
    },
    {
     "name": "stderr",
     "output_type": "stream",
     "text": [
      "                                                                                \r"
     ]
    },
    {
     "name": "stdout",
     "output_type": "stream",
     "text": [
      "23/07/16 21:16:24 WARN MemoryStore: Not enough space to cache rdd_756_0 in memory! (computed 294.1 MiB so far)\n"
     ]
    },
    {
     "name": "stderr",
     "output_type": "stream",
     "text": [
      "                                                                                \r"
     ]
    },
    {
     "name": "stdout",
     "output_type": "stream",
     "text": [
      "23/07/16 21:16:28 WARN MemoryStore: Not enough space to cache rdd_756_0 in memory! (computed 294.1 MiB so far)\n"
     ]
    },
    {
     "name": "stderr",
     "output_type": "stream",
     "text": [
      "                                                                                \r"
     ]
    },
    {
     "name": "stdout",
     "output_type": "stream",
     "text": [
      "23/07/16 21:16:32 WARN MemoryStore: Not enough space to cache rdd_756_0 in memory! (computed 294.1 MiB so far)\n"
     ]
    },
    {
     "name": "stderr",
     "output_type": "stream",
     "text": [
      "                                                                                \r"
     ]
    },
    {
     "name": "stdout",
     "output_type": "stream",
     "text": [
      "23/07/16 21:16:36 WARN MemoryStore: Not enough space to cache rdd_756_0 in memory! (computed 294.1 MiB so far)\n"
     ]
    },
    {
     "name": "stderr",
     "output_type": "stream",
     "text": [
      "[Stage 343:>                                                        (0 + 1) / 1]\r"
     ]
    },
    {
     "name": "stdout",
     "output_type": "stream",
     "text": [
      "23/07/16 21:16:45 WARN MemoryStore: Not enough space to cache rdd_806_0 in memory! (computed 293.9 MiB so far)\n",
      "23/07/16 21:16:45 WARN BlockManager: Persisting block rdd_806_0 to disk instead.\n",
      "23/07/16 21:16:53 WARN MemoryStore: Not enough space to cache rdd_806_0 in memory! (computed 294.1 MiB so far)\n"
     ]
    },
    {
     "name": "stderr",
     "output_type": "stream",
     "text": [
      "\r",
      "                                                                                \r"
     ]
    },
    {
     "name": "stdout",
     "output_type": "stream",
     "text": [
      "23/07/16 21:16:57 WARN MemoryStore: Not enough space to cache rdd_806_0 in memory! (computed 294.1 MiB so far)\n"
     ]
    },
    {
     "name": "stderr",
     "output_type": "stream",
     "text": [
      "[Stage 352:>                                                        (0 + 1) / 1]\r"
     ]
    },
    {
     "name": "stdout",
     "output_type": "stream",
     "text": [
      "23/07/16 21:17:06 WARN MemoryStore: Not enough space to cache rdd_844_0 in memory! (computed 293.9 MiB so far)\n",
      "23/07/16 21:17:06 WARN BlockManager: Persisting block rdd_844_0 to disk instead.\n",
      "23/07/16 21:17:14 WARN MemoryStore: Not enough space to cache rdd_844_0 in memory! (computed 294.1 MiB so far)\n"
     ]
    },
    {
     "name": "stderr",
     "output_type": "stream",
     "text": [
      "\r",
      "                                                                                \r"
     ]
    },
    {
     "name": "stdout",
     "output_type": "stream",
     "text": [
      "23/07/16 21:17:18 WARN MemoryStore: Not enough space to cache rdd_844_0 in memory! (computed 294.1 MiB so far)\n"
     ]
    },
    {
     "name": "stderr",
     "output_type": "stream",
     "text": [
      "                                                                                \r"
     ]
    },
    {
     "name": "stdout",
     "output_type": "stream",
     "text": [
      "23/07/16 21:17:22 WARN MemoryStore: Not enough space to cache rdd_844_0 in memory! (computed 294.1 MiB so far)\n"
     ]
    },
    {
     "name": "stderr",
     "output_type": "stream",
     "text": [
      "                                                                                \r"
     ]
    },
    {
     "name": "stdout",
     "output_type": "stream",
     "text": [
      "23/07/16 21:17:26 WARN MemoryStore: Not enough space to cache rdd_844_0 in memory! (computed 294.1 MiB so far)\n"
     ]
    },
    {
     "name": "stderr",
     "output_type": "stream",
     "text": [
      "[Stage 365:>                                                        (0 + 1) / 1]\r"
     ]
    },
    {
     "name": "stdout",
     "output_type": "stream",
     "text": [
      "23/07/16 21:17:31 WARN MemoryStore: Not enough space to cache rdd_883_0 in memory! (computed 293.9 MiB so far)\n",
      "23/07/16 21:17:31 WARN BlockManager: Persisting block rdd_883_0 to disk instead.\n",
      "23/07/16 21:17:39 WARN MemoryStore: Not enough space to cache rdd_883_0 in memory! (computed 294.1 MiB so far)\n"
     ]
    },
    {
     "name": "stderr",
     "output_type": "stream",
     "text": [
      "\r",
      "                                                                                \r"
     ]
    },
    {
     "name": "stdout",
     "output_type": "stream",
     "text": [
      "23/07/16 21:17:43 WARN MemoryStore: Not enough space to cache rdd_883_0 in memory! (computed 294.1 MiB so far)\n"
     ]
    },
    {
     "name": "stderr",
     "output_type": "stream",
     "text": [
      "                                                                                \r"
     ]
    },
    {
     "name": "stdout",
     "output_type": "stream",
     "text": [
      "23/07/16 21:17:47 WARN MemoryStore: Not enough space to cache rdd_883_0 in memory! (computed 294.1 MiB so far)\n"
     ]
    },
    {
     "name": "stderr",
     "output_type": "stream",
     "text": [
      "                                                                                \r"
     ]
    },
    {
     "name": "stdout",
     "output_type": "stream",
     "text": [
      "23/07/16 21:17:51 WARN MemoryStore: Not enough space to cache rdd_883_0 in memory! (computed 294.1 MiB so far)\n"
     ]
    },
    {
     "name": "stderr",
     "output_type": "stream",
     "text": [
      "                                                                                \r"
     ]
    },
    {
     "name": "stdout",
     "output_type": "stream",
     "text": [
      "23/07/16 21:17:55 WARN MemoryStore: Not enough space to cache rdd_883_0 in memory! (computed 294.1 MiB so far)\n"
     ]
    },
    {
     "name": "stderr",
     "output_type": "stream",
     "text": [
      "[Stage 375:>                                                        (0 + 1) / 1]\r"
     ]
    },
    {
     "name": "stdout",
     "output_type": "stream",
     "text": [
      "23/07/16 21:17:59 WARN MemoryStore: Not enough space to cache rdd_883_0 in memory! (computed 294.1 MiB so far)\n"
     ]
    },
    {
     "name": "stderr",
     "output_type": "stream",
     "text": [
      "[Stage 382:>                                                        (0 + 1) / 1]\r"
     ]
    },
    {
     "name": "stdout",
     "output_type": "stream",
     "text": [
      "23/07/16 21:18:09 WARN MemoryStore: Not enough space to cache rdd_933_0 in memory! (computed 293.9 MiB so far)\n",
      "23/07/16 21:18:09 WARN BlockManager: Persisting block rdd_933_0 to disk instead.\n",
      "23/07/16 21:18:16 WARN MemoryStore: Not enough space to cache rdd_933_0 in memory! (computed 294.1 MiB so far)\n"
     ]
    },
    {
     "name": "stderr",
     "output_type": "stream",
     "text": [
      "\r",
      "                                                                                \r"
     ]
    },
    {
     "name": "stdout",
     "output_type": "stream",
     "text": [
      "23/07/16 21:18:21 WARN MemoryStore: Not enough space to cache rdd_933_0 in memory! (computed 294.1 MiB so far)\n"
     ]
    },
    {
     "name": "stderr",
     "output_type": "stream",
     "text": [
      "[Stage 391:>                                                        (0 + 1) / 1]\r"
     ]
    },
    {
     "name": "stdout",
     "output_type": "stream",
     "text": [
      "23/07/16 21:18:30 WARN MemoryStore: Not enough space to cache rdd_971_0 in memory! (computed 293.9 MiB so far)\n",
      "23/07/16 21:18:30 WARN BlockManager: Persisting block rdd_971_0 to disk instead.\n",
      "23/07/16 21:18:37 WARN MemoryStore: Not enough space to cache rdd_971_0 in memory! (computed 294.1 MiB so far)\n"
     ]
    },
    {
     "name": "stderr",
     "output_type": "stream",
     "text": [
      "\r",
      "                                                                                \r"
     ]
    },
    {
     "name": "stdout",
     "output_type": "stream",
     "text": [
      "23/07/16 21:18:41 WARN MemoryStore: Not enough space to cache rdd_971_0 in memory! (computed 294.1 MiB so far)\n"
     ]
    },
    {
     "name": "stderr",
     "output_type": "stream",
     "text": [
      "                                                                                \r"
     ]
    },
    {
     "name": "stdout",
     "output_type": "stream",
     "text": [
      "23/07/16 21:18:45 WARN MemoryStore: Not enough space to cache rdd_971_0 in memory! (computed 294.1 MiB so far)\n"
     ]
    },
    {
     "name": "stderr",
     "output_type": "stream",
     "text": [
      "                                                                                \r"
     ]
    },
    {
     "name": "stdout",
     "output_type": "stream",
     "text": [
      "23/07/16 21:18:49 WARN MemoryStore: Not enough space to cache rdd_971_0 in memory! (computed 294.1 MiB so far)\n"
     ]
    },
    {
     "name": "stderr",
     "output_type": "stream",
     "text": [
      "                                                                                \r"
     ]
    },
    {
     "name": "stdout",
     "output_type": "stream",
     "text": [
      "23/07/16 21:18:53 WARN MemoryStore: Not enough space to cache rdd_1010_0 in memory! (computed 293.9 MiB so far)\n",
      "23/07/16 21:18:53 WARN BlockManager: Persisting block rdd_1010_0 to disk instead.\n"
     ]
    },
    {
     "name": "stderr",
     "output_type": "stream",
     "text": [
      "\r",
      "[Stage 404:>                                                        (0 + 1) / 1]\r"
     ]
    },
    {
     "name": "stdout",
     "output_type": "stream",
     "text": [
      "23/07/16 21:19:01 WARN MemoryStore: Not enough space to cache rdd_1010_0 in memory! (computed 294.1 MiB so far)\n"
     ]
    },
    {
     "name": "stderr",
     "output_type": "stream",
     "text": [
      "\r",
      "                                                                                \r"
     ]
    },
    {
     "name": "stdout",
     "output_type": "stream",
     "text": [
      "23/07/16 21:19:05 WARN MemoryStore: Not enough space to cache rdd_1010_0 in memory! (computed 294.1 MiB so far)\n"
     ]
    },
    {
     "name": "stderr",
     "output_type": "stream",
     "text": [
      "                                                                                \r"
     ]
    },
    {
     "name": "stdout",
     "output_type": "stream",
     "text": [
      "23/07/16 21:19:08 WARN MemoryStore: Not enough space to cache rdd_1010_0 in memory! (computed 294.1 MiB so far)\n"
     ]
    },
    {
     "name": "stderr",
     "output_type": "stream",
     "text": [
      "                                                                                \r"
     ]
    },
    {
     "name": "stdout",
     "output_type": "stream",
     "text": [
      "23/07/16 21:19:12 WARN MemoryStore: Not enough space to cache rdd_1010_0 in memory! (computed 294.1 MiB so far)\n"
     ]
    },
    {
     "name": "stderr",
     "output_type": "stream",
     "text": [
      "                                                                                \r"
     ]
    },
    {
     "name": "stdout",
     "output_type": "stream",
     "text": [
      "23/07/16 21:19:16 WARN MemoryStore: Not enough space to cache rdd_1010_0 in memory! (computed 294.1 MiB so far)\n"
     ]
    },
    {
     "name": "stderr",
     "output_type": "stream",
     "text": [
      "                                                                                \r"
     ]
    },
    {
     "name": "stdout",
     "output_type": "stream",
     "text": [
      "23/07/16 21:19:20 WARN MemoryStore: Not enough space to cache rdd_1010_0 in memory! (computed 294.1 MiB so far)\n"
     ]
    },
    {
     "name": "stderr",
     "output_type": "stream",
     "text": [
      "[Stage 421:>                                                        (0 + 1) / 1]\r"
     ]
    },
    {
     "name": "stdout",
     "output_type": "stream",
     "text": [
      "23/07/16 21:19:38 WARN MemoryStore: Not enough space to cache rdd_1054_0 in memory! (computed 189.2 MiB so far)\n",
      "23/07/16 21:19:38 WARN BlockManager: Persisting block rdd_1054_0 to disk instead.\n",
      "23/07/16 21:19:50 WARN MemoryStore: Not enough space to cache rdd_1054_0 in memory! (computed 294.1 MiB so far)\n"
     ]
    },
    {
     "name": "stderr",
     "output_type": "stream",
     "text": [
      "\r",
      "                                                                                \r"
     ]
    },
    {
     "name": "stdout",
     "output_type": "stream",
     "text": [
      "23/07/16 21:19:56 WARN MemoryStore: Not enough space to cache rdd_1054_0 in memory! (computed 294.1 MiB so far)\n"
     ]
    },
    {
     "name": "stderr",
     "output_type": "stream",
     "text": [
      "                                                                                \r"
     ]
    },
    {
     "name": "stdout",
     "output_type": "stream",
     "text": [
      "23/07/16 21:20:02 WARN MemoryStore: Not enough space to cache rdd_1054_0 in memory! (computed 294.1 MiB so far)\n"
     ]
    },
    {
     "name": "stderr",
     "output_type": "stream",
     "text": [
      "                                                                                \r"
     ]
    },
    {
     "name": "stdout",
     "output_type": "stream",
     "text": [
      "23/07/16 21:20:08 WARN MemoryStore: Not enough space to cache rdd_1054_0 in memory! (computed 294.1 MiB so far)\n"
     ]
    },
    {
     "name": "stderr",
     "output_type": "stream",
     "text": [
      "                                                                                \r"
     ]
    },
    {
     "name": "stdout",
     "output_type": "stream",
     "text": [
      "23/07/16 21:20:15 WARN MemoryStore: Not enough space to cache rdd_1054_0 in memory! (computed 294.1 MiB so far)\n"
     ]
    },
    {
     "name": "stderr",
     "output_type": "stream",
     "text": [
      "                                                                                \r"
     ]
    },
    {
     "name": "stdout",
     "output_type": "stream",
     "text": [
      "23/07/16 21:20:21 WARN MemoryStore: Not enough space to cache rdd_1054_0 in memory! (computed 294.1 MiB so far)\n"
     ]
    },
    {
     "name": "stderr",
     "output_type": "stream",
     "text": [
      "[Stage 433:>                                                        (0 + 1) / 1]\r"
     ]
    },
    {
     "name": "stdout",
     "output_type": "stream",
     "text": [
      "Best maxDepth: 6\n",
      "Root Mean Squared Error (RMSE): 6525.927023568768\n"
     ]
    },
    {
     "name": "stderr",
     "output_type": "stream",
     "text": [
      "\r",
      "                                                                                \r"
     ]
    }
   ],
   "source": [
    "from pyspark.ml.tuning import ParamGridBuilder, CrossValidator\n",
    "\n",
    "# Create a Decision Tree Regression model\n",
    "dt = DecisionTreeRegressor(featuresCol ='features', labelCol = 'Total_Compensation')\n",
    "\n",
    "# Define the parameter grid for tuning\n",
    "param_grid = ParamGridBuilder() \\\n",
    "    .addGrid(dt.maxDepth, [2, 4, 6]) \\\n",
    "    .build()\n",
    "\n",
    "# Define the evaluator for the metric\n",
    "evaluator = RegressionEvaluator(labelCol=\"Total_Compensation\", predictionCol=\"prediction\", metricName=\"rmse\")\n",
    "\n",
    "# Create a cross validator\n",
    "crossval = CrossValidator(estimator=dt,\n",
    "                          estimatorParamMaps=param_grid,\n",
    "                          evaluator=evaluator,\n",
    "                          numFolds=3)\n",
    "\n",
    "# Fit the cross validator to the training data\n",
    "cv_model = crossval.fit(train_data)\n",
    "\n",
    "# Get the best model from the cross validation\n",
    "best_model = cv_model.bestModel\n",
    "\n",
    "# Make predictions on the test data using the best model\n",
    "predictions = best_model.transform(test_data)\n",
    "\n",
    "# Evaluate the model's performance\n",
    "rmse = evaluator.evaluate(predictions)\n",
    "\n",
    "# Print the best model's maxDepth parameter\n",
    "print(\"Best maxDepth:\", best_model.getMaxDepth())\n",
    "# Print the RMSE\n",
    "print(\"Root Mean Squared Error (RMSE):\", rmse)\n"
   ]
  },
  {
   "cell_type": "markdown",
   "metadata": {},
   "source": [
    "Note: **I am still researching on how to mitigate these WARNINGs. It seems one option would be to specify more memory for pyspark. I am not sure if repartitioning it would help as I am working on a standalone machine. But would specifying partition size still make a difference? Like is that something one can tune to get better persormance? Any suggestions?**"
   ]
  },
  {
   "cell_type": "markdown",
   "metadata": {
    "application/vnd.databricks.v1+cell": {
     "inputWidgets": {},
     "nuid": "addb469a-37a3-47e8-8e65-4972a889cc4f",
     "showTitle": false,
     "title": ""
    },
    "id": "NPagi7ftQP0i"
   },
   "source": [
    "### Model Persistence (Optional)\n",
    "Model persistence means saving your model to a disk. After you finalize your model for prediction depending upon the performance, you need to save the model to the disk. Let's say, you finalize 'lrmodel' to be used for in production environment i.e. in your application. We use the following code to save it."
   ]
  },
  {
   "cell_type": "markdown",
   "metadata": {
    "id": "Id1_cG1yb_7n"
   },
   "source": [
    "##### Saving the model"
   ]
  },
  {
   "cell_type": "code",
   "execution_count": 64,
   "metadata": {
    "application/vnd.databricks.v1+cell": {
     "inputWidgets": {},
     "nuid": "be6d56cb-e99e-4b37-993b-ef66c9bf7963",
     "showTitle": false,
     "title": ""
    },
    "id": "VHHfHnTgQP0i",
    "outputId": "abf31351-bbb5-4a5f-ced2-6b705a4825e2"
   },
   "outputs": [
    {
     "name": "stderr",
     "output_type": "stream",
     "text": [
      "                                                                                \r"
     ]
    }
   ],
   "source": [
    "# use save() method to save the model\n",
    "# write().overwrite() is usually used when you want to replace the older model with a new one\n",
    "# It might happen that you wish to retrain your model and save it at the same the place\n",
    "lr_model.write().overwrite().save(\"/Users/harshit/Desktop/models/lrmodel\")"
   ]
  },
  {
   "cell_type": "markdown",
   "metadata": {
    "id": "VzsuP83tcEVN"
   },
   "source": [
    "##### Loading the model"
   ]
  },
  {
   "cell_type": "code",
   "execution_count": null,
   "metadata": {
    "id": "273mlbIPb8rY"
   },
   "outputs": [],
   "source": [
    "# import PipelineModel from pyspark.ml package\n",
    "from pyspark.ml import PipelineModel\n",
    "\n",
    "# load the model from the location it is stored\n",
    "# The loaded model acts as PipelineModel\n",
    "pipemodel = PipelineModel.load(\"/Users/harshit/Desktop/models/lrmodel\")\n",
    "\n",
    "# use the PipelineModel object to perform prediciton on test data. \n",
    "# Use .transform() to perfrom prediction\n",
    "# prediction = pipemodel.transform(test_data)\n",
    "\n",
    "# print the results\n",
    "# prediction.select('label', 'rawPrediction', 'probability', 'prediction').show(5)\n",
    "# prediction.show(5, vertical=True)"
   ]
  },
  {
   "cell_type": "markdown",
   "metadata": {},
   "source": [
    "Getting the following Error on running above cell: <br>\n",
    "\n",
    "**PicklingError: Could not serialize object: IndexError: tuple index out of range**\n",
    "\n",
    "\n",
    "\n"
   ]
  },
  {
   "cell_type": "code",
   "execution_count": 66,
   "metadata": {},
   "outputs": [
    {
     "name": "stdout",
     "output_type": "stream",
     "text": [
      "Python version: 3.11.4 | packaged by conda-forge | (main, Jun 10 2023, 18:10:28) [Clang 15.0.7 ]\n"
     ]
    }
   ],
   "source": [
    "# Checking Python version\n",
    "import sys\n",
    "\n",
    "print(\"Python version:\", sys.version)"
   ]
  },
  {
   "cell_type": "code",
   "execution_count": 67,
   "metadata": {},
   "outputs": [
    {
     "name": "stdout",
     "output_type": "stream",
     "text": [
      "PySpark version: 3.3.1\n"
     ]
    }
   ],
   "source": [
    "# Checking PySpark version\n",
    "import pyspark\n",
    "\n",
    "print(\"PySpark version:\", pyspark.__version__)"
   ]
  },
  {
   "cell_type": "markdown",
   "metadata": {},
   "source": [
    "**As per:**<br>\n",
    "\n",
    "https://stackoverflow.com/questions/75048688/picklingerror-could-not-serialize-object-indexerror-tuple-index-out-of-range <br>\n",
    "\n",
    "I will have to downgrade the python version to 3.10.x and below to resolve this error. However, that holds true for PySpark version 3.4 .. I'll try setting up a new environment and seeing if this error goes away. \n",
    "\n",
    "<br> **Any Suggestions?**"
   ]
  }
 ],
 "metadata": {
  "application/vnd.databricks.v1+notebook": {
   "dashboards": [],
   "language": "python",
   "notebookMetadata": {
    "pythonIndentUnit": 2
   },
   "notebookName": "In-Class Exercise (Spark ML)",
   "notebookOrigID": 3796726700441172,
   "widgets": {}
  },
  "colab": {
   "collapsed_sections": [],
   "name": "Part-2 Question Notebook-.ipynb",
   "provenance": []
  },
  "kernelspec": {
   "display_name": "Python 3 (ipykernel)",
   "language": "python",
   "name": "python3"
  },
  "language_info": {
   "codemirror_mode": {
    "name": "ipython",
    "version": 3
   },
   "file_extension": ".py",
   "mimetype": "text/x-python",
   "name": "python",
   "nbconvert_exporter": "python",
   "pygments_lexer": "ipython3",
   "version": "3.11.4"
  }
 },
 "nbformat": 4,
 "nbformat_minor": 1
}
